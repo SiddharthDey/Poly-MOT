{
 "cells": [
  {
   "cell_type": "code",
   "execution_count": 1,
   "id": "afe32f4c",
   "metadata": {
    "ExecuteTime": {
     "end_time": "2023-05-17T07:46:23.432996Z",
     "start_time": "2023-05-17T07:46:23.333647Z"
    }
   },
   "outputs": [],
   "source": [
    "import numpy as np\n",
    "import pdb"
   ]
  },
  {
   "cell_type": "code",
   "execution_count": 2,
   "id": "f0af8d60",
   "metadata": {
    "ExecuteTime": {
     "end_time": "2023-05-17T07:52:01.025764Z",
     "start_time": "2023-05-17T07:52:01.020078Z"
    }
   },
   "outputs": [],
   "source": [
    "det = np.array([2,4])\n",
    "tra = np.array([2,3,4,2,4])\n",
    "m = [2, 4]"
   ]
  },
  {
   "cell_type": "code",
   "execution_count": 10,
   "id": "f3797350",
   "metadata": {
    "ExecuteTime": {
     "end_time": "2023-05-17T07:49:41.864166Z",
     "start_time": "2023-05-17T07:49:41.855739Z"
    }
   },
   "outputs": [],
   "source": [
    "def spec_metric_mask(cls_list: list, det_labels: np.array, tra_labels: np.array) -> np.array:\n",
    "    \"\"\"\n",
    "    mask matrix, merge all object instance index of the specific class\n",
    "    :param cls_list: list, valid category list\n",
    "    :param det_labels: np.array, class labels of detections\n",
    "    :param tra_labels: np.array, class labels of trajectories\n",
    "    :return: np.array[bool], True denotes invalid(the object's category is not specific)\n",
    "    \"\"\"\n",
    "    det_num, tra_num = len(det_labels), len(tra_labels)\n",
    "    metric_mask = np.ones((det_num, tra_num), dtype=bool)\n",
    "    merge_det_idx = [idx for idx, cls in enumerate(det_labels) if cls in cls_list]\n",
    "    merge_tra_idx = [idx for idx, cls in enumerate(tra_labels) if cls in cls_list]\n",
    "    metric_mask[np.ix_(merge_det_idx, merge_tra_idx)] = False\n",
    "    return metric_mask\n",
    "def mask_between_boxes(labels_a: np.array, labels_b: np.array):\n",
    "    \"\"\"\n",
    "    :param labels_a: np.array, labels of a collection\n",
    "    :param labels_b: np.array, labels of b collection\n",
    "    :return: np.array[bool] np.array , mask matrix, 1 denotes different, 0 denotes same\n",
    "    \"\"\"\n",
    "    mask = labels_a.reshape(-1, 1).repeat(len(labels_b), axis=1) != labels_b.reshape(1, -1).repeat(len(labels_a),\n",
    "                                                                                                   axis=0)\n",
    "    return mask"
   ]
  },
  {
   "cell_type": "code",
   "execution_count": 17,
   "id": "c3be122e",
   "metadata": {
    "ExecuteTime": {
     "end_time": "2023-05-17T07:52:03.182387Z",
     "start_time": "2023-05-17T07:52:03.176077Z"
    }
   },
   "outputs": [
    {
     "data": {
      "text/plain": [
       "array([[False,  True,  True, False,  True],\n",
       "       [ True,  True, False,  True, False]])"
      ]
     },
     "execution_count": 17,
     "metadata": {},
     "output_type": "execute_result"
    }
   ],
   "source": [
    "np.logical_or(spec_metric_mask(m, det, tra), mask_between_boxes(det, tra))"
   ]
  },
  {
   "cell_type": "code",
   "execution_count": 18,
   "id": "1e5f1e1d",
   "metadata": {
    "ExecuteTime": {
     "end_time": "2023-05-17T07:52:46.804662Z",
     "start_time": "2023-05-17T07:52:46.796097Z"
    }
   },
   "outputs": [],
   "source": [
    "def mask_tras_dets(cls_num, det_labels, tra_labels) -> np.array:\n",
    "    \"\"\"\n",
    "    mask invalid cost between tras and dets\n",
    "    :return: np.array[bool], [cls_num, det_num, tra_num], True denotes valid (det label == tra label == cls idx)\n",
    "    \"\"\"\n",
    "    det_num, tra_num = len(det_labels), len(tra_labels)\n",
    "    cls_mask = np.ones(shape=(cls_num, det_num, tra_num)) * np.arange(cls_num)[:, None, None]\n",
    "    # [det_num, tra_num], True denotes invalid(diff cls)\n",
    "    same_mask = mask_between_boxes(det_labels, tra_labels)\n",
    "    # [det_num, tra_num], invalid idx assign -1\n",
    "    tmp_labels = tra_labels[None, :].repeat(det_num, axis=0)\n",
    "    tmp_labels[np.where(same_mask)] = -1\n",
    "    return tmp_labels[None, :, :].repeat(cls_num, axis=0) == cls_mask"
   ]
  },
  {
   "cell_type": "code",
   "execution_count": 171,
   "id": "68a8f8b2",
   "metadata": {
    "ExecuteTime": {
     "end_time": "2023-05-17T08:39:42.122241Z",
     "start_time": "2023-05-17T08:39:42.114865Z"
    }
   },
   "outputs": [],
   "source": [
    "vm = mask_tras_dets(5, det, tra)"
   ]
  },
  {
   "cell_type": "code",
   "execution_count": 172,
   "id": "0823091d",
   "metadata": {
    "ExecuteTime": {
     "end_time": "2023-05-17T08:39:42.299351Z",
     "start_time": "2023-05-17T08:39:42.292564Z"
    }
   },
   "outputs": [],
   "source": [
    "cost = np.ones((5, len(det), len(tra)))\n",
    "c = np.arange(10).reshape(2,5)"
   ]
  },
  {
   "cell_type": "code",
   "execution_count": 173,
   "id": "8b7a4029",
   "metadata": {
    "ExecuteTime": {
     "end_time": "2023-05-17T08:39:42.606494Z",
     "start_time": "2023-05-17T08:39:42.600642Z"
    }
   },
   "outputs": [],
   "source": [
    "cost[m] = c"
   ]
  },
  {
   "cell_type": "code",
   "execution_count": 191,
   "id": "f21b8f4b",
   "metadata": {
    "ExecuteTime": {
     "end_time": "2023-05-17T10:08:30.148872Z",
     "start_time": "2023-05-17T10:08:30.143546Z"
    }
   },
   "outputs": [],
   "source": [
    "a, b = [1,2], []"
   ]
  },
  {
   "cell_type": "code",
   "execution_count": 187,
   "id": "4c096fd5",
   "metadata": {
    "ExecuteTime": {
     "end_time": "2023-05-17T10:02:47.096391Z",
     "start_time": "2023-05-17T10:02:47.087396Z"
    }
   },
   "outputs": [
    {
     "data": {
      "text/plain": [
       "array([[1., 1.],\n",
       "       [1., 1.]])"
      ]
     },
     "execution_count": 187,
     "metadata": {},
     "output_type": "execute_result"
    }
   ],
   "source": [
    "cost[0][np.ix_([0, 1], [2, 4])]"
   ]
  },
  {
   "cell_type": "code",
   "execution_count": 175,
   "id": "bd294c93",
   "metadata": {
    "ExecuteTime": {
     "end_time": "2023-05-17T09:07:10.879708Z",
     "start_time": "2023-05-17T09:07:10.848209Z"
    }
   },
   "outputs": [
    {
     "ename": "NameError",
     "evalue": "name 'sad' is not defined",
     "output_type": "error",
     "traceback": [
      "\u001b[0;31m---------------------------------------------------------------------------\u001b[0m",
      "\u001b[0;31mNameError\u001b[0m                                 Traceback (most recent call last)",
      "Cell \u001b[0;32mIn[175], line 1\u001b[0m\n\u001b[0;32m----> 1\u001b[0m \u001b[43msad\u001b[49m \u001b[38;5;241m==\u001b[39m \u001b[38;5;28;01mNone\u001b[39;00m\n",
      "\u001b[0;31mNameError\u001b[0m: name 'sad' is not defined"
     ]
    }
   ],
   "source": [
    "sad == None"
   ]
  },
  {
   "cell_type": "code",
   "execution_count": 178,
   "id": "550079d5",
   "metadata": {
    "ExecuteTime": {
     "end_time": "2023-05-17T09:08:33.546240Z",
     "start_time": "2023-05-17T09:08:33.537798Z"
    }
   },
   "outputs": [
    {
     "data": {
      "text/plain": [
       "{'two_stage': None}"
      ]
     },
     "execution_count": 178,
     "metadata": {},
     "output_type": "execute_result"
    }
   ],
   "source": [
    "{'two_stage': 1 - two_cost if two_cost is not None else None}"
   ]
  },
  {
   "cell_type": "code",
   "execution_count": 196,
   "id": "4dd11e6e",
   "metadata": {
    "ExecuteTime": {
     "end_time": "2023-05-17T12:47:16.444210Z",
     "start_time": "2023-05-17T12:47:16.418122Z"
    }
   },
   "outputs": [
    {
     "ename": "TypeError",
     "evalue": "ufunc 'bitwise_or' not supported for the input types, and the inputs could not be safely coerced to any supported types according to the casting rule ''safe''",
     "output_type": "error",
     "traceback": [
      "\u001b[0;31m---------------------------------------------------------------------------\u001b[0m",
      "\u001b[0;31mTypeError\u001b[0m                                 Traceback (most recent call last)",
      "Cell \u001b[0;32mIn[196], line 3\u001b[0m\n\u001b[1;32m      1\u001b[0m a \u001b[38;5;241m=\u001b[39m np\u001b[38;5;241m.\u001b[39marray([\u001b[38;5;241m1\u001b[39m,\u001b[38;5;241m2\u001b[39m,\u001b[38;5;241m4\u001b[39m,\u001b[38;5;241m5\u001b[39m])\n\u001b[1;32m      2\u001b[0m b \u001b[38;5;241m=\u001b[39m np\u001b[38;5;241m.\u001b[39marray([])\n\u001b[0;32m----> 3\u001b[0m \u001b[43ma\u001b[49m\u001b[43m \u001b[49m\u001b[38;5;241;43m|\u001b[39;49m\u001b[43m \u001b[49m\u001b[43mb\u001b[49m\n",
      "\u001b[0;31mTypeError\u001b[0m: ufunc 'bitwise_or' not supported for the input types, and the inputs could not be safely coerced to any supported types according to the casting rule ''safe''"
     ]
    }
   ],
   "source": [
    "a = np.array([1,2,4,5])\n",
    "b = np.array([])\n",
    "a | b"
   ]
  },
  {
   "cell_type": "code",
   "execution_count": 185,
   "id": "c904c430",
   "metadata": {
    "ExecuteTime": {
     "end_time": "2023-05-17T09:58:03.576863Z",
     "start_time": "2023-05-17T09:58:03.571281Z"
    }
   },
   "outputs": [],
   "source": [
    "a = np.concatenate((a, b))"
   ]
  },
  {
   "cell_type": "code",
   "execution_count": 192,
   "id": "f7f96374",
   "metadata": {
    "ExecuteTime": {
     "end_time": "2023-05-17T10:08:33.277385Z",
     "start_time": "2023-05-17T10:08:33.272513Z"
    }
   },
   "outputs": [],
   "source": [
    "a += b"
   ]
  },
  {
   "cell_type": "code",
   "execution_count": 193,
   "id": "9e3181af",
   "metadata": {
    "ExecuteTime": {
     "end_time": "2023-05-17T10:08:33.513024Z",
     "start_time": "2023-05-17T10:08:33.505616Z"
    }
   },
   "outputs": [
    {
     "data": {
      "text/plain": [
       "[1, 2]"
      ]
     },
     "execution_count": 193,
     "metadata": {},
     "output_type": "execute_result"
    }
   ],
   "source": [
    "a"
   ]
  },
  {
   "cell_type": "code",
   "execution_count": 198,
   "id": "ca6be83e",
   "metadata": {
    "ExecuteTime": {
     "end_time": "2023-05-17T12:47:20.661556Z",
     "start_time": "2023-05-17T12:47:20.633573Z"
    }
   },
   "outputs": [
    {
     "ename": "AttributeError",
     "evalue": "'numpy.ndarray' object has no attribute 'dim'",
     "output_type": "error",
     "traceback": [
      "\u001b[0;31m---------------------------------------------------------------------------\u001b[0m",
      "\u001b[0;31mAttributeError\u001b[0m                            Traceback (most recent call last)",
      "Cell \u001b[0;32mIn[198], line 1\u001b[0m\n\u001b[0;32m----> 1\u001b[0m \u001b[43ma\u001b[49m\u001b[38;5;241;43m.\u001b[39;49m\u001b[43mdim\u001b[49m\n",
      "\u001b[0;31mAttributeError\u001b[0m: 'numpy.ndarray' object has no attribute 'dim'"
     ]
    }
   ],
   "source": [
    "a.ndim"
   ]
  },
  {
   "cell_type": "code",
   "execution_count": 3,
   "id": "47db3bf8",
   "metadata": {},
   "outputs": [
    {
     "name": "stdout",
     "output_type": "stream",
     "text": [
      "Requirement already satisfied: jupyter_contrib_nbextensions in /home/xiaoyu.li/.conda/envs/polymotv2/lib/python3.7/site-packages (0.7.0)\n",
      "Requirement already satisfied: jupyter-nbextensions-configurator>=0.4.0 in /home/xiaoyu.li/.conda/envs/polymotv2/lib/python3.7/site-packages (from jupyter_contrib_nbextensions) (0.6.3)\n",
      "Requirement already satisfied: notebook>=6.0 in /home/xiaoyu.li/.conda/envs/polymotv2/lib/python3.7/site-packages (from jupyter_contrib_nbextensions) (6.5.4)\n",
      "Requirement already satisfied: tornado in /home/xiaoyu.li/.conda/envs/polymotv2/lib/python3.7/site-packages (from jupyter_contrib_nbextensions) (6.2)\n",
      "Requirement already satisfied: jupyter-contrib-core>=0.3.3 in /home/xiaoyu.li/.conda/envs/polymotv2/lib/python3.7/site-packages (from jupyter_contrib_nbextensions) (0.4.2)\n",
      "Requirement already satisfied: nbconvert>=6.0 in /home/xiaoyu.li/.conda/envs/polymotv2/lib/python3.7/site-packages (from jupyter_contrib_nbextensions) (7.6.0)\n",
      "Requirement already satisfied: ipython-genutils in /home/xiaoyu.li/.conda/envs/polymotv2/lib/python3.7/site-packages (from jupyter_contrib_nbextensions) (0.2.0)\n",
      "Requirement already satisfied: lxml in /home/xiaoyu.li/.conda/envs/polymotv2/lib/python3.7/site-packages (from jupyter_contrib_nbextensions) (4.9.2)\n",
      "Requirement already satisfied: jupyter-highlight-selected-word>=0.1.1 in /home/xiaoyu.li/.conda/envs/polymotv2/lib/python3.7/site-packages (from jupyter_contrib_nbextensions) (0.2.0)\n",
      "Requirement already satisfied: traitlets>=4.1 in /home/xiaoyu.li/.conda/envs/polymotv2/lib/python3.7/site-packages (from jupyter_contrib_nbextensions) (5.9.0)\n",
      "Requirement already satisfied: jupyter-core in /home/xiaoyu.li/.conda/envs/polymotv2/lib/python3.7/site-packages (from jupyter_contrib_nbextensions) (4.12.0)\n",
      "Requirement already satisfied: setuptools in /home/xiaoyu.li/.conda/envs/polymotv2/lib/python3.7/site-packages (from jupyter-contrib-core>=0.3.3->jupyter_contrib_nbextensions) (65.6.3)\n",
      "Requirement already satisfied: pyyaml in /home/xiaoyu.li/.conda/envs/polymotv2/lib/python3.7/site-packages (from jupyter-nbextensions-configurator>=0.4.0->jupyter_contrib_nbextensions) (6.0)\n",
      "Requirement already satisfied: pygments>=2.4.1 in /home/xiaoyu.li/.conda/envs/polymotv2/lib/python3.7/site-packages (from nbconvert>=6.0->jupyter_contrib_nbextensions) (2.15.1)\n",
      "Requirement already satisfied: nbformat>=5.7 in /home/xiaoyu.li/.conda/envs/polymotv2/lib/python3.7/site-packages (from nbconvert>=6.0->jupyter_contrib_nbextensions) (5.8.0)\n",
      "Requirement already satisfied: bleach!=5.0.0 in /home/xiaoyu.li/.conda/envs/polymotv2/lib/python3.7/site-packages (from nbconvert>=6.0->jupyter_contrib_nbextensions) (6.0.0)\n",
      "Requirement already satisfied: jupyterlab-pygments in /home/xiaoyu.li/.conda/envs/polymotv2/lib/python3.7/site-packages (from nbconvert>=6.0->jupyter_contrib_nbextensions) (0.2.2)\n",
      "Requirement already satisfied: pandocfilters>=1.4.1 in /home/xiaoyu.li/.conda/envs/polymotv2/lib/python3.7/site-packages (from nbconvert>=6.0->jupyter_contrib_nbextensions) (1.5.0)\n",
      "Requirement already satisfied: mistune<4,>=2.0.3 in /home/xiaoyu.li/.conda/envs/polymotv2/lib/python3.7/site-packages (from nbconvert>=6.0->jupyter_contrib_nbextensions) (3.0.1)\n",
      "Requirement already satisfied: markupsafe>=2.0 in /home/xiaoyu.li/.conda/envs/polymotv2/lib/python3.7/site-packages (from nbconvert>=6.0->jupyter_contrib_nbextensions) (2.1.3)\n",
      "Requirement already satisfied: packaging in /home/xiaoyu.li/.conda/envs/polymotv2/lib/python3.7/site-packages (from nbconvert>=6.0->jupyter_contrib_nbextensions) (23.1)\n",
      "Requirement already satisfied: jinja2>=3.0 in /home/xiaoyu.li/.conda/envs/polymotv2/lib/python3.7/site-packages (from nbconvert>=6.0->jupyter_contrib_nbextensions) (3.1.2)\n",
      "Requirement already satisfied: tinycss2 in /home/xiaoyu.li/.conda/envs/polymotv2/lib/python3.7/site-packages (from nbconvert>=6.0->jupyter_contrib_nbextensions) (1.2.1)\n",
      "Requirement already satisfied: defusedxml in /home/xiaoyu.li/.conda/envs/polymotv2/lib/python3.7/site-packages (from nbconvert>=6.0->jupyter_contrib_nbextensions) (0.7.1)\n",
      "Requirement already satisfied: nbclient>=0.5.0 in /home/xiaoyu.li/.conda/envs/polymotv2/lib/python3.7/site-packages (from nbconvert>=6.0->jupyter_contrib_nbextensions) (0.7.4)\n",
      "Requirement already satisfied: importlib-metadata>=3.6 in /home/xiaoyu.li/.conda/envs/polymotv2/lib/python3.7/site-packages (from nbconvert>=6.0->jupyter_contrib_nbextensions) (6.7.0)\n",
      "Requirement already satisfied: beautifulsoup4 in /home/xiaoyu.li/.conda/envs/polymotv2/lib/python3.7/site-packages (from nbconvert>=6.0->jupyter_contrib_nbextensions) (4.12.2)\n",
      "Requirement already satisfied: six>=1.9.0 in /home/xiaoyu.li/.conda/envs/polymotv2/lib/python3.7/site-packages (from bleach!=5.0.0->nbconvert>=6.0->jupyter_contrib_nbextensions) (1.16.0)\n",
      "Requirement already satisfied: webencodings in /home/xiaoyu.li/.conda/envs/polymotv2/lib/python3.7/site-packages (from bleach!=5.0.0->nbconvert>=6.0->jupyter_contrib_nbextensions) (0.5.1)\n",
      "Requirement already satisfied: typing-extensions>=3.6.4 in /home/xiaoyu.li/.conda/envs/polymotv2/lib/python3.7/site-packages (from importlib-metadata>=3.6->nbconvert>=6.0->jupyter_contrib_nbextensions) (4.7.1)\n",
      "Requirement already satisfied: zipp>=0.5 in /home/xiaoyu.li/.conda/envs/polymotv2/lib/python3.7/site-packages (from importlib-metadata>=3.6->nbconvert>=6.0->jupyter_contrib_nbextensions) (3.15.0)\n",
      "Requirement already satisfied: jupyter-client>=6.1.12 in /home/xiaoyu.li/.conda/envs/polymotv2/lib/python3.7/site-packages (from nbclient>=0.5.0->nbconvert>=6.0->jupyter_contrib_nbextensions) (7.4.9)\n",
      "Requirement already satisfied: entrypoints in /home/xiaoyu.li/.conda/envs/polymotv2/lib/python3.7/site-packages (from jupyter-client>=6.1.12->nbclient>=0.5.0->nbconvert>=6.0->jupyter_contrib_nbextensions) (0.4)\n",
      "Requirement already satisfied: nest-asyncio>=1.5.4 in /home/xiaoyu.li/.conda/envs/polymotv2/lib/python3.7/site-packages (from jupyter-client>=6.1.12->nbclient>=0.5.0->nbconvert>=6.0->jupyter_contrib_nbextensions) (1.5.6)\n",
      "Requirement already satisfied: python-dateutil>=2.8.2 in /home/xiaoyu.li/.conda/envs/polymotv2/lib/python3.7/site-packages (from jupyter-client>=6.1.12->nbclient>=0.5.0->nbconvert>=6.0->jupyter_contrib_nbextensions) (2.8.2)\n",
      "Requirement already satisfied: pyzmq>=23.0 in /home/xiaoyu.li/.conda/envs/polymotv2/lib/python3.7/site-packages (from jupyter-client>=6.1.12->nbclient>=0.5.0->nbconvert>=6.0->jupyter_contrib_nbextensions) (25.1.0)\n",
      "Requirement already satisfied: jsonschema>=2.6 in /home/xiaoyu.li/.conda/envs/polymotv2/lib/python3.7/site-packages (from nbformat>=5.7->nbconvert>=6.0->jupyter_contrib_nbextensions) (4.17.3)\n",
      "Requirement already satisfied: fastjsonschema in /home/xiaoyu.li/.conda/envs/polymotv2/lib/python3.7/site-packages (from nbformat>=5.7->nbconvert>=6.0->jupyter_contrib_nbextensions) (2.17.1)\n",
      "Requirement already satisfied: pkgutil-resolve-name>=1.3.10 in /home/xiaoyu.li/.conda/envs/polymotv2/lib/python3.7/site-packages (from jsonschema>=2.6->nbformat>=5.7->nbconvert>=6.0->jupyter_contrib_nbextensions) (1.3.10)\n",
      "Requirement already satisfied: importlib-resources>=1.4.0 in /home/xiaoyu.li/.conda/envs/polymotv2/lib/python3.7/site-packages (from jsonschema>=2.6->nbformat>=5.7->nbconvert>=6.0->jupyter_contrib_nbextensions) (5.12.0)\n",
      "Requirement already satisfied: attrs>=17.4.0 in /home/xiaoyu.li/.conda/envs/polymotv2/lib/python3.7/site-packages (from jsonschema>=2.6->nbformat>=5.7->nbconvert>=6.0->jupyter_contrib_nbextensions) (23.1.0)\n",
      "Requirement already satisfied: pyrsistent!=0.17.0,!=0.17.1,!=0.17.2,>=0.14.0 in /home/xiaoyu.li/.conda/envs/polymotv2/lib/python3.7/site-packages (from jsonschema>=2.6->nbformat>=5.7->nbconvert>=6.0->jupyter_contrib_nbextensions) (0.19.3)\n",
      "Requirement already satisfied: ipykernel in /home/xiaoyu.li/.conda/envs/polymotv2/lib/python3.7/site-packages (from notebook>=6.0->jupyter_contrib_nbextensions) (6.16.2)\n",
      "Requirement already satisfied: prometheus-client in /home/xiaoyu.li/.conda/envs/polymotv2/lib/python3.7/site-packages (from notebook>=6.0->jupyter_contrib_nbextensions) (0.17.0)\n",
      "Requirement already satisfied: argon2-cffi in /home/xiaoyu.li/.conda/envs/polymotv2/lib/python3.7/site-packages (from notebook>=6.0->jupyter_contrib_nbextensions) (21.3.0)\n",
      "Requirement already satisfied: terminado>=0.8.3 in /home/xiaoyu.li/.conda/envs/polymotv2/lib/python3.7/site-packages (from notebook>=6.0->jupyter_contrib_nbextensions) (0.17.1)\n",
      "Requirement already satisfied: Send2Trash>=1.8.0 in /home/xiaoyu.li/.conda/envs/polymotv2/lib/python3.7/site-packages (from notebook>=6.0->jupyter_contrib_nbextensions) (1.8.2)\n",
      "Requirement already satisfied: nbclassic>=0.4.7 in /home/xiaoyu.li/.conda/envs/polymotv2/lib/python3.7/site-packages (from notebook>=6.0->jupyter_contrib_nbextensions) (1.0.0)\n"
     ]
    },
    {
     "name": "stdout",
     "output_type": "stream",
     "text": [
      "Requirement already satisfied: notebook-shim>=0.2.3 in /home/xiaoyu.li/.conda/envs/polymotv2/lib/python3.7/site-packages (from nbclassic>=0.4.7->notebook>=6.0->jupyter_contrib_nbextensions) (0.2.3)\n",
      "Requirement already satisfied: jupyter-server>=1.8 in /home/xiaoyu.li/.conda/envs/polymotv2/lib/python3.7/site-packages (from nbclassic>=0.4.7->notebook>=6.0->jupyter_contrib_nbextensions) (1.24.0)\n",
      "Requirement already satisfied: anyio<4,>=3.1.0 in /home/xiaoyu.li/.conda/envs/polymotv2/lib/python3.7/site-packages (from jupyter-server>=1.8->nbclassic>=0.4.7->notebook>=6.0->jupyter_contrib_nbextensions) (3.7.0)\n",
      "Requirement already satisfied: websocket-client in /home/xiaoyu.li/.conda/envs/polymotv2/lib/python3.7/site-packages (from jupyter-server>=1.8->nbclassic>=0.4.7->notebook>=6.0->jupyter_contrib_nbextensions) (1.6.1)\n",
      "Requirement already satisfied: idna>=2.8 in /home/xiaoyu.li/.conda/envs/polymotv2/lib/python3.7/site-packages (from anyio<4,>=3.1.0->jupyter-server>=1.8->nbclassic>=0.4.7->notebook>=6.0->jupyter_contrib_nbextensions) (3.4)\n",
      "Requirement already satisfied: exceptiongroup in /home/xiaoyu.li/.conda/envs/polymotv2/lib/python3.7/site-packages (from anyio<4,>=3.1.0->jupyter-server>=1.8->nbclassic>=0.4.7->notebook>=6.0->jupyter_contrib_nbextensions) (1.1.2)\n",
      "Requirement already satisfied: sniffio>=1.1 in /home/xiaoyu.li/.conda/envs/polymotv2/lib/python3.7/site-packages (from anyio<4,>=3.1.0->jupyter-server>=1.8->nbclassic>=0.4.7->notebook>=6.0->jupyter_contrib_nbextensions) (1.3.0)\n",
      "Requirement already satisfied: ptyprocess in /home/xiaoyu.li/.conda/envs/polymotv2/lib/python3.7/site-packages (from terminado>=0.8.3->notebook>=6.0->jupyter_contrib_nbextensions) (0.7.0)\n",
      "Requirement already satisfied: argon2-cffi-bindings in /home/xiaoyu.li/.conda/envs/polymotv2/lib/python3.7/site-packages (from argon2-cffi->notebook>=6.0->jupyter_contrib_nbextensions) (21.2.0)\n",
      "Requirement already satisfied: cffi>=1.0.1 in /home/xiaoyu.li/.conda/envs/polymotv2/lib/python3.7/site-packages (from argon2-cffi-bindings->argon2-cffi->notebook>=6.0->jupyter_contrib_nbextensions) (1.15.1)\n",
      "Requirement already satisfied: pycparser in /home/xiaoyu.li/.conda/envs/polymotv2/lib/python3.7/site-packages (from cffi>=1.0.1->argon2-cffi-bindings->argon2-cffi->notebook>=6.0->jupyter_contrib_nbextensions) (2.21)\n",
      "Requirement already satisfied: soupsieve>1.2 in /home/xiaoyu.li/.conda/envs/polymotv2/lib/python3.7/site-packages (from beautifulsoup4->nbconvert>=6.0->jupyter_contrib_nbextensions) (2.4.1)\n",
      "Requirement already satisfied: ipython>=7.23.1 in /home/xiaoyu.li/.conda/envs/polymotv2/lib/python3.7/site-packages (from ipykernel->notebook>=6.0->jupyter_contrib_nbextensions) (7.34.0)\n",
      "Requirement already satisfied: debugpy>=1.0 in /home/xiaoyu.li/.conda/envs/polymotv2/lib/python3.7/site-packages (from ipykernel->notebook>=6.0->jupyter_contrib_nbextensions) (1.6.7)\n",
      "Requirement already satisfied: matplotlib-inline>=0.1 in /home/xiaoyu.li/.conda/envs/polymotv2/lib/python3.7/site-packages (from ipykernel->notebook>=6.0->jupyter_contrib_nbextensions) (0.1.6)\n",
      "Requirement already satisfied: psutil in /home/xiaoyu.li/.conda/envs/polymotv2/lib/python3.7/site-packages (from ipykernel->notebook>=6.0->jupyter_contrib_nbextensions) (5.9.5)\n",
      "Requirement already satisfied: decorator in /home/xiaoyu.li/.conda/envs/polymotv2/lib/python3.7/site-packages (from ipython>=7.23.1->ipykernel->notebook>=6.0->jupyter_contrib_nbextensions) (5.1.1)\n",
      "Requirement already satisfied: backcall in /home/xiaoyu.li/.conda/envs/polymotv2/lib/python3.7/site-packages (from ipython>=7.23.1->ipykernel->notebook>=6.0->jupyter_contrib_nbextensions) (0.2.0)\n",
      "Requirement already satisfied: pickleshare in /home/xiaoyu.li/.conda/envs/polymotv2/lib/python3.7/site-packages (from ipython>=7.23.1->ipykernel->notebook>=6.0->jupyter_contrib_nbextensions) (0.7.5)\n",
      "Requirement already satisfied: jedi>=0.16 in /home/xiaoyu.li/.conda/envs/polymotv2/lib/python3.7/site-packages (from ipython>=7.23.1->ipykernel->notebook>=6.0->jupyter_contrib_nbextensions) (0.18.2)\n",
      "Requirement already satisfied: prompt-toolkit!=3.0.0,!=3.0.1,<3.1.0,>=2.0.0 in /home/xiaoyu.li/.conda/envs/polymotv2/lib/python3.7/site-packages (from ipython>=7.23.1->ipykernel->notebook>=6.0->jupyter_contrib_nbextensions) (3.0.39)\n",
      "Requirement already satisfied: pexpect>4.3 in /home/xiaoyu.li/.conda/envs/polymotv2/lib/python3.7/site-packages (from ipython>=7.23.1->ipykernel->notebook>=6.0->jupyter_contrib_nbextensions) (4.8.0)\n",
      "Requirement already satisfied: parso<0.9.0,>=0.8.0 in /home/xiaoyu.li/.conda/envs/polymotv2/lib/python3.7/site-packages (from jedi>=0.16->ipython>=7.23.1->ipykernel->notebook>=6.0->jupyter_contrib_nbextensions) (0.8.3)\n",
      "Requirement already satisfied: wcwidth in /home/xiaoyu.li/.conda/envs/polymotv2/lib/python3.7/site-packages (from prompt-toolkit!=3.0.0,!=3.0.1,<3.1.0,>=2.0.0->ipython>=7.23.1->ipykernel->notebook>=6.0->jupyter_contrib_nbextensions) (0.2.6)\n",
      "\u001b[32m[I 15:22:06 InstallContribNbextensionsApp]\u001b[m jupyter contrib nbextension install --user\n",
      "\u001b[32m[I 15:22:06 InstallContribNbextensionsApp]\u001b[m Installing jupyter_contrib_nbextensions nbextension files to jupyter data directory\n",
      "\u001b[32m[I 15:22:06 InstallContribNbextensionsApp]\u001b[m Installing /home/xiaoyu.li/.conda/envs/polymotv2/lib/python3.7/site-packages/jupyter_contrib_nbextensions/nbextensions/nbTranslate -> nbTranslate\n",
      "\u001b[32m[I 15:22:06 InstallContribNbextensionsApp]\u001b[m Up to date: /home/xiaoyu.li/.local/share/jupyter/nbextensions/nbTranslate/nbTranslate.yaml\n",
      "\u001b[32m[I 15:22:06 InstallContribNbextensionsApp]\u001b[m Up to date: /home/xiaoyu.li/.local/share/jupyter/nbextensions/nbTranslate/languages.js\n",
      "\u001b[32m[I 15:22:06 InstallContribNbextensionsApp]\u001b[m Up to date: /home/xiaoyu.li/.local/share/jupyter/nbextensions/nbTranslate/README.md\n",
      "\u001b[32m[I 15:22:06 InstallContribNbextensionsApp]\u001b[m Up to date: /home/xiaoyu.li/.local/share/jupyter/nbextensions/nbTranslate/demo1.gif\n",
      "\u001b[32m[I 15:22:06 InstallContribNbextensionsApp]\u001b[m Up to date: /home/xiaoyu.li/.local/share/jupyter/nbextensions/nbTranslate/main.js\n",
      "\u001b[32m[I 15:22:06 InstallContribNbextensionsApp]\u001b[m Up to date: /home/xiaoyu.li/.local/share/jupyter/nbextensions/nbTranslate/demo2.gif\n",
      "\u001b[32m[I 15:22:06 InstallContribNbextensionsApp]\u001b[m Up to date: /home/xiaoyu.li/.local/share/jupyter/nbextensions/nbTranslate/mutils.js\n",
      "\u001b[32m[I 15:22:06 InstallContribNbextensionsApp]\u001b[m Up to date: /home/xiaoyu.li/.local/share/jupyter/nbextensions/nbTranslate/nbTranslate.js\n",
      "\u001b[32m[I 15:22:06 InstallContribNbextensionsApp]\u001b[m - Validating: \u001b[32mOK\u001b[0m\n",
      "\u001b[32m[I 15:22:06 InstallContribNbextensionsApp]\u001b[m Installing /home/xiaoyu.li/.conda/envs/polymotv2/lib/python3.7/site-packages/jupyter_contrib_nbextensions/nbextensions/ruler -> ruler\n",
      "\u001b[32m[I 15:22:06 InstallContribNbextensionsApp]\u001b[m Up to date: /home/xiaoyu.li/.local/share/jupyter/nbextensions/ruler/icon.png\n",
      "\u001b[32m[I 15:22:06 InstallContribNbextensionsApp]\u001b[m Up to date: /home/xiaoyu.li/.local/share/jupyter/nbextensions/ruler/ruler.yaml\n",
      "\u001b[32m[I 15:22:06 InstallContribNbextensionsApp]\u001b[m Up to date: /home/xiaoyu.li/.local/share/jupyter/nbextensions/ruler/readme.md\n",
      "\u001b[32m[I 15:22:06 InstallContribNbextensionsApp]\u001b[m Up to date: /home/xiaoyu.li/.local/share/jupyter/nbextensions/ruler/ruler_editor.yaml\n",
      "\u001b[32m[I 15:22:06 InstallContribNbextensionsApp]\u001b[m Up to date: /home/xiaoyu.li/.local/share/jupyter/nbextensions/ruler/main.js\n",
      "\u001b[32m[I 15:22:06 InstallContribNbextensionsApp]\u001b[m Up to date: /home/xiaoyu.li/.local/share/jupyter/nbextensions/ruler/edit.js\n",
      "\u001b[32m[I 15:22:06 InstallContribNbextensionsApp]\u001b[m - Validating: \u001b[32mOK\u001b[0m\n",
      "\u001b[32m[I 15:22:06 InstallContribNbextensionsApp]\u001b[m Installing /home/xiaoyu.li/.conda/envs/polymotv2/lib/python3.7/site-packages/jupyter_contrib_nbextensions/nbextensions/ruler -> ruler\n",
      "\u001b[32m[I 15:22:06 InstallContribNbextensionsApp]\u001b[m Up to date: /home/xiaoyu.li/.local/share/jupyter/nbextensions/ruler/icon.png\n",
      "\u001b[32m[I 15:22:06 InstallContribNbextensionsApp]\u001b[m Up to date: /home/xiaoyu.li/.local/share/jupyter/nbextensions/ruler/ruler.yaml\n",
      "\u001b[32m[I 15:22:06 InstallContribNbextensionsApp]\u001b[m Up to date: /home/xiaoyu.li/.local/share/jupyter/nbextensions/ruler/readme.md\n",
      "\u001b[32m[I 15:22:06 InstallContribNbextensionsApp]\u001b[m Up to date: /home/xiaoyu.li/.local/share/jupyter/nbextensions/ruler/ruler_editor.yaml\n",
      "\u001b[32m[I 15:22:06 InstallContribNbextensionsApp]\u001b[m Up to date: /home/xiaoyu.li/.local/share/jupyter/nbextensions/ruler/main.js\n",
      "\u001b[32m[I 15:22:06 InstallContribNbextensionsApp]\u001b[m Up to date: /home/xiaoyu.li/.local/share/jupyter/nbextensions/ruler/edit.js\n",
      "\u001b[32m[I 15:22:06 InstallContribNbextensionsApp]\u001b[m - Validating: \u001b[32mOK\u001b[0m\n",
      "\u001b[32m[I 15:22:06 InstallContribNbextensionsApp]\u001b[m Installing /home/xiaoyu.li/.conda/envs/polymotv2/lib/python3.7/site-packages/jupyter_contrib_nbextensions/nbextensions/rubberband -> rubberband\n",
      "\u001b[32m[I 15:22:06 InstallContribNbextensionsApp]\u001b[m Up to date: /home/xiaoyu.li/.local/share/jupyter/nbextensions/rubberband/icon.png\n",
      "\u001b[32m[I 15:22:06 InstallContribNbextensionsApp]\u001b[m Up to date: /home/xiaoyu.li/.local/share/jupyter/nbextensions/rubberband/readme.md\n",
      "\u001b[32m[I 15:22:06 InstallContribNbextensionsApp]\u001b[m Up to date: /home/xiaoyu.li/.local/share/jupyter/nbextensions/rubberband/rubberband.yaml\n",
      "\u001b[32m[I 15:22:06 InstallContribNbextensionsApp]\u001b[m Up to date: /home/xiaoyu.li/.local/share/jupyter/nbextensions/rubberband/main.js\n",
      "\u001b[32m[I 15:22:06 InstallContribNbextensionsApp]\u001b[m Up to date: /home/xiaoyu.li/.local/share/jupyter/nbextensions/rubberband/main.css\n",
      "\u001b[32m[I 15:22:06 InstallContribNbextensionsApp]\u001b[m - Validating: \u001b[32mOK\u001b[0m\n",
      "\u001b[32m[I 15:22:06 InstallContribNbextensionsApp]\u001b[m Installing /home/xiaoyu.li/.conda/envs/polymotv2/lib/python3.7/site-packages/jupyter_contrib_nbextensions/nbextensions/scroll_down -> scroll_down\n",
      "\u001b[32m[I 15:22:06 InstallContribNbextensionsApp]\u001b[m Up to date: /home/xiaoyu.li/.local/share/jupyter/nbextensions/scroll_down/icon.png\n",
      "\u001b[32m[I 15:22:06 InstallContribNbextensionsApp]\u001b[m Up to date: /home/xiaoyu.li/.local/share/jupyter/nbextensions/scroll_down/readme.md\n",
      "\u001b[32m[I 15:22:06 InstallContribNbextensionsApp]\u001b[m Up to date: /home/xiaoyu.li/.local/share/jupyter/nbextensions/scroll_down/config.yaml\n",
      "\u001b[32m[I 15:22:06 InstallContribNbextensionsApp]\u001b[m Up to date: /home/xiaoyu.li/.local/share/jupyter/nbextensions/scroll_down/main.js\n",
      "\u001b[32m[I 15:22:06 InstallContribNbextensionsApp]\u001b[m - Validating: \u001b[32mOK\u001b[0m\n",
      "\u001b[32m[I 15:22:06 InstallContribNbextensionsApp]\u001b[m Installing /home/xiaoyu.li/.conda/envs/polymotv2/lib/python3.7/site-packages/jupyter_contrib_nbextensions/nbextensions/move_selected_cells -> move_selected_cells\n",
      "\u001b[32m[I 15:22:06 InstallContribNbextensionsApp]\u001b[m Up to date: /home/xiaoyu.li/.local/share/jupyter/nbextensions/move_selected_cells/move_selected_cells.yaml\n",
      "\u001b[32m[I 15:22:06 InstallContribNbextensionsApp]\u001b[m Up to date: /home/xiaoyu.li/.local/share/jupyter/nbextensions/move_selected_cells/README.md\n",
      "\u001b[32m[I 15:22:06 InstallContribNbextensionsApp]\u001b[m Up to date: /home/xiaoyu.li/.local/share/jupyter/nbextensions/move_selected_cells/main.js\n",
      "\u001b[32m[I 15:22:06 InstallContribNbextensionsApp]\u001b[m - Validating: \u001b[32mOK\u001b[0m\n",
      "\u001b[32m[I 15:22:06 InstallContribNbextensionsApp]\u001b[m Installing /home/xiaoyu.li/.conda/envs/polymotv2/lib/python3.7/site-packages/jupyter_contrib_nbextensions/nbextensions/code_prettify -> code_prettify\n",
      "\u001b[32m[I 15:22:06 InstallContribNbextensionsApp]\u001b[m Up to date: /home/xiaoyu.li/.local/share/jupyter/nbextensions/code_prettify/demo_2to3.gif\n",
      "\u001b[32m[I 15:22:06 InstallContribNbextensionsApp]\u001b[m Up to date: /home/xiaoyu.li/.local/share/jupyter/nbextensions/code_prettify/README_isort.md\n",
      "\u001b[32m[I 15:22:06 InstallContribNbextensionsApp]\u001b[m Up to date: /home/xiaoyu.li/.local/share/jupyter/nbextensions/code_prettify/autopep8.js\n",
      "\u001b[32m[I 15:22:06 InstallContribNbextensionsApp]\u001b[m Up to date: /home/xiaoyu.li/.local/share/jupyter/nbextensions/code_prettify/kernel_exec_on_cell.js\n",
      "\u001b[32m[I 15:22:06 InstallContribNbextensionsApp]\u001b[m Up to date: /home/xiaoyu.li/.local/share/jupyter/nbextensions/code_prettify/README.md\n",
      "\u001b[32m[I 15:22:06 InstallContribNbextensionsApp]\u001b[m Up to date: /home/xiaoyu.li/.local/share/jupyter/nbextensions/code_prettify/demo-R.gif\n",
      "\u001b[32m[I 15:22:06 InstallContribNbextensionsApp]\u001b[m Up to date: /home/xiaoyu.li/.local/share/jupyter/nbextensions/code_prettify/demo-py.gif\n",
      "\u001b[32m[I 15:22:06 InstallContribNbextensionsApp]\u001b[m Up to date: /home/xiaoyu.li/.local/share/jupyter/nbextensions/code_prettify/README_2to3.md\n",
      "\u001b[32m[I 15:22:06 InstallContribNbextensionsApp]\u001b[m Up to date: /home/xiaoyu.li/.local/share/jupyter/nbextensions/code_prettify/code_prettify.js\n",
      "\u001b[32m[I 15:22:06 InstallContribNbextensionsApp]\u001b[m Up to date: /home/xiaoyu.li/.local/share/jupyter/nbextensions/code_prettify/README_code_prettify.md\n",
      "\u001b[32m[I 15:22:06 InstallContribNbextensionsApp]\u001b[m Up to date: /home/xiaoyu.li/.local/share/jupyter/nbextensions/code_prettify/autopep8.yaml\n",
      "\u001b[32m[I 15:22:06 InstallContribNbextensionsApp]\u001b[m Up to date: /home/xiaoyu.li/.local/share/jupyter/nbextensions/code_prettify/README_autopep8.md\n",
      "\u001b[32m[I 15:22:06 InstallContribNbextensionsApp]\u001b[m Up to date: /home/xiaoyu.li/.local/share/jupyter/nbextensions/code_prettify/demo-jv.gif\n",
      "\u001b[32m[I 15:22:06 InstallContribNbextensionsApp]\u001b[m Up to date: /home/xiaoyu.li/.local/share/jupyter/nbextensions/code_prettify/2to3.js\n",
      "\u001b[32m[I 15:22:06 InstallContribNbextensionsApp]\u001b[m Up to date: /home/xiaoyu.li/.local/share/jupyter/nbextensions/code_prettify/code_prettify.yaml\n",
      "\u001b[32m[I 15:22:06 InstallContribNbextensionsApp]\u001b[m Up to date: /home/xiaoyu.li/.local/share/jupyter/nbextensions/code_prettify/isort.yaml\n",
      "\u001b[32m[I 15:22:06 InstallContribNbextensionsApp]\u001b[m Up to date: /home/xiaoyu.li/.local/share/jupyter/nbextensions/code_prettify/2to3.yaml\n",
      "\u001b[32m[I 15:22:06 InstallContribNbextensionsApp]\u001b[m Up to date: /home/xiaoyu.li/.local/share/jupyter/nbextensions/code_prettify/isort.js\n",
      "\u001b[32m[I 15:22:06 InstallContribNbextensionsApp]\u001b[m - Validating: \u001b[32mOK\u001b[0m\n",
      "\u001b[32m[I 15:22:06 InstallContribNbextensionsApp]\u001b[m Installing /home/xiaoyu.li/.conda/envs/polymotv2/lib/python3.7/site-packages/jupyter_contrib_nbextensions/nbextensions/code_prettify -> code_prettify\n",
      "\u001b[32m[I 15:22:06 InstallContribNbextensionsApp]\u001b[m Up to date: /home/xiaoyu.li/.local/share/jupyter/nbextensions/code_prettify/demo_2to3.gif\n",
      "\u001b[32m[I 15:22:06 InstallContribNbextensionsApp]\u001b[m Up to date: /home/xiaoyu.li/.local/share/jupyter/nbextensions/code_prettify/README_isort.md\n",
      "\u001b[32m[I 15:22:06 InstallContribNbextensionsApp]\u001b[m Up to date: /home/xiaoyu.li/.local/share/jupyter/nbextensions/code_prettify/autopep8.js\n",
      "\u001b[32m[I 15:22:06 InstallContribNbextensionsApp]\u001b[m Up to date: /home/xiaoyu.li/.local/share/jupyter/nbextensions/code_prettify/kernel_exec_on_cell.js\n",
      "\u001b[32m[I 15:22:06 InstallContribNbextensionsApp]\u001b[m Up to date: /home/xiaoyu.li/.local/share/jupyter/nbextensions/code_prettify/README.md\n",
      "\u001b[32m[I 15:22:06 InstallContribNbextensionsApp]\u001b[m Up to date: /home/xiaoyu.li/.local/share/jupyter/nbextensions/code_prettify/demo-R.gif\n",
      "\u001b[32m[I 15:22:06 InstallContribNbextensionsApp]\u001b[m Up to date: /home/xiaoyu.li/.local/share/jupyter/nbextensions/code_prettify/demo-py.gif\n",
      "\u001b[32m[I 15:22:06 InstallContribNbextensionsApp]\u001b[m Up to date: /home/xiaoyu.li/.local/share/jupyter/nbextensions/code_prettify/README_2to3.md\n",
      "\u001b[32m[I 15:22:06 InstallContribNbextensionsApp]\u001b[m Up to date: /home/xiaoyu.li/.local/share/jupyter/nbextensions/code_prettify/code_prettify.js\n",
      "\u001b[32m[I 15:22:06 InstallContribNbextensionsApp]\u001b[m Up to date: /home/xiaoyu.li/.local/share/jupyter/nbextensions/code_prettify/README_code_prettify.md\n",
      "\u001b[32m[I 15:22:06 InstallContribNbextensionsApp]\u001b[m Up to date: /home/xiaoyu.li/.local/share/jupyter/nbextensions/code_prettify/autopep8.yaml\n",
      "\u001b[32m[I 15:22:06 InstallContribNbextensionsApp]\u001b[m Up to date: /home/xiaoyu.li/.local/share/jupyter/nbextensions/code_prettify/README_autopep8.md\n",
      "\u001b[32m[I 15:22:06 InstallContribNbextensionsApp]\u001b[m Up to date: /home/xiaoyu.li/.local/share/jupyter/nbextensions/code_prettify/demo-jv.gif\n",
      "\u001b[32m[I 15:22:06 InstallContribNbextensionsApp]\u001b[m Up to date: /home/xiaoyu.li/.local/share/jupyter/nbextensions/code_prettify/2to3.js\n",
      "\u001b[32m[I 15:22:06 InstallContribNbextensionsApp]\u001b[m Up to date: /home/xiaoyu.li/.local/share/jupyter/nbextensions/code_prettify/code_prettify.yaml\n",
      "\u001b[32m[I 15:22:06 InstallContribNbextensionsApp]\u001b[m Up to date: /home/xiaoyu.li/.local/share/jupyter/nbextensions/code_prettify/isort.yaml\n",
      "\u001b[32m[I 15:22:06 InstallContribNbextensionsApp]\u001b[m Up to date: /home/xiaoyu.li/.local/share/jupyter/nbextensions/code_prettify/2to3.yaml\n",
      "\u001b[32m[I 15:22:06 InstallContribNbextensionsApp]\u001b[m Up to date: /home/xiaoyu.li/.local/share/jupyter/nbextensions/code_prettify/isort.js\n",
      "\u001b[32m[I 15:22:06 InstallContribNbextensionsApp]\u001b[m - Validating: \u001b[32mOK\u001b[0m\n",
      "\u001b[32m[I 15:22:06 InstallContribNbextensionsApp]\u001b[m Installing /home/xiaoyu.li/.conda/envs/polymotv2/lib/python3.7/site-packages/jupyter_contrib_nbextensions/nbextensions/code_prettify -> code_prettify\n",
      "\u001b[32m[I 15:22:06 InstallContribNbextensionsApp]\u001b[m Up to date: /home/xiaoyu.li/.local/share/jupyter/nbextensions/code_prettify/demo_2to3.gif\n",
      "\u001b[32m[I 15:22:06 InstallContribNbextensionsApp]\u001b[m Up to date: /home/xiaoyu.li/.local/share/jupyter/nbextensions/code_prettify/README_isort.md\n",
      "\u001b[32m[I 15:22:06 InstallContribNbextensionsApp]\u001b[m Up to date: /home/xiaoyu.li/.local/share/jupyter/nbextensions/code_prettify/autopep8.js\n",
      "\u001b[32m[I 15:22:06 InstallContribNbextensionsApp]\u001b[m Up to date: /home/xiaoyu.li/.local/share/jupyter/nbextensions/code_prettify/kernel_exec_on_cell.js\n",
      "\u001b[32m[I 15:22:06 InstallContribNbextensionsApp]\u001b[m Up to date: /home/xiaoyu.li/.local/share/jupyter/nbextensions/code_prettify/README.md\n",
      "\u001b[32m[I 15:22:06 InstallContribNbextensionsApp]\u001b[m Up to date: /home/xiaoyu.li/.local/share/jupyter/nbextensions/code_prettify/demo-R.gif\n",
      "\u001b[32m[I 15:22:06 InstallContribNbextensionsApp]\u001b[m Up to date: /home/xiaoyu.li/.local/share/jupyter/nbextensions/code_prettify/demo-py.gif\n",
      "\u001b[32m[I 15:22:06 InstallContribNbextensionsApp]\u001b[m Up to date: /home/xiaoyu.li/.local/share/jupyter/nbextensions/code_prettify/README_2to3.md\n",
      "\u001b[32m[I 15:22:06 InstallContribNbextensionsApp]\u001b[m Up to date: /home/xiaoyu.li/.local/share/jupyter/nbextensions/code_prettify/code_prettify.js\n",
      "\u001b[32m[I 15:22:06 InstallContribNbextensionsApp]\u001b[m Up to date: /home/xiaoyu.li/.local/share/jupyter/nbextensions/code_prettify/README_code_prettify.md\n",
      "\u001b[32m[I 15:22:06 InstallContribNbextensionsApp]\u001b[m Up to date: /home/xiaoyu.li/.local/share/jupyter/nbextensions/code_prettify/autopep8.yaml\n",
      "\u001b[32m[I 15:22:06 InstallContribNbextensionsApp]\u001b[m Up to date: /home/xiaoyu.li/.local/share/jupyter/nbextensions/code_prettify/README_autopep8.md\n",
      "\u001b[32m[I 15:22:06 InstallContribNbextensionsApp]\u001b[m Up to date: /home/xiaoyu.li/.local/share/jupyter/nbextensions/code_prettify/demo-jv.gif\n",
      "\u001b[32m[I 15:22:06 InstallContribNbextensionsApp]\u001b[m Up to date: /home/xiaoyu.li/.local/share/jupyter/nbextensions/code_prettify/2to3.js\n",
      "\u001b[32m[I 15:22:06 InstallContribNbextensionsApp]\u001b[m Up to date: /home/xiaoyu.li/.local/share/jupyter/nbextensions/code_prettify/code_prettify.yaml\n",
      "\u001b[32m[I 15:22:06 InstallContribNbextensionsApp]\u001b[m Up to date: /home/xiaoyu.li/.local/share/jupyter/nbextensions/code_prettify/isort.yaml\n",
      "\u001b[32m[I 15:22:06 InstallContribNbextensionsApp]\u001b[m Up to date: /home/xiaoyu.li/.local/share/jupyter/nbextensions/code_prettify/2to3.yaml\n",
      "\u001b[32m[I 15:22:06 InstallContribNbextensionsApp]\u001b[m Up to date: /home/xiaoyu.li/.local/share/jupyter/nbextensions/code_prettify/isort.js\n",
      "\u001b[32m[I 15:22:06 InstallContribNbextensionsApp]\u001b[m - Validating: \u001b[32mOK\u001b[0m\n",
      "\u001b[32m[I 15:22:06 InstallContribNbextensionsApp]\u001b[m Installing /home/xiaoyu.li/.conda/envs/polymotv2/lib/python3.7/site-packages/jupyter_contrib_nbextensions/nbextensions/code_prettify -> code_prettify\n",
      "\u001b[32m[I 15:22:06 InstallContribNbextensionsApp]\u001b[m Up to date: /home/xiaoyu.li/.local/share/jupyter/nbextensions/code_prettify/demo_2to3.gif\n",
      "\u001b[32m[I 15:22:06 InstallContribNbextensionsApp]\u001b[m Up to date: /home/xiaoyu.li/.local/share/jupyter/nbextensions/code_prettify/README_isort.md\n",
      "\u001b[32m[I 15:22:06 InstallContribNbextensionsApp]\u001b[m Up to date: /home/xiaoyu.li/.local/share/jupyter/nbextensions/code_prettify/autopep8.js\n",
      "\u001b[32m[I 15:22:06 InstallContribNbextensionsApp]\u001b[m Up to date: /home/xiaoyu.li/.local/share/jupyter/nbextensions/code_prettify/kernel_exec_on_cell.js\n",
      "\u001b[32m[I 15:22:06 InstallContribNbextensionsApp]\u001b[m Up to date: /home/xiaoyu.li/.local/share/jupyter/nbextensions/code_prettify/README.md\n",
      "\u001b[32m[I 15:22:06 InstallContribNbextensionsApp]\u001b[m Up to date: /home/xiaoyu.li/.local/share/jupyter/nbextensions/code_prettify/demo-R.gif\n",
      "\u001b[32m[I 15:22:06 InstallContribNbextensionsApp]\u001b[m Up to date: /home/xiaoyu.li/.local/share/jupyter/nbextensions/code_prettify/demo-py.gif\n",
      "\u001b[32m[I 15:22:06 InstallContribNbextensionsApp]\u001b[m Up to date: /home/xiaoyu.li/.local/share/jupyter/nbextensions/code_prettify/README_2to3.md\n",
      "\u001b[32m[I 15:22:06 InstallContribNbextensionsApp]\u001b[m Up to date: /home/xiaoyu.li/.local/share/jupyter/nbextensions/code_prettify/code_prettify.js\n",
      "\u001b[32m[I 15:22:06 InstallContribNbextensionsApp]\u001b[m Up to date: /home/xiaoyu.li/.local/share/jupyter/nbextensions/code_prettify/README_code_prettify.md\n",
      "\u001b[32m[I 15:22:06 InstallContribNbextensionsApp]\u001b[m Up to date: /home/xiaoyu.li/.local/share/jupyter/nbextensions/code_prettify/autopep8.yaml\n",
      "\u001b[32m[I 15:22:06 InstallContribNbextensionsApp]\u001b[m Up to date: /home/xiaoyu.li/.local/share/jupyter/nbextensions/code_prettify/README_autopep8.md\n",
      "\u001b[32m[I 15:22:06 InstallContribNbextensionsApp]\u001b[m Up to date: /home/xiaoyu.li/.local/share/jupyter/nbextensions/code_prettify/demo-jv.gif\n",
      "\u001b[32m[I 15:22:06 InstallContribNbextensionsApp]\u001b[m Up to date: /home/xiaoyu.li/.local/share/jupyter/nbextensions/code_prettify/2to3.js\n",
      "\u001b[32m[I 15:22:06 InstallContribNbextensionsApp]\u001b[m Up to date: /home/xiaoyu.li/.local/share/jupyter/nbextensions/code_prettify/code_prettify.yaml\n",
      "\u001b[32m[I 15:22:06 InstallContribNbextensionsApp]\u001b[m Up to date: /home/xiaoyu.li/.local/share/jupyter/nbextensions/code_prettify/isort.yaml\n",
      "\u001b[32m[I 15:22:06 InstallContribNbextensionsApp]\u001b[m Up to date: /home/xiaoyu.li/.local/share/jupyter/nbextensions/code_prettify/2to3.yaml\n",
      "\u001b[32m[I 15:22:06 InstallContribNbextensionsApp]\u001b[m Up to date: /home/xiaoyu.li/.local/share/jupyter/nbextensions/code_prettify/isort.js\n",
      "\u001b[32m[I 15:22:06 InstallContribNbextensionsApp]\u001b[m - Validating: \u001b[32mOK\u001b[0m\n",
      "\u001b[32m[I 15:22:06 InstallContribNbextensionsApp]\u001b[m Installing /home/xiaoyu.li/.conda/envs/polymotv2/lib/python3.7/site-packages/jupyter_contrib_nbextensions/nbextensions/cell_filter -> cell_filter\n",
      "\u001b[32m[I 15:22:06 InstallContribNbextensionsApp]\u001b[m Up to date: /home/xiaoyu.li/.local/share/jupyter/nbextensions/cell_filter/cell_filter.yml\n",
      "\u001b[32m[I 15:22:06 InstallContribNbextensionsApp]\u001b[m Up to date: /home/xiaoyu.li/.local/share/jupyter/nbextensions/cell_filter/README.md\n",
      "\u001b[32m[I 15:22:06 InstallContribNbextensionsApp]\u001b[m Up to date: /home/xiaoyu.li/.local/share/jupyter/nbextensions/cell_filter/cell_filter.js\n",
      "\u001b[32m[I 15:22:06 InstallContribNbextensionsApp]\u001b[m - Validating: \u001b[32mOK\u001b[0m\n",
      "\u001b[32m[I 15:22:06 InstallContribNbextensionsApp]\u001b[m Installing /home/xiaoyu.li/.conda/envs/polymotv2/lib/python3.7/site-packages/jupyter_contrib_nbextensions/nbextensions/hide_input_all -> hide_input_all\n",
      "\u001b[32m[I 15:22:06 InstallContribNbextensionsApp]\u001b[m Up to date: /home/xiaoyu.li/.local/share/jupyter/nbextensions/hide_input_all/icon.png\n",
      "\u001b[32m[I 15:22:06 InstallContribNbextensionsApp]\u001b[m Up to date: /home/xiaoyu.li/.local/share/jupyter/nbextensions/hide_input_all/readme.md\n",
      "\u001b[32m[I 15:22:06 InstallContribNbextensionsApp]\u001b[m Up to date: /home/xiaoyu.li/.local/share/jupyter/nbextensions/hide_input_all/hide_input_all_show.png\n",
      "\u001b[32m[I 15:22:06 InstallContribNbextensionsApp]\u001b[m Up to date: /home/xiaoyu.li/.local/share/jupyter/nbextensions/hide_input_all/main.js\n",
      "\u001b[32m[I 15:22:06 InstallContribNbextensionsApp]\u001b[m Up to date: /home/xiaoyu.li/.local/share/jupyter/nbextensions/hide_input_all/hide_input_all.yaml\n",
      "\u001b[32m[I 15:22:06 InstallContribNbextensionsApp]\u001b[m Up to date: /home/xiaoyu.li/.local/share/jupyter/nbextensions/hide_input_all/hide_input_all_hide.png\n",
      "\u001b[32m[I 15:22:06 InstallContribNbextensionsApp]\u001b[m - Validating: \u001b[32mOK\u001b[0m\n",
      "\u001b[32m[I 15:22:06 InstallContribNbextensionsApp]\u001b[m Installing /home/xiaoyu.li/.conda/envs/polymotv2/lib/python3.7/site-packages/jupyter_contrib_nbextensions/nbextensions/hide_input -> hide_input\n",
      "\u001b[32m[I 15:22:06 InstallContribNbextensionsApp]\u001b[m Up to date: /home/xiaoyu.li/.local/share/jupyter/nbextensions/hide_input/hide-input.yaml\n",
      "\u001b[32m[I 15:22:06 InstallContribNbextensionsApp]\u001b[m Up to date: /home/xiaoyu.li/.local/share/jupyter/nbextensions/hide_input/icon.png\n",
      "\u001b[32m[I 15:22:06 InstallContribNbextensionsApp]\u001b[m Up to date: /home/xiaoyu.li/.local/share/jupyter/nbextensions/hide_input/readme.md\n",
      "\u001b[32m[I 15:22:06 InstallContribNbextensionsApp]\u001b[m Up to date: /home/xiaoyu.li/.local/share/jupyter/nbextensions/hide_input/main.js\n",
      "\u001b[32m[I 15:22:06 InstallContribNbextensionsApp]\u001b[m - Validating: \u001b[32mOK\u001b[0m\n",
      "\u001b[32m[I 15:22:06 InstallContribNbextensionsApp]\u001b[m Installing /home/xiaoyu.li/.conda/envs/polymotv2/lib/python3.7/site-packages/jupyter_contrib_nbextensions/nbextensions/collapsible_headings -> collapsible_headings\n",
      "\u001b[32m[I 15:22:06 InstallContribNbextensionsApp]\u001b[m Up to date: /home/xiaoyu.li/.local/share/jupyter/nbextensions/collapsible_headings/icon.png\n",
      "\u001b[32m[I 15:22:06 InstallContribNbextensionsApp]\u001b[m Up to date: /home/xiaoyu.li/.local/share/jupyter/nbextensions/collapsible_headings/readme.md\n",
      "\u001b[32m[I 15:22:06 InstallContribNbextensionsApp]\u001b[m Up to date: /home/xiaoyu.li/.local/share/jupyter/nbextensions/collapsible_headings/screenshot.png\n",
      "\u001b[32m[I 15:22:06 InstallContribNbextensionsApp]\u001b[m Up to date: /home/xiaoyu.li/.local/share/jupyter/nbextensions/collapsible_headings/collapsible_headings.yaml\n",
      "\u001b[32m[I 15:22:06 InstallContribNbextensionsApp]\u001b[m Up to date: /home/xiaoyu.li/.local/share/jupyter/nbextensions/collapsible_headings/main.js\n",
      "\u001b[32m[I 15:22:06 InstallContribNbextensionsApp]\u001b[m Up to date: /home/xiaoyu.li/.local/share/jupyter/nbextensions/collapsible_headings/main.css\n",
      "\u001b[32m[I 15:22:06 InstallContribNbextensionsApp]\u001b[m - Validating: \u001b[32mOK\u001b[0m\n",
      "\u001b[32m[I 15:22:06 InstallContribNbextensionsApp]\u001b[m Installing /home/xiaoyu.li/.conda/envs/polymotv2/lib/python3.7/site-packages/jupyter_contrib_nbextensions/nbextensions/autosavetime -> autosavetime\n",
      "\u001b[32m[I 15:22:06 InstallContribNbextensionsApp]\u001b[m Up to date: /home/xiaoyu.li/.local/share/jupyter/nbextensions/autosavetime/icon.png\n",
      "\u001b[32m[I 15:22:06 InstallContribNbextensionsApp]\u001b[m Up to date: /home/xiaoyu.li/.local/share/jupyter/nbextensions/autosavetime/README.md\n",
      "\u001b[32m[I 15:22:06 InstallContribNbextensionsApp]\u001b[m Up to date: /home/xiaoyu.li/.local/share/jupyter/nbextensions/autosavetime/main.js\n",
      "\u001b[32m[I 15:22:06 InstallContribNbextensionsApp]\u001b[m Up to date: /home/xiaoyu.li/.local/share/jupyter/nbextensions/autosavetime/autosavetime.yaml\n",
      "\u001b[32m[I 15:22:06 InstallContribNbextensionsApp]\u001b[m - Validating: \u001b[32mOK\u001b[0m\n",
      "\u001b[32m[I 15:22:06 InstallContribNbextensionsApp]\u001b[m Installing /home/xiaoyu.li/.conda/envs/polymotv2/lib/python3.7/site-packages/jupyter_contrib_nbextensions/nbextensions/printview -> printview\n",
      "\u001b[32m[I 15:22:06 InstallContribNbextensionsApp]\u001b[m Up to date: /home/xiaoyu.li/.local/share/jupyter/nbextensions/printview/icon.png\n",
      "\u001b[32m[I 15:22:06 InstallContribNbextensionsApp]\u001b[m Up to date: /home/xiaoyu.li/.local/share/jupyter/nbextensions/printview/printview-button.png\n",
      "\u001b[32m[I 15:22:06 InstallContribNbextensionsApp]\u001b[m Up to date: /home/xiaoyu.li/.local/share/jupyter/nbextensions/printview/readme.md\n",
      "\u001b[32m[I 15:22:06 InstallContribNbextensionsApp]\u001b[m Up to date: /home/xiaoyu.li/.local/share/jupyter/nbextensions/printview/main.js\n",
      "\u001b[32m[I 15:22:06 InstallContribNbextensionsApp]\u001b[m Up to date: /home/xiaoyu.li/.local/share/jupyter/nbextensions/printview/printview.yaml\n",
      "\u001b[32m[I 15:22:06 InstallContribNbextensionsApp]\u001b[m - Validating: \u001b[32mOK\u001b[0m\n",
      "\u001b[32m[I 15:22:06 InstallContribNbextensionsApp]\u001b[m Installing /home/xiaoyu.li/.conda/envs/polymotv2/lib/python3.7/site-packages/jupyter_contrib_nbextensions/nbextensions/tree-filter -> tree-filter\n",
      "\u001b[32m[I 15:22:06 InstallContribNbextensionsApp]\u001b[m Up to date: /home/xiaoyu.li/.local/share/jupyter/nbextensions/tree-filter/demo.gif\n",
      "\u001b[32m[I 15:22:06 InstallContribNbextensionsApp]\u001b[m Up to date: /home/xiaoyu.li/.local/share/jupyter/nbextensions/tree-filter/readme.md\n",
      "\u001b[32m[I 15:22:06 InstallContribNbextensionsApp]\u001b[m Up to date: /home/xiaoyu.li/.local/share/jupyter/nbextensions/tree-filter/tree-filter.yaml\n",
      "\u001b[32m[I 15:22:06 InstallContribNbextensionsApp]\u001b[m Up to date: /home/xiaoyu.li/.local/share/jupyter/nbextensions/tree-filter/index.js\n",
      "\u001b[32m[I 15:22:06 InstallContribNbextensionsApp]\u001b[m - Validating: \u001b[32mOK\u001b[0m\n",
      "\u001b[32m[I 15:22:06 InstallContribNbextensionsApp]\u001b[m Installing /home/xiaoyu.li/.conda/envs/polymotv2/lib/python3.7/site-packages/jupyter_contrib_nbextensions/nbextensions/go_to_current_running_cell -> go_to_current_running_cell\n",
      "\u001b[32m[I 15:22:06 InstallContribNbextensionsApp]\u001b[m Up to date: /home/xiaoyu.li/.local/share/jupyter/nbextensions/go_to_current_running_cell/eye.png\n",
      "\u001b[32m[I 15:22:06 InstallContribNbextensionsApp]\u001b[m Up to date: /home/xiaoyu.li/.local/share/jupyter/nbextensions/go_to_current_running_cell/README.md\n",
      "\u001b[32m[I 15:22:06 InstallContribNbextensionsApp]\u001b[m Up to date: /home/xiaoyu.li/.local/share/jupyter/nbextensions/go_to_current_running_cell/auto_focus.gif\n",
      "\u001b[32m[I 15:22:06 InstallContribNbextensionsApp]\u001b[m Up to date: /home/xiaoyu.li/.local/share/jupyter/nbextensions/go_to_current_running_cell/go_to_current_running_cell.yaml\n",
      "\u001b[32m[I 15:22:06 InstallContribNbextensionsApp]\u001b[m Up to date: /home/xiaoyu.li/.local/share/jupyter/nbextensions/go_to_current_running_cell/jump_to_cell.gif\n",
      "\u001b[32m[I 15:22:06 InstallContribNbextensionsApp]\u001b[m Up to date: /home/xiaoyu.li/.local/share/jupyter/nbextensions/go_to_current_running_cell/main.js\n",
      "\u001b[32m[I 15:22:06 InstallContribNbextensionsApp]\u001b[m Up to date: /home/xiaoyu.li/.local/share/jupyter/nbextensions/go_to_current_running_cell/anchor.png\n",
      "\u001b[32m[I 15:22:06 InstallContribNbextensionsApp]\u001b[m - Validating: \u001b[32mOK\u001b[0m\n",
      "\u001b[32m[I 15:22:06 InstallContribNbextensionsApp]\u001b[m Installing /home/xiaoyu.li/.conda/envs/polymotv2/lib/python3.7/site-packages/jupyter_contrib_nbextensions/nbextensions/python-markdown -> python-markdown\n",
      "\u001b[32m[I 15:22:06 InstallContribNbextensionsApp]\u001b[m Up to date: /home/xiaoyu.li/.local/share/jupyter/nbextensions/python-markdown/untrusted.png\n",
      "\u001b[32m[I 15:22:06 InstallContribNbextensionsApp]\u001b[m Up to date: /home/xiaoyu.li/.local/share/jupyter/nbextensions/python-markdown/python-markdown.png\n",
      "\u001b[32m[I 15:22:06 InstallContribNbextensionsApp]\u001b[m Up to date: /home/xiaoyu.li/.local/share/jupyter/nbextensions/python-markdown/trusted.png\n",
      "\u001b[32m[I 15:22:06 InstallContribNbextensionsApp]\u001b[m Up to date: /home/xiaoyu.li/.local/share/jupyter/nbextensions/python-markdown/python-markdown.yaml\n",
      "\u001b[32m[I 15:22:06 InstallContribNbextensionsApp]\u001b[m Up to date: /home/xiaoyu.li/.local/share/jupyter/nbextensions/python-markdown/readme.md\n",
      "\u001b[32m[I 15:22:06 InstallContribNbextensionsApp]\u001b[m Up to date: /home/xiaoyu.li/.local/share/jupyter/nbextensions/python-markdown/python-markdown-post.png\n",
      "\u001b[32m[I 15:22:06 InstallContribNbextensionsApp]\u001b[m Up to date: /home/xiaoyu.li/.local/share/jupyter/nbextensions/python-markdown/main.js\n",
      "\u001b[32m[I 15:22:06 InstallContribNbextensionsApp]\u001b[m Up to date: /home/xiaoyu.li/.local/share/jupyter/nbextensions/python-markdown/python-markdown-pre.png\n",
      "\u001b[32m[I 15:22:06 InstallContribNbextensionsApp]\u001b[m Up to date: /home/xiaoyu.li/.local/share/jupyter/nbextensions/python-markdown/main.css\n",
      "\u001b[32m[I 15:22:06 InstallContribNbextensionsApp]\u001b[m - Validating: \u001b[32mOK\u001b[0m\n",
      "\u001b[32m[I 15:22:06 InstallContribNbextensionsApp]\u001b[m Installing /home/xiaoyu.li/.conda/envs/polymotv2/lib/python3.7/site-packages/jupyter_contrib_nbextensions/nbextensions/spellchecker -> spellchecker\n",
      "\u001b[32m[I 15:22:06 InstallContribNbextensionsApp]\u001b[m Up to date: /home/xiaoyu.li/.local/share/jupyter/nbextensions/spellchecker/README.md\n",
      "\u001b[32m[I 15:22:06 InstallContribNbextensionsApp]\u001b[m Up to date: /home/xiaoyu.li/.local/share/jupyter/nbextensions/spellchecker/config.yaml\n",
      "\u001b[32m[I 15:22:06 InstallContribNbextensionsApp]\u001b[m Up to date: /home/xiaoyu.li/.local/share/jupyter/nbextensions/spellchecker/screenshot.png\n",
      "\u001b[32m[I 15:22:06 InstallContribNbextensionsApp]\u001b[m Up to date: /home/xiaoyu.li/.local/share/jupyter/nbextensions/spellchecker/main.js\n",
      "\u001b[32m[I 15:22:06 InstallContribNbextensionsApp]\u001b[m Up to date: /home/xiaoyu.li/.local/share/jupyter/nbextensions/spellchecker/main.css\n",
      "\u001b[32m[I 15:22:06 InstallContribNbextensionsApp]\u001b[m Up to date: /home/xiaoyu.li/.local/share/jupyter/nbextensions/spellchecker/download_new_dict.py\n",
      "\u001b[32m[I 15:22:06 InstallContribNbextensionsApp]\u001b[m Up to date: /home/xiaoyu.li/.local/share/jupyter/nbextensions/spellchecker/__pycache__/download_new_dict.cpython-37.pyc\n",
      "\u001b[32m[I 15:22:06 InstallContribNbextensionsApp]\u001b[m Up to date: /home/xiaoyu.li/.local/share/jupyter/nbextensions/spellchecker/typo/typo.js\n",
      "\u001b[32m[I 15:22:06 InstallContribNbextensionsApp]\u001b[m Up to date: /home/xiaoyu.li/.local/share/jupyter/nbextensions/spellchecker/typo/LICENSE.txt\n",
      "\u001b[32m[I 15:22:06 InstallContribNbextensionsApp]\u001b[m - Validating: \u001b[32mOK\u001b[0m\n",
      "\u001b[32m[I 15:22:06 InstallContribNbextensionsApp]\u001b[m Installing /home/xiaoyu.li/.conda/envs/polymotv2/lib/python3.7/site-packages/jupyter_contrib_nbextensions/nbextensions/highlighter -> highlighter\n",
      "\u001b[32m[I 15:22:06 InstallContribNbextensionsApp]\u001b[m Up to date: /home/xiaoyu.li/.local/share/jupyter/nbextensions/highlighter/tst_highlights.ipynb\n",
      "\u001b[32m[I 15:22:06 InstallContribNbextensionsApp]\u001b[m Up to date: /home/xiaoyu.li/.local/share/jupyter/nbextensions/highlighter/icon.png\n",
      "\u001b[32m[I 15:22:06 InstallContribNbextensionsApp]\u001b[m Up to date: /home/xiaoyu.li/.local/share/jupyter/nbextensions/highlighter/export_highlights.pdf\n",
      "\u001b[32m[I 15:22:06 InstallContribNbextensionsApp]\u001b[m Up to date: /home/xiaoyu.li/.local/share/jupyter/nbextensions/highlighter/tst_highlights.pdf\n",
      "\u001b[32m[I 15:22:06 InstallContribNbextensionsApp]\u001b[m Up to date: /home/xiaoyu.li/.local/share/jupyter/nbextensions/highlighter/highlighter.js\n",
      "\u001b[32m[I 15:22:06 InstallContribNbextensionsApp]\u001b[m Up to date: /home/xiaoyu.li/.local/share/jupyter/nbextensions/highlighter/highlighter.css\n",
      "\u001b[32m[I 15:22:06 InstallContribNbextensionsApp]\u001b[m Up to date: /home/xiaoyu.li/.local/share/jupyter/nbextensions/highlighter/tst_highlights.tex\n",
      "\u001b[32m[I 15:22:06 InstallContribNbextensionsApp]\u001b[m Up to date: /home/xiaoyu.li/.local/share/jupyter/nbextensions/highlighter/readme.md\n",
      "\u001b[32m[I 15:22:06 InstallContribNbextensionsApp]\u001b[m Up to date: /home/xiaoyu.li/.local/share/jupyter/nbextensions/highlighter/export_highlights.ipynb\n",
      "\u001b[32m[I 15:22:06 InstallContribNbextensionsApp]\u001b[m Up to date: /home/xiaoyu.li/.local/share/jupyter/nbextensions/highlighter/demo_highlighter.ipynb\n",
      "\u001b[32m[I 15:22:06 InstallContribNbextensionsApp]\u001b[m Up to date: /home/xiaoyu.li/.local/share/jupyter/nbextensions/highlighter/image.gif\n",
      "\u001b[32m[I 15:22:06 InstallContribNbextensionsApp]\u001b[m Up to date: /home/xiaoyu.li/.local/share/jupyter/nbextensions/highlighter/demo_highlighter.html\n",
      "\u001b[32m[I 15:22:06 InstallContribNbextensionsApp]\u001b[m Up to date: /home/xiaoyu.li/.local/share/jupyter/nbextensions/highlighter/export_highlights.tex\n",
      "\u001b[32m[I 15:22:06 InstallContribNbextensionsApp]\u001b[m Up to date: /home/xiaoyu.li/.local/share/jupyter/nbextensions/highlighter/highlighter.yaml\n",
      "\u001b[32m[I 15:22:06 InstallContribNbextensionsApp]\u001b[m Up to date: /home/xiaoyu.li/.local/share/jupyter/nbextensions/highlighter/tst_highlights.html\n",
      "\u001b[32m[I 15:22:06 InstallContribNbextensionsApp]\u001b[m Up to date: /home/xiaoyu.li/.local/share/jupyter/nbextensions/highlighter/export_highlights.html\n",
      "\u001b[32m[I 15:22:06 InstallContribNbextensionsApp]\u001b[m - Validating: \u001b[32mOK\u001b[0m\n",
      "\u001b[32m[I 15:22:06 InstallContribNbextensionsApp]\u001b[m Installing /home/xiaoyu.li/.conda/envs/polymotv2/lib/python3.7/site-packages/jupyter_contrib_nbextensions/nbextensions/snippets -> snippets\n",
      "\u001b[32m[I 15:22:06 InstallContribNbextensionsApp]\u001b[m Up to date: /home/xiaoyu.li/.local/share/jupyter/nbextensions/snippets/snippets.json\n",
      "\u001b[32m[I 15:22:06 InstallContribNbextensionsApp]\u001b[m Up to date: /home/xiaoyu.li/.local/share/jupyter/nbextensions/snippets/README.md\n",
      "\u001b[32m[I 15:22:06 InstallContribNbextensionsApp]\u001b[m Up to date: /home/xiaoyu.li/.local/share/jupyter/nbextensions/snippets/snippets.yaml\n",
      "\u001b[32m[I 15:22:06 InstallContribNbextensionsApp]\u001b[m Up to date: /home/xiaoyu.li/.local/share/jupyter/nbextensions/snippets/snippets-demo.gif\n",
      "\u001b[32m[I 15:22:06 InstallContribNbextensionsApp]\u001b[m Up to date: /home/xiaoyu.li/.local/share/jupyter/nbextensions/snippets/main.js\n",
      "\u001b[32m[I 15:22:06 InstallContribNbextensionsApp]\u001b[m - Validating: \u001b[32mOK\u001b[0m\n",
      "\u001b[32m[I 15:22:06 InstallContribNbextensionsApp]\u001b[m Installing /home/xiaoyu.li/.conda/envs/polymotv2/lib/python3.7/site-packages/jupyter_contrib_nbextensions/nbextensions/autoscroll -> autoscroll\n",
      "\u001b[32m[I 15:22:06 InstallContribNbextensionsApp]\u001b[m Up to date: /home/xiaoyu.li/.local/share/jupyter/nbextensions/autoscroll/icon.png\n",
      "\u001b[32m[I 15:22:06 InstallContribNbextensionsApp]\u001b[m Up to date: /home/xiaoyu.li/.local/share/jupyter/nbextensions/autoscroll/README.md\n",
      "\u001b[32m[I 15:22:06 InstallContribNbextensionsApp]\u001b[m Up to date: /home/xiaoyu.li/.local/share/jupyter/nbextensions/autoscroll/main.js\n",
      "\u001b[32m[I 15:22:06 InstallContribNbextensionsApp]\u001b[m Up to date: /home/xiaoyu.li/.local/share/jupyter/nbextensions/autoscroll/autoscroll.yaml\n",
      "\u001b[32m[I 15:22:06 InstallContribNbextensionsApp]\u001b[m - Validating: \u001b[32mOK\u001b[0m\n",
      "\u001b[32m[I 15:22:06 InstallContribNbextensionsApp]\u001b[m Installing /home/xiaoyu.li/.conda/envs/polymotv2/lib/python3.7/site-packages/jupyter_contrib_nbextensions/nbextensions/hinterland -> hinterland\n",
      "\u001b[32m[I 15:22:06 InstallContribNbextensionsApp]\u001b[m Up to date: /home/xiaoyu.li/.local/share/jupyter/nbextensions/hinterland/README.md\n",
      "\u001b[32m[I 15:22:06 InstallContribNbextensionsApp]\u001b[m Up to date: /home/xiaoyu.li/.local/share/jupyter/nbextensions/hinterland/hinterland.yaml\n",
      "\u001b[32m[I 15:22:06 InstallContribNbextensionsApp]\u001b[m Up to date: /home/xiaoyu.li/.local/share/jupyter/nbextensions/hinterland/hinterland.js\n",
      "\u001b[32m[I 15:22:06 InstallContribNbextensionsApp]\u001b[m - Validating: \u001b[32mOK\u001b[0m\n",
      "\u001b[32m[I 15:22:06 InstallContribNbextensionsApp]\u001b[m Installing /home/xiaoyu.li/.conda/envs/polymotv2/lib/python3.7/site-packages/jupyter_contrib_nbextensions/nbextensions/select_keymap -> select_keymap\n",
      "\u001b[32m[I 15:22:06 InstallContribNbextensionsApp]\u001b[m Up to date: /home/xiaoyu.li/.local/share/jupyter/nbextensions/select_keymap/select_keymap.yaml\n",
      "\u001b[32m[I 15:22:06 InstallContribNbextensionsApp]\u001b[m Up to date: /home/xiaoyu.li/.local/share/jupyter/nbextensions/select_keymap/README.md\n",
      "\u001b[32m[I 15:22:06 InstallContribNbextensionsApp]\u001b[m Up to date: /home/xiaoyu.li/.local/share/jupyter/nbextensions/select_keymap/select_keymap.png\n",
      "\u001b[32m[I 15:22:06 InstallContribNbextensionsApp]\u001b[m Up to date: /home/xiaoyu.li/.local/share/jupyter/nbextensions/select_keymap/main.js\n",
      "\u001b[32m[I 15:22:06 InstallContribNbextensionsApp]\u001b[m - Validating: \u001b[32mOK\u001b[0m\n",
      "\u001b[32m[I 15:22:06 InstallContribNbextensionsApp]\u001b[m Installing /home/xiaoyu.li/.conda/envs/polymotv2/lib/python3.7/site-packages/jupyter_contrib_nbextensions/nbextensions/equation-numbering -> equation-numbering\n",
      "\u001b[32m[I 15:22:06 InstallContribNbextensionsApp]\u001b[m Up to date: /home/xiaoyu.li/.local/share/jupyter/nbextensions/equation-numbering/icon.png\n",
      "\u001b[32m[I 15:22:06 InstallContribNbextensionsApp]\u001b[m Up to date: /home/xiaoyu.li/.local/share/jupyter/nbextensions/equation-numbering/info.yaml\n",
      "\u001b[32m[I 15:22:06 InstallContribNbextensionsApp]\u001b[m Up to date: /home/xiaoyu.li/.local/share/jupyter/nbextensions/equation-numbering/button.png\n",
      "\u001b[32m[I 15:22:06 InstallContribNbextensionsApp]\u001b[m Up to date: /home/xiaoyu.li/.local/share/jupyter/nbextensions/equation-numbering/readme.md\n",
      "\u001b[32m[I 15:22:06 InstallContribNbextensionsApp]\u001b[m Up to date: /home/xiaoyu.li/.local/share/jupyter/nbextensions/equation-numbering/main.js\n",
      "\u001b[32m[I 15:22:06 InstallContribNbextensionsApp]\u001b[m - Validating: \u001b[32mOK\u001b[0m\n",
      "\u001b[32m[I 15:22:06 InstallContribNbextensionsApp]\u001b[m Installing /home/xiaoyu.li/.conda/envs/polymotv2/lib/python3.7/site-packages/jupyter_contrib_nbextensions/nbextensions/keyboard_shortcut_editor -> keyboard_shortcut_editor\n",
      "\u001b[32m[I 15:22:06 InstallContribNbextensionsApp]\u001b[m Up to date: /home/xiaoyu.li/.local/share/jupyter/nbextensions/keyboard_shortcut_editor/icon.png\n",
      "\u001b[32m[I 15:22:06 InstallContribNbextensionsApp]\u001b[m Up to date: /home/xiaoyu.li/.local/share/jupyter/nbextensions/keyboard_shortcut_editor/quickhelp_shim.js\n",
      "\u001b[32m[I 15:22:06 InstallContribNbextensionsApp]\u001b[m Up to date: /home/xiaoyu.li/.local/share/jupyter/nbextensions/keyboard_shortcut_editor/readme_shortcut_editor_success.png\n",
      "\u001b[32m[I 15:22:06 InstallContribNbextensionsApp]\u001b[m Up to date: /home/xiaoyu.li/.local/share/jupyter/nbextensions/keyboard_shortcut_editor/readme_add_new_link.png\n",
      "\u001b[32m[I 15:22:06 InstallContribNbextensionsApp]\u001b[m Up to date: /home/xiaoyu.li/.local/share/jupyter/nbextensions/keyboard_shortcut_editor/readme_menu_item.png\n",
      "\u001b[32m[I 15:22:06 InstallContribNbextensionsApp]\u001b[m Up to date: /home/xiaoyu.li/.local/share/jupyter/nbextensions/keyboard_shortcut_editor/readme_reset_disabled.png\n",
      "\u001b[32m[I 15:22:06 InstallContribNbextensionsApp]\u001b[m Up to date: /home/xiaoyu.li/.local/share/jupyter/nbextensions/keyboard_shortcut_editor/README.md\n",
      "\u001b[32m[I 15:22:06 InstallContribNbextensionsApp]\u001b[m Up to date: /home/xiaoyu.li/.local/share/jupyter/nbextensions/keyboard_shortcut_editor/readme_conflict.png\n",
      "\u001b[32m[I 15:22:06 InstallContribNbextensionsApp]\u001b[m Up to date: /home/xiaoyu.li/.local/share/jupyter/nbextensions/keyboard_shortcut_editor/readme_shortcut_editor_blank.png\n",
      "\u001b[32m[I 15:22:06 InstallContribNbextensionsApp]\u001b[m Up to date: /home/xiaoyu.li/.local/share/jupyter/nbextensions/keyboard_shortcut_editor/readme_undefined_key.png\n",
      "\u001b[32m[I 15:22:06 InstallContribNbextensionsApp]\u001b[m Up to date: /home/xiaoyu.li/.local/share/jupyter/nbextensions/keyboard_shortcut_editor/kse_components.js\n",
      "\u001b[32m[I 15:22:06 InstallContribNbextensionsApp]\u001b[m Up to date: /home/xiaoyu.li/.local/share/jupyter/nbextensions/keyboard_shortcut_editor/main.js\n",
      "\u001b[32m[I 15:22:06 InstallContribNbextensionsApp]\u001b[m Up to date: /home/xiaoyu.li/.local/share/jupyter/nbextensions/keyboard_shortcut_editor/main.css\n",
      "\u001b[32m[I 15:22:06 InstallContribNbextensionsApp]\u001b[m Up to date: /home/xiaoyu.li/.local/share/jupyter/nbextensions/keyboard_shortcut_editor/readme_comma.png\n",
      "\u001b[32m[I 15:22:06 InstallContribNbextensionsApp]\u001b[m Up to date: /home/xiaoyu.li/.local/share/jupyter/nbextensions/keyboard_shortcut_editor/readme_dropdown.png\n",
      "\u001b[32m[I 15:22:06 InstallContribNbextensionsApp]\u001b[m Up to date: /home/xiaoyu.li/.local/share/jupyter/nbextensions/keyboard_shortcut_editor/keyboard_shortcut_editor.yaml\n",
      "\u001b[32m[I 15:22:06 InstallContribNbextensionsApp]\u001b[m Up to date: /home/xiaoyu.li/.local/share/jupyter/nbextensions/keyboard_shortcut_editor/readme_add_new_select_action.png\n",
      "\u001b[32m[I 15:22:06 InstallContribNbextensionsApp]\u001b[m - Validating: \u001b[32mOK\u001b[0m\n",
      "\u001b[32m[I 15:22:06 InstallContribNbextensionsApp]\u001b[m Installing /home/xiaoyu.li/.conda/envs/polymotv2/lib/python3.7/site-packages/jupyter_contrib_nbextensions/nbextensions/gist_it -> gist_it\n",
      "\u001b[32m[I 15:22:06 InstallContribNbextensionsApp]\u001b[m Up to date: /home/xiaoyu.li/.local/share/jupyter/nbextensions/gist_it/icon.png\n",
      "\u001b[32m[I 15:22:06 InstallContribNbextensionsApp]\u001b[m Up to date: /home/xiaoyu.li/.local/share/jupyter/nbextensions/gist_it/readme.md\n",
      "\u001b[32m[I 15:22:06 InstallContribNbextensionsApp]\u001b[m Up to date: /home/xiaoyu.li/.local/share/jupyter/nbextensions/gist_it/gist_it.yaml\n",
      "\u001b[32m[I 15:22:06 InstallContribNbextensionsApp]\u001b[m Up to date: /home/xiaoyu.li/.local/share/jupyter/nbextensions/gist_it/main.js\n",
      "\u001b[32m[I 15:22:06 InstallContribNbextensionsApp]\u001b[m - Validating: \u001b[32mOK\u001b[0m\n",
      "\u001b[32m[I 15:22:06 InstallContribNbextensionsApp]\u001b[m Installing /home/xiaoyu.li/.conda/envs/polymotv2/lib/python3.7/site-packages/jupyter_contrib_nbextensions/nbextensions/runtools -> runtools\n",
      "\u001b[32m[I 15:22:06 InstallContribNbextensionsApp]\u001b[m Up to date: /home/xiaoyu.li/.local/share/jupyter/nbextensions/runtools/runtools.yaml\n",
      "\u001b[32m[I 15:22:06 InstallContribNbextensionsApp]\u001b[m Up to date: /home/xiaoyu.li/.local/share/jupyter/nbextensions/runtools/demo.gif\n",
      "\u001b[32m[I 15:22:06 InstallContribNbextensionsApp]\u001b[m Up to date: /home/xiaoyu.li/.local/share/jupyter/nbextensions/runtools/icon.png\n",
      "\u001b[32m[I 15:22:06 InstallContribNbextensionsApp]\u001b[m Up to date: /home/xiaoyu.li/.local/share/jupyter/nbextensions/runtools/annotations.odg\n",
      "\u001b[32m[I 15:22:06 InstallContribNbextensionsApp]\u001b[m Up to date: /home/xiaoyu.li/.local/share/jupyter/nbextensions/runtools/gutter.css\n",
      "\u001b[32m[I 15:22:06 InstallContribNbextensionsApp]\u001b[m Up to date: /home/xiaoyu.li/.local/share/jupyter/nbextensions/runtools/runtools_marker.png\n",
      "\u001b[32m[I 15:22:06 InstallContribNbextensionsApp]\u001b[m Up to date: /home/xiaoyu.li/.local/share/jupyter/nbextensions/runtools/readme.md\n",
      "\u001b[32m[I 15:22:06 InstallContribNbextensionsApp]\u001b[m Up to date: /home/xiaoyu.li/.local/share/jupyter/nbextensions/runtools/runtools_show_hide.png\n",
      "\u001b[32m[I 15:22:06 InstallContribNbextensionsApp]\u001b[m Up to date: /home/xiaoyu.li/.local/share/jupyter/nbextensions/runtools/runtools_nb.png\n",
      "\u001b[32m[I 15:22:06 InstallContribNbextensionsApp]\u001b[m Up to date: /home/xiaoyu.li/.local/share/jupyter/nbextensions/runtools/runtools_execute.png\n"
     ]
    },
    {
     "name": "stdout",
     "output_type": "stream",
     "text": [
      "\u001b[32m[I 15:22:06 InstallContribNbextensionsApp]\u001b[m Up to date: /home/xiaoyu.li/.local/share/jupyter/nbextensions/runtools/runtools_lock.png\r\n",
      "\u001b[32m[I 15:22:06 InstallContribNbextensionsApp]\u001b[m Up to date: /home/xiaoyu.li/.local/share/jupyter/nbextensions/runtools/main.js\r\n",
      "\u001b[32m[I 15:22:06 InstallContribNbextensionsApp]\u001b[m Up to date: /home/xiaoyu.li/.local/share/jupyter/nbextensions/runtools/cellstate.js\r\n",
      "\u001b[32m[I 15:22:06 InstallContribNbextensionsApp]\u001b[m Up to date: /home/xiaoyu.li/.local/share/jupyter/nbextensions/runtools/main.css\r\n",
      "\u001b[32m[I 15:22:06 InstallContribNbextensionsApp]\u001b[m - Validating: \u001b[32mOK\u001b[0m\r\n",
      "\u001b[32m[I 15:22:06 InstallContribNbextensionsApp]\u001b[m Installing /home/xiaoyu.li/.conda/envs/polymotv2/lib/python3.7/site-packages/jupyter_contrib_nbextensions/nbextensions/splitcell -> splitcell\r\n",
      "\u001b[32m[I 15:22:06 InstallContribNbextensionsApp]\u001b[m Up to date: /home/xiaoyu.li/.local/share/jupyter/nbextensions/splitcell/splitcell.yaml\r\n",
      "\u001b[32m[I 15:22:06 InstallContribNbextensionsApp]\u001b[m Up to date: /home/xiaoyu.li/.local/share/jupyter/nbextensions/splitcell/icon.png\r\n",
      "\u001b[32m[I 15:22:06 InstallContribNbextensionsApp]\u001b[m Up to date: /home/xiaoyu.li/.local/share/jupyter/nbextensions/splitcell/splitcell.js\r\n",
      "\u001b[32m[I 15:22:06 InstallContribNbextensionsApp]\u001b[m Up to date: /home/xiaoyu.li/.local/share/jupyter/nbextensions/splitcell/readme.md\r\n",
      "\u001b[32m[I 15:22:06 InstallContribNbextensionsApp]\u001b[m - Validating: \u001b[32mOK\u001b[0m\r\n",
      "\u001b[32m[I 15:22:06 InstallContribNbextensionsApp]\u001b[m Installing /home/xiaoyu.li/.conda/envs/polymotv2/lib/python3.7/site-packages/jupyter_contrib_nbextensions/nbextensions/help_panel -> help_panel\r\n",
      "\u001b[32m[I 15:22:06 InstallContribNbextensionsApp]\u001b[m Up to date: /home/xiaoyu.li/.local/share/jupyter/nbextensions/help_panel/icon.png\r\n",
      "\u001b[32m[I 15:22:06 InstallContribNbextensionsApp]\u001b[m Up to date: /home/xiaoyu.li/.local/share/jupyter/nbextensions/help_panel/help_panel_ext_fullscreen.png\r\n",
      "\u001b[32m[I 15:22:06 InstallContribNbextensionsApp]\u001b[m Up to date: /home/xiaoyu.li/.local/share/jupyter/nbextensions/help_panel/readme.md\r\n",
      "\u001b[32m[I 15:22:06 InstallContribNbextensionsApp]\u001b[m Up to date: /home/xiaoyu.li/.local/share/jupyter/nbextensions/help_panel/help_panel.yaml\r\n",
      "\u001b[32m[I 15:22:06 InstallContribNbextensionsApp]\u001b[m Up to date: /home/xiaoyu.li/.local/share/jupyter/nbextensions/help_panel/help_panel_ext.png\r\n",
      "\u001b[32m[I 15:22:06 InstallContribNbextensionsApp]\u001b[m Up to date: /home/xiaoyu.li/.local/share/jupyter/nbextensions/help_panel/help_panel.css\r\n",
      "\u001b[32m[I 15:22:06 InstallContribNbextensionsApp]\u001b[m Up to date: /home/xiaoyu.li/.local/share/jupyter/nbextensions/help_panel/help_panel.js\r\n",
      "\u001b[32m[I 15:22:06 InstallContribNbextensionsApp]\u001b[m Up to date: /home/xiaoyu.li/.local/share/jupyter/nbextensions/help_panel/img/handle-v.png\r\n",
      "\u001b[32m[I 15:22:06 InstallContribNbextensionsApp]\u001b[m - Validating: \u001b[32mOK\u001b[0m\r\n",
      "\u001b[32m[I 15:22:06 InstallContribNbextensionsApp]\u001b[m Installing /home/xiaoyu.li/.conda/envs/polymotv2/lib/python3.7/site-packages/jupyter_contrib_nbextensions/nbextensions/comment-uncomment -> comment-uncomment\r\n",
      "\u001b[32m[I 15:22:06 InstallContribNbextensionsApp]\u001b[m Up to date: /home/xiaoyu.li/.local/share/jupyter/nbextensions/comment-uncomment/icon.png\r\n",
      "\u001b[32m[I 15:22:06 InstallContribNbextensionsApp]\u001b[m Up to date: /home/xiaoyu.li/.local/share/jupyter/nbextensions/comment-uncomment/readme.md\r\n",
      "\u001b[32m[I 15:22:06 InstallContribNbextensionsApp]\u001b[m Up to date: /home/xiaoyu.li/.local/share/jupyter/nbextensions/comment-uncomment/main.js\r\n",
      "\u001b[32m[I 15:22:06 InstallContribNbextensionsApp]\u001b[m Up to date: /home/xiaoyu.li/.local/share/jupyter/nbextensions/comment-uncomment/comment-uncomment.yaml\r\n",
      "\u001b[32m[I 15:22:06 InstallContribNbextensionsApp]\u001b[m - Validating: \u001b[32mOK\u001b[0m\r\n",
      "\u001b[32m[I 15:22:06 InstallContribNbextensionsApp]\u001b[m Installing /home/xiaoyu.li/.conda/envs/polymotv2/lib/python3.7/site-packages/jupyter_contrib_nbextensions/nbextensions/exercise -> exercise\r\n",
      "\u001b[32m[I 15:22:06 InstallContribNbextensionsApp]\u001b[m Up to date: /home/xiaoyu.li/.local/share/jupyter/nbextensions/exercise/icon.png\r\n",
      "\u001b[32m[I 15:22:06 InstallContribNbextensionsApp]\u001b[m Up to date: /home/xiaoyu.li/.local/share/jupyter/nbextensions/exercise/history.md\r\n",
      "\u001b[32m[I 15:22:06 InstallContribNbextensionsApp]\u001b[m Up to date: /home/xiaoyu.li/.local/share/jupyter/nbextensions/exercise/readme.md\r\n",
      "\u001b[32m[I 15:22:06 InstallContribNbextensionsApp]\u001b[m Up to date: /home/xiaoyu.li/.local/share/jupyter/nbextensions/exercise/image.gif\r\n",
      "\u001b[32m[I 15:22:06 InstallContribNbextensionsApp]\u001b[m Up to date: /home/xiaoyu.li/.local/share/jupyter/nbextensions/exercise/main.js\r\n",
      "\u001b[32m[I 15:22:06 InstallContribNbextensionsApp]\u001b[m Up to date: /home/xiaoyu.li/.local/share/jupyter/nbextensions/exercise/main.css\r\n",
      "\u001b[32m[I 15:22:06 InstallContribNbextensionsApp]\u001b[m Up to date: /home/xiaoyu.li/.local/share/jupyter/nbextensions/exercise/exercise.yaml\r\n",
      "\u001b[32m[I 15:22:06 InstallContribNbextensionsApp]\u001b[m - Validating: \u001b[32mOK\u001b[0m\r\n",
      "\u001b[32m[I 15:22:06 InstallContribNbextensionsApp]\u001b[m Installing /home/xiaoyu.li/.conda/envs/polymotv2/lib/python3.7/site-packages/jupyter_contrib_nbextensions/nbextensions/load_tex_macros -> load_tex_macros\r\n",
      "\u001b[32m[I 15:22:06 InstallContribNbextensionsApp]\u001b[m Up to date: /home/xiaoyu.li/.local/share/jupyter/nbextensions/load_tex_macros/icon.png\r\n",
      "\u001b[32m[I 15:22:06 InstallContribNbextensionsApp]\u001b[m Up to date: /home/xiaoyu.li/.local/share/jupyter/nbextensions/load_tex_macros/readme.md\r\n",
      "\u001b[32m[I 15:22:06 InstallContribNbextensionsApp]\u001b[m Up to date: /home/xiaoyu.li/.local/share/jupyter/nbextensions/load_tex_macros/main.js\r\n",
      "\u001b[32m[I 15:22:06 InstallContribNbextensionsApp]\u001b[m Up to date: /home/xiaoyu.li/.local/share/jupyter/nbextensions/load_tex_macros/load_tex_macros.yaml\r\n",
      "\u001b[32m[I 15:22:06 InstallContribNbextensionsApp]\u001b[m - Validating: \u001b[32mOK\u001b[0m\r\n",
      "\u001b[32m[I 15:22:06 InstallContribNbextensionsApp]\u001b[m Installing /home/xiaoyu.li/.conda/envs/polymotv2/lib/python3.7/site-packages/jupyter_contrib_nbextensions/nbextensions/limit_output -> limit_output\r\n",
      "\u001b[32m[I 15:22:06 InstallContribNbextensionsApp]\u001b[m Up to date: /home/xiaoyu.li/.local/share/jupyter/nbextensions/limit_output/icon.png\r\n",
      "\u001b[32m[I 15:22:06 InstallContribNbextensionsApp]\u001b[m Up to date: /home/xiaoyu.li/.local/share/jupyter/nbextensions/limit_output/limit-output.yaml\r\n",
      "\u001b[32m[I 15:22:06 InstallContribNbextensionsApp]\u001b[m Up to date: /home/xiaoyu.li/.local/share/jupyter/nbextensions/limit_output/readme.md\r\n",
      "\u001b[32m[I 15:22:06 InstallContribNbextensionsApp]\u001b[m Up to date: /home/xiaoyu.li/.local/share/jupyter/nbextensions/limit_output/main.js\r\n",
      "\u001b[32m[I 15:22:06 InstallContribNbextensionsApp]\u001b[m - Validating: \u001b[32mOK\u001b[0m\r\n",
      "\u001b[32m[I 15:22:06 InstallContribNbextensionsApp]\u001b[m Installing /home/xiaoyu.li/.conda/envs/polymotv2/lib/python3.7/site-packages/jupyter_contrib_nbextensions/nbextensions/livemdpreview -> livemdpreview\r\n",
      "\u001b[32m[I 15:22:06 InstallContribNbextensionsApp]\u001b[m Up to date: /home/xiaoyu.li/.local/share/jupyter/nbextensions/livemdpreview/livemdpreview.yml\r\n",
      "\u001b[32m[I 15:22:06 InstallContribNbextensionsApp]\u001b[m Up to date: /home/xiaoyu.li/.local/share/jupyter/nbextensions/livemdpreview/livemdpreview.js\r\n",
      "\u001b[32m[I 15:22:06 InstallContribNbextensionsApp]\u001b[m - Validating: \u001b[32mOK\u001b[0m\r\n",
      "\u001b[32m[I 15:22:06 InstallContribNbextensionsApp]\u001b[m Installing /home/xiaoyu.li/.conda/envs/polymotv2/lib/python3.7/site-packages/jupyter_contrib_nbextensions/nbextensions/zenmode -> zenmode\r\n",
      "\u001b[32m[I 15:22:06 InstallContribNbextensionsApp]\u001b[m Up to date: /home/xiaoyu.li/.local/share/jupyter/nbextensions/zenmode/README.md\r\n",
      "\u001b[32m[I 15:22:06 InstallContribNbextensionsApp]\u001b[m Up to date: /home/xiaoyu.li/.local/share/jupyter/nbextensions/zenmode/zenmode.yaml\r\n",
      "\u001b[32m[I 15:22:06 InstallContribNbextensionsApp]\u001b[m Up to date: /home/xiaoyu.li/.local/share/jupyter/nbextensions/zenmode/main.js\r\n",
      "\u001b[32m[I 15:22:06 InstallContribNbextensionsApp]\u001b[m Up to date: /home/xiaoyu.li/.local/share/jupyter/nbextensions/zenmode/main.css\r\n",
      "\u001b[32m[I 15:22:06 InstallContribNbextensionsApp]\u001b[m Up to date: /home/xiaoyu.li/.local/share/jupyter/nbextensions/zenmode/images/back11.jpg\r\n",
      "\u001b[32m[I 15:22:06 InstallContribNbextensionsApp]\u001b[m Up to date: /home/xiaoyu.li/.local/share/jupyter/nbextensions/zenmode/images/back21.jpg\r\n",
      "\u001b[32m[I 15:22:06 InstallContribNbextensionsApp]\u001b[m Up to date: /home/xiaoyu.li/.local/share/jupyter/nbextensions/zenmode/images/ipynblogo0.png\r\n",
      "\u001b[32m[I 15:22:06 InstallContribNbextensionsApp]\u001b[m Up to date: /home/xiaoyu.li/.local/share/jupyter/nbextensions/zenmode/images/back2.jpg\r\n",
      "\u001b[32m[I 15:22:06 InstallContribNbextensionsApp]\u001b[m Up to date: /home/xiaoyu.li/.local/share/jupyter/nbextensions/zenmode/images/back1.jpg\r\n",
      "\u001b[32m[I 15:22:06 InstallContribNbextensionsApp]\u001b[m Up to date: /home/xiaoyu.li/.local/share/jupyter/nbextensions/zenmode/images/back12.jpg\r\n",
      "\u001b[32m[I 15:22:06 InstallContribNbextensionsApp]\u001b[m Up to date: /home/xiaoyu.li/.local/share/jupyter/nbextensions/zenmode/images/ipynblogo1.png\r\n",
      "\u001b[32m[I 15:22:06 InstallContribNbextensionsApp]\u001b[m Up to date: /home/xiaoyu.li/.local/share/jupyter/nbextensions/zenmode/images/back3.jpg\r\n",
      "\u001b[32m[I 15:22:06 InstallContribNbextensionsApp]\u001b[m Up to date: /home/xiaoyu.li/.local/share/jupyter/nbextensions/zenmode/images/back22.jpg\r\n",
      "\u001b[32m[I 15:22:06 InstallContribNbextensionsApp]\u001b[m - Validating: \u001b[32mOK\u001b[0m\r\n",
      "\u001b[32m[I 15:22:06 InstallContribNbextensionsApp]\u001b[m Installing /home/xiaoyu.li/.conda/envs/polymotv2/lib/python3.7/site-packages/jupyter_contrib_nbextensions/nbextensions/toc2 -> toc2\r\n",
      "\u001b[32m[I 15:22:06 InstallContribNbextensionsApp]\u001b[m Up to date: /home/xiaoyu.li/.local/share/jupyter/nbextensions/toc2/demo.gif\r\n",
      "\u001b[32m[I 15:22:06 InstallContribNbextensionsApp]\u001b[m Up to date: /home/xiaoyu.li/.local/share/jupyter/nbextensions/toc2/icon.png\r\n",
      "\u001b[32m[I 15:22:06 InstallContribNbextensionsApp]\u001b[m Up to date: /home/xiaoyu.li/.local/share/jupyter/nbextensions/toc2/toc2.yaml\r\n",
      "\u001b[32m[I 15:22:06 InstallContribNbextensionsApp]\u001b[m Up to date: /home/xiaoyu.li/.local/share/jupyter/nbextensions/toc2/README.md\r\n",
      "\u001b[32m[I 15:22:06 InstallContribNbextensionsApp]\u001b[m Up to date: /home/xiaoyu.li/.local/share/jupyter/nbextensions/toc2/toc2.js\r\n",
      "\u001b[32m[I 15:22:06 InstallContribNbextensionsApp]\u001b[m Up to date: /home/xiaoyu.li/.local/share/jupyter/nbextensions/toc2/demo_dark.png\r\n",
      "\u001b[32m[I 15:22:06 InstallContribNbextensionsApp]\u001b[m Up to date: /home/xiaoyu.li/.local/share/jupyter/nbextensions/toc2/main.js\r\n",
      "\u001b[32m[I 15:22:06 InstallContribNbextensionsApp]\u001b[m Up to date: /home/xiaoyu.li/.local/share/jupyter/nbextensions/toc2/image.png\r\n",
      "\u001b[32m[I 15:22:06 InstallContribNbextensionsApp]\u001b[m Up to date: /home/xiaoyu.li/.local/share/jupyter/nbextensions/toc2/demo2.gif\r\n",
      "\u001b[32m[I 15:22:06 InstallContribNbextensionsApp]\u001b[m Up to date: /home/xiaoyu.li/.local/share/jupyter/nbextensions/toc2/main.css\r\n",
      "\u001b[32m[I 15:22:06 InstallContribNbextensionsApp]\u001b[m Up to date: /home/xiaoyu.li/.local/share/jupyter/nbextensions/toc2/demo3.gif\r\n",
      "\u001b[32m[I 15:22:06 InstallContribNbextensionsApp]\u001b[m - Validating: \u001b[32mOK\u001b[0m\r\n",
      "\u001b[32m[I 15:22:06 InstallContribNbextensionsApp]\u001b[m Installing /home/xiaoyu.li/.conda/envs/polymotv2/lib/python3.7/site-packages/jupyter_contrib_nbextensions/nbextensions/skill -> skill\r\n",
      "\u001b[32m[I 15:22:06 InstallContribNbextensionsApp]\u001b[m Up to date: /home/xiaoyu.li/.local/share/jupyter/nbextensions/skill/skill.js\r\n",
      "\u001b[32m[I 15:22:06 InstallContribNbextensionsApp]\u001b[m Up to date: /home/xiaoyu.li/.local/share/jupyter/nbextensions/skill/skill.yaml\r\n",
      "\u001b[32m[I 15:22:06 InstallContribNbextensionsApp]\u001b[m Up to date: /home/xiaoyu.li/.local/share/jupyter/nbextensions/skill/README.md\r\n",
      "\u001b[32m[I 15:22:06 InstallContribNbextensionsApp]\u001b[m Up to date: /home/xiaoyu.li/.local/share/jupyter/nbextensions/skill/main.js\r\n",
      "\u001b[32m[I 15:22:06 InstallContribNbextensionsApp]\u001b[m - Validating: \u001b[32mOK\u001b[0m\r\n",
      "\u001b[32m[I 15:22:06 InstallContribNbextensionsApp]\u001b[m Installing /home/xiaoyu.li/.conda/envs/polymotv2/lib/python3.7/site-packages/jupyter_contrib_nbextensions/nbextensions/addbefore -> addbefore\r\n",
      "\u001b[32m[I 15:22:06 InstallContribNbextensionsApp]\u001b[m Up to date: /home/xiaoyu.li/.local/share/jupyter/nbextensions/addbefore/icon.png\r\n",
      "\u001b[32m[I 15:22:06 InstallContribNbextensionsApp]\u001b[m Up to date: /home/xiaoyu.li/.local/share/jupyter/nbextensions/addbefore/addbefore.yaml\r\n",
      "\u001b[32m[I 15:22:06 InstallContribNbextensionsApp]\u001b[m Up to date: /home/xiaoyu.li/.local/share/jupyter/nbextensions/addbefore/readme.md\r\n",
      "\u001b[32m[I 15:22:06 InstallContribNbextensionsApp]\u001b[m Up to date: /home/xiaoyu.li/.local/share/jupyter/nbextensions/addbefore/main.js\r\n",
      "\u001b[32m[I 15:22:06 InstallContribNbextensionsApp]\u001b[m - Validating: \u001b[32mOK\u001b[0m\r\n",
      "\u001b[32m[I 15:22:06 InstallContribNbextensionsApp]\u001b[m Installing /home/xiaoyu.li/.conda/envs/polymotv2/lib/python3.7/site-packages/jupyter_contrib_nbextensions/nbextensions/skip-traceback -> skip-traceback\r\n",
      "\u001b[32m[I 15:22:06 InstallContribNbextensionsApp]\u001b[m Up to date: /home/xiaoyu.li/.local/share/jupyter/nbextensions/skip-traceback/icon.png\r\n",
      "\u001b[32m[I 15:22:06 InstallContribNbextensionsApp]\u001b[m Up to date: /home/xiaoyu.li/.local/share/jupyter/nbextensions/skip-traceback/readme.md\r\n",
      "\u001b[32m[I 15:22:06 InstallContribNbextensionsApp]\u001b[m Up to date: /home/xiaoyu.li/.local/share/jupyter/nbextensions/skip-traceback/traceback.png\r\n",
      "\u001b[32m[I 15:22:06 InstallContribNbextensionsApp]\u001b[m Up to date: /home/xiaoyu.li/.local/share/jupyter/nbextensions/skip-traceback/main.js\r\n",
      "\u001b[32m[I 15:22:06 InstallContribNbextensionsApp]\u001b[m Up to date: /home/xiaoyu.li/.local/share/jupyter/nbextensions/skip-traceback/skip-traceback.yaml\r\n",
      "\u001b[32m[I 15:22:06 InstallContribNbextensionsApp]\u001b[m Up to date: /home/xiaoyu.li/.local/share/jupyter/nbextensions/skip-traceback/skip-traceback.png\r\n",
      "\u001b[32m[I 15:22:06 InstallContribNbextensionsApp]\u001b[m - Validating: \u001b[32mOK\u001b[0m\r\n",
      "\u001b[32m[I 15:22:06 InstallContribNbextensionsApp]\u001b[m Installing /home/xiaoyu.li/.conda/envs/polymotv2/lib/python3.7/site-packages/jupyter_contrib_nbextensions/nbextensions/codemirror_mode_extensions -> codemirror_mode_extensions\r\n",
      "\u001b[32m[I 15:22:06 InstallContribNbextensionsApp]\u001b[m Up to date: /home/xiaoyu.li/.local/share/jupyter/nbextensions/codemirror_mode_extensions/main.js\r\n",
      "\u001b[32m[I 15:22:06 InstallContribNbextensionsApp]\u001b[m Up to date: /home/xiaoyu.li/.local/share/jupyter/nbextensions/codemirror_mode_extensions/codemirror_mode_extensions.yaml\r\n",
      "\u001b[32m[I 15:22:06 InstallContribNbextensionsApp]\u001b[m - Validating: \u001b[32mOK\u001b[0m\r\n",
      "\u001b[32m[I 15:22:06 InstallContribNbextensionsApp]\u001b[m Installing /home/xiaoyu.li/.conda/envs/polymotv2/lib/python3.7/site-packages/jupyter_contrib_nbextensions/nbextensions/export_embedded -> export_embedded\r\n",
      "\u001b[32m[I 15:22:06 InstallContribNbextensionsApp]\u001b[m Up to date: /home/xiaoyu.li/.local/share/jupyter/nbextensions/export_embedded/icon.png\r\n",
      "\u001b[32m[I 15:22:06 InstallContribNbextensionsApp]\u001b[m Up to date: /home/xiaoyu.li/.local/share/jupyter/nbextensions/export_embedded/readme.md\r\n",
      "\u001b[32m[I 15:22:06 InstallContribNbextensionsApp]\u001b[m Up to date: /home/xiaoyu.li/.local/share/jupyter/nbextensions/export_embedded/export_embedded.yaml\r\n",
      "\u001b[32m[I 15:22:06 InstallContribNbextensionsApp]\u001b[m Up to date: /home/xiaoyu.li/.local/share/jupyter/nbextensions/export_embedded/main.js\r\n",
      "\u001b[32m[I 15:22:06 InstallContribNbextensionsApp]\u001b[m - Validating: \u001b[32mOK\u001b[0m\r\n",
      "\u001b[32m[I 15:22:06 InstallContribNbextensionsApp]\u001b[m Installing /home/xiaoyu.li/.conda/envs/polymotv2/lib/python3.7/site-packages/jupyter_contrib_nbextensions/nbextensions/qtconsole -> qtconsole\r\n",
      "\u001b[32m[I 15:22:06 InstallContribNbextensionsApp]\u001b[m Up to date: /home/xiaoyu.li/.local/share/jupyter/nbextensions/qtconsole/qtconsole.js\r\n",
      "\u001b[32m[I 15:22:06 InstallContribNbextensionsApp]\u001b[m Up to date: /home/xiaoyu.li/.local/share/jupyter/nbextensions/qtconsole/README.md\r\n",
      "\u001b[32m[I 15:22:06 InstallContribNbextensionsApp]\u001b[m Up to date: /home/xiaoyu.li/.local/share/jupyter/nbextensions/qtconsole/qtconsole.yaml\r\n",
      "\u001b[32m[I 15:22:06 InstallContribNbextensionsApp]\u001b[m - Validating: \u001b[32mOK\u001b[0m\r\n",
      "\u001b[32m[I 15:22:06 InstallContribNbextensionsApp]\u001b[m Installing /home/xiaoyu.li/.conda/envs/polymotv2/lib/python3.7/site-packages/jupyter_contrib_nbextensions/nbextensions/toggle_all_line_numbers -> toggle_all_line_numbers\r\n",
      "\u001b[32m[I 15:22:06 InstallContribNbextensionsApp]\u001b[m Up to date: /home/xiaoyu.li/.local/share/jupyter/nbextensions/toggle_all_line_numbers/icon.png\r\n",
      "\u001b[32m[I 15:22:06 InstallContribNbextensionsApp]\u001b[m Up to date: /home/xiaoyu.li/.local/share/jupyter/nbextensions/toggle_all_line_numbers/readme.md\r\n",
      "\u001b[32m[I 15:22:06 InstallContribNbextensionsApp]\u001b[m Up to date: /home/xiaoyu.li/.local/share/jupyter/nbextensions/toggle_all_line_numbers/main.yaml\r\n",
      "\u001b[32m[I 15:22:06 InstallContribNbextensionsApp]\u001b[m Up to date: /home/xiaoyu.li/.local/share/jupyter/nbextensions/toggle_all_line_numbers/main.js\r\n",
      "\u001b[32m[I 15:22:06 InstallContribNbextensionsApp]\u001b[m - Validating: \u001b[32mOK\u001b[0m\r\n",
      "\u001b[32m[I 15:22:06 InstallContribNbextensionsApp]\u001b[m Installing /home/xiaoyu.li/.conda/envs/polymotv2/lib/python3.7/site-packages/jupyter_contrib_nbextensions/nbextensions/code_font_size -> code_font_size\r\n",
      "\u001b[32m[I 15:22:06 InstallContribNbextensionsApp]\u001b[m Up to date: /home/xiaoyu.li/.local/share/jupyter/nbextensions/code_font_size/README.md\r\n",
      "\u001b[32m[I 15:22:06 InstallContribNbextensionsApp]\u001b[m Up to date: /home/xiaoyu.li/.local/share/jupyter/nbextensions/code_font_size/code_font_size.js\r\n",
      "\u001b[32m[I 15:22:06 InstallContribNbextensionsApp]\u001b[m Up to date: /home/xiaoyu.li/.local/share/jupyter/nbextensions/code_font_size/code_font_size.yaml\r\n",
      "\u001b[32m[I 15:22:06 InstallContribNbextensionsApp]\u001b[m - Validating: \u001b[32mOK\u001b[0m\r\n",
      "\u001b[32m[I 15:22:06 InstallContribNbextensionsApp]\u001b[m Installing /home/xiaoyu.li/.conda/envs/polymotv2/lib/python3.7/site-packages/jupyter_contrib_nbextensions/nbextensions/init_cell -> init_cell\r\n",
      "\u001b[32m[I 15:22:06 InstallContribNbextensionsApp]\u001b[m Up to date: /home/xiaoyu.li/.local/share/jupyter/nbextensions/init_cell/icon.png\r\n",
      "\u001b[32m[I 15:22:06 InstallContribNbextensionsApp]\u001b[m Up to date: /home/xiaoyu.li/.local/share/jupyter/nbextensions/init_cell/README.md\r\n",
      "\u001b[32m[I 15:22:06 InstallContribNbextensionsApp]\u001b[m Up to date: /home/xiaoyu.li/.local/share/jupyter/nbextensions/init_cell/cell_toolbar_menu.png\r\n",
      "\u001b[32m[I 15:22:06 InstallContribNbextensionsApp]\u001b[m Up to date: /home/xiaoyu.li/.local/share/jupyter/nbextensions/init_cell/init_cell.yaml\r\n",
      "\u001b[32m[I 15:22:06 InstallContribNbextensionsApp]\u001b[m Up to date: /home/xiaoyu.li/.local/share/jupyter/nbextensions/init_cell/main.js\r\n",
      "\u001b[32m[I 15:22:06 InstallContribNbextensionsApp]\u001b[m - Validating: \u001b[32mOK\u001b[0m\r\n",
      "\u001b[32m[I 15:22:06 InstallContribNbextensionsApp]\u001b[m Installing /home/xiaoyu.li/.conda/envs/polymotv2/lib/python3.7/site-packages/jupyter_contrib_nbextensions/nbextensions/execution_dependencies -> execution_dependencies\r\n",
      "\u001b[32m[I 15:22:06 InstallContribNbextensionsApp]\u001b[m Up to date: /home/xiaoyu.li/.local/share/jupyter/nbextensions/execution_dependencies/execution_dependencies.yml\r\n",
      "\u001b[32m[I 15:22:06 InstallContribNbextensionsApp]\u001b[m Up to date: /home/xiaoyu.li/.local/share/jupyter/nbextensions/execution_dependencies/README.md\r\n",
      "\u001b[32m[I 15:22:06 InstallContribNbextensionsApp]\u001b[m Up to date: /home/xiaoyu.li/.local/share/jupyter/nbextensions/execution_dependencies/execution_dependencies.js\r\n",
      "\u001b[32m[I 15:22:06 InstallContribNbextensionsApp]\u001b[m - Validating: \u001b[32mOK\u001b[0m\r\n",
      "\u001b[32m[I 15:22:06 InstallContribNbextensionsApp]\u001b[m Installing /home/xiaoyu.li/.conda/envs/polymotv2/lib/python3.7/site-packages/jupyter_contrib_nbextensions/nbextensions/contrib_nbextensions_help_item -> contrib_nbextensions_help_item\r\n",
      "\u001b[32m[I 15:22:06 InstallContribNbextensionsApp]\u001b[m Up to date: /home/xiaoyu.li/.local/share/jupyter/nbextensions/contrib_nbextensions_help_item/contrib_nbextensions_help_item.yaml\r\n",
      "\u001b[32m[I 15:22:06 InstallContribNbextensionsApp]\u001b[m Up to date: /home/xiaoyu.li/.local/share/jupyter/nbextensions/contrib_nbextensions_help_item/README.md\r\n",
      "\u001b[32m[I 15:22:06 InstallContribNbextensionsApp]\u001b[m Up to date: /home/xiaoyu.li/.local/share/jupyter/nbextensions/contrib_nbextensions_help_item/main.js\r\n",
      "\u001b[32m[I 15:22:06 InstallContribNbextensionsApp]\u001b[m - Validating: \u001b[32mOK\u001b[0m\r\n",
      "\u001b[32m[I 15:22:06 InstallContribNbextensionsApp]\u001b[m Installing /home/xiaoyu.li/.conda/envs/polymotv2/lib/python3.7/site-packages/jupyter_contrib_nbextensions/nbextensions/freeze -> freeze\r\n",
      "\u001b[32m[I 15:22:06 InstallContribNbextensionsApp]\u001b[m Up to date: /home/xiaoyu.li/.local/share/jupyter/nbextensions/freeze/icon.png\r\n",
      "\u001b[32m[I 15:22:06 InstallContribNbextensionsApp]\u001b[m Up to date: /home/xiaoyu.li/.local/share/jupyter/nbextensions/freeze/readme.md\r\n",
      "\u001b[32m[I 15:22:06 InstallContribNbextensionsApp]\u001b[m Up to date: /home/xiaoyu.li/.local/share/jupyter/nbextensions/freeze/config.yaml\r\n",
      "\u001b[32m[I 15:22:06 InstallContribNbextensionsApp]\u001b[m Up to date: /home/xiaoyu.li/.local/share/jupyter/nbextensions/freeze/main.js\r\n",
      "\u001b[32m[I 15:22:06 InstallContribNbextensionsApp]\u001b[m - Validating: \u001b[32mOK\u001b[0m\r\n",
      "\u001b[32m[I 15:22:06 InstallContribNbextensionsApp]\u001b[m Installing /home/xiaoyu.li/.conda/envs/polymotv2/lib/python3.7/site-packages/jupyter_contrib_nbextensions/nbextensions/codefolding -> codefolding\r\n",
      "\u001b[32m[I 15:22:06 InstallContribNbextensionsApp]\u001b[m Up to date: /home/xiaoyu.li/.local/share/jupyter/nbextensions/codefolding/firstline-fold.js\r\n",
      "\u001b[32m[I 15:22:06 InstallContribNbextensionsApp]\u001b[m Up to date: /home/xiaoyu.li/.local/share/jupyter/nbextensions/codefolding/icon.png\r\n",
      "\u001b[32m[I 15:22:06 InstallContribNbextensionsApp]\u001b[m Up to date: /home/xiaoyu.li/.local/share/jupyter/nbextensions/codefolding/magic-unfolded.png\r\n",
      "\u001b[32m[I 15:22:06 InstallContribNbextensionsApp]\u001b[m Up to date: /home/xiaoyu.li/.local/share/jupyter/nbextensions/codefolding/blockcomment-fold.js\r\n",
      "\u001b[32m[I 15:22:06 InstallContribNbextensionsApp]\u001b[m Up to date: /home/xiaoyu.li/.local/share/jupyter/nbextensions/codefolding/codefolding_editor.png\r\n",
      "\u001b[32m[I 15:22:06 InstallContribNbextensionsApp]\u001b[m Up to date: /home/xiaoyu.li/.local/share/jupyter/nbextensions/codefolding/readme.md\r\n",
      "\u001b[32m[I 15:22:06 InstallContribNbextensionsApp]\u001b[m Up to date: /home/xiaoyu.li/.local/share/jupyter/nbextensions/codefolding/codefolding_editor.yaml\r\n",
      "\u001b[32m[I 15:22:06 InstallContribNbextensionsApp]\u001b[m Up to date: /home/xiaoyu.li/.local/share/jupyter/nbextensions/codefolding/codefolding_indent_folded_2.png\r\n",
      "\u001b[32m[I 15:22:06 InstallContribNbextensionsApp]\u001b[m Up to date: /home/xiaoyu.li/.local/share/jupyter/nbextensions/codefolding/codefolding_indent_unfolded.png\r\n",
      "\u001b[32m[I 15:22:06 InstallContribNbextensionsApp]\u001b[m Up to date: /home/xiaoyu.li/.local/share/jupyter/nbextensions/codefolding/main.js\r\n",
      "\u001b[32m[I 15:22:06 InstallContribNbextensionsApp]\u001b[m Up to date: /home/xiaoyu.li/.local/share/jupyter/nbextensions/codefolding/codefolding_indent_folded_1.png\r\n",
      "\u001b[32m[I 15:22:06 InstallContribNbextensionsApp]\u001b[m Up to date: /home/xiaoyu.li/.local/share/jupyter/nbextensions/codefolding/edit.js\r\n",
      "\u001b[32m[I 15:22:06 InstallContribNbextensionsApp]\u001b[m Up to date: /home/xiaoyu.li/.local/share/jupyter/nbextensions/codefolding/foldgutter.css\r\n",
      "\u001b[32m[I 15:22:06 InstallContribNbextensionsApp]\u001b[m Up to date: /home/xiaoyu.li/.local/share/jupyter/nbextensions/codefolding/magic-fold.js\r\n",
      "\u001b[32m[I 15:22:06 InstallContribNbextensionsApp]\u001b[m Up to date: /home/xiaoyu.li/.local/share/jupyter/nbextensions/codefolding/codefolding_firstline_unfolded.png\r\n",
      "\u001b[32m[I 15:22:06 InstallContribNbextensionsApp]\u001b[m Up to date: /home/xiaoyu.li/.local/share/jupyter/nbextensions/codefolding/magic-folded.png\r\n",
      "\u001b[32m[I 15:22:06 InstallContribNbextensionsApp]\u001b[m Up to date: /home/xiaoyu.li/.local/share/jupyter/nbextensions/codefolding/codefolding_firstline_folded.png\r\n",
      "\u001b[32m[I 15:22:06 InstallContribNbextensionsApp]\u001b[m Up to date: /home/xiaoyu.li/.local/share/jupyter/nbextensions/codefolding/codefolding.yaml\r\n",
      "\u001b[32m[I 15:22:06 InstallContribNbextensionsApp]\u001b[m - Validating: \u001b[32mOK\u001b[0m\r\n",
      "\u001b[32m[I 15:22:06 InstallContribNbextensionsApp]\u001b[m Installing /home/xiaoyu.li/.conda/envs/polymotv2/lib/python3.7/site-packages/jupyter_contrib_nbextensions/nbextensions/codefolding -> codefolding\r\n",
      "\u001b[32m[I 15:22:06 InstallContribNbextensionsApp]\u001b[m Up to date: /home/xiaoyu.li/.local/share/jupyter/nbextensions/codefolding/firstline-fold.js\r\n",
      "\u001b[32m[I 15:22:06 InstallContribNbextensionsApp]\u001b[m Up to date: /home/xiaoyu.li/.local/share/jupyter/nbextensions/codefolding/icon.png\r\n",
      "\u001b[32m[I 15:22:06 InstallContribNbextensionsApp]\u001b[m Up to date: /home/xiaoyu.li/.local/share/jupyter/nbextensions/codefolding/magic-unfolded.png\r\n",
      "\u001b[32m[I 15:22:06 InstallContribNbextensionsApp]\u001b[m Up to date: /home/xiaoyu.li/.local/share/jupyter/nbextensions/codefolding/blockcomment-fold.js\r\n",
      "\u001b[32m[I 15:22:06 InstallContribNbextensionsApp]\u001b[m Up to date: /home/xiaoyu.li/.local/share/jupyter/nbextensions/codefolding/codefolding_editor.png\r\n",
      "\u001b[32m[I 15:22:06 InstallContribNbextensionsApp]\u001b[m Up to date: /home/xiaoyu.li/.local/share/jupyter/nbextensions/codefolding/readme.md\r\n",
      "\u001b[32m[I 15:22:06 InstallContribNbextensionsApp]\u001b[m Up to date: /home/xiaoyu.li/.local/share/jupyter/nbextensions/codefolding/codefolding_editor.yaml\r\n",
      "\u001b[32m[I 15:22:06 InstallContribNbextensionsApp]\u001b[m Up to date: /home/xiaoyu.li/.local/share/jupyter/nbextensions/codefolding/codefolding_indent_folded_2.png\r\n",
      "\u001b[32m[I 15:22:06 InstallContribNbextensionsApp]\u001b[m Up to date: /home/xiaoyu.li/.local/share/jupyter/nbextensions/codefolding/codefolding_indent_unfolded.png\r\n",
      "\u001b[32m[I 15:22:06 InstallContribNbextensionsApp]\u001b[m Up to date: /home/xiaoyu.li/.local/share/jupyter/nbextensions/codefolding/main.js\r\n",
      "\u001b[32m[I 15:22:06 InstallContribNbextensionsApp]\u001b[m Up to date: /home/xiaoyu.li/.local/share/jupyter/nbextensions/codefolding/codefolding_indent_folded_1.png\r\n",
      "\u001b[32m[I 15:22:06 InstallContribNbextensionsApp]\u001b[m Up to date: /home/xiaoyu.li/.local/share/jupyter/nbextensions/codefolding/edit.js\r\n",
      "\u001b[32m[I 15:22:06 InstallContribNbextensionsApp]\u001b[m Up to date: /home/xiaoyu.li/.local/share/jupyter/nbextensions/codefolding/foldgutter.css\r\n",
      "\u001b[32m[I 15:22:06 InstallContribNbextensionsApp]\u001b[m Up to date: /home/xiaoyu.li/.local/share/jupyter/nbextensions/codefolding/magic-fold.js\r\n",
      "\u001b[32m[I 15:22:06 InstallContribNbextensionsApp]\u001b[m Up to date: /home/xiaoyu.li/.local/share/jupyter/nbextensions/codefolding/codefolding_firstline_unfolded.png\r\n",
      "\u001b[32m[I 15:22:06 InstallContribNbextensionsApp]\u001b[m Up to date: /home/xiaoyu.li/.local/share/jupyter/nbextensions/codefolding/magic-folded.png\r\n",
      "\u001b[32m[I 15:22:06 InstallContribNbextensionsApp]\u001b[m Up to date: /home/xiaoyu.li/.local/share/jupyter/nbextensions/codefolding/codefolding_firstline_folded.png\r\n",
      "\u001b[32m[I 15:22:06 InstallContribNbextensionsApp]\u001b[m Up to date: /home/xiaoyu.li/.local/share/jupyter/nbextensions/codefolding/codefolding.yaml\r\n",
      "\u001b[32m[I 15:22:06 InstallContribNbextensionsApp]\u001b[m - Validating: \u001b[32mOK\u001b[0m\r\n",
      "\u001b[32m[I 15:22:06 InstallContribNbextensionsApp]\u001b[m Installing /home/xiaoyu.li/.conda/envs/polymotv2/lib/python3.7/site-packages/jupyter_contrib_nbextensions/nbextensions/navigation-hotkeys -> navigation-hotkeys\r\n",
      "\u001b[32m[I 15:22:06 InstallContribNbextensionsApp]\u001b[m Up to date: /home/xiaoyu.li/.local/share/jupyter/nbextensions/navigation-hotkeys/icon.png\r\n",
      "\u001b[32m[I 15:22:06 InstallContribNbextensionsApp]\u001b[m Up to date: /home/xiaoyu.li/.local/share/jupyter/nbextensions/navigation-hotkeys/hotkeys.yaml\r\n",
      "\u001b[32m[I 15:22:06 InstallContribNbextensionsApp]\u001b[m Up to date: /home/xiaoyu.li/.local/share/jupyter/nbextensions/navigation-hotkeys/readme.md\r\n",
      "\u001b[32m[I 15:22:06 InstallContribNbextensionsApp]\u001b[m Up to date: /home/xiaoyu.li/.local/share/jupyter/nbextensions/navigation-hotkeys/main.js\r\n",
      "\u001b[32m[I 15:22:06 InstallContribNbextensionsApp]\u001b[m - Validating: \u001b[32mOK\u001b[0m\r\n",
      "\u001b[32m[I 15:22:06 InstallContribNbextensionsApp]\u001b[m Installing /home/xiaoyu.li/.conda/envs/polymotv2/lib/python3.7/site-packages/jupyter_contrib_nbextensions/nbextensions/execute_time -> execute_time\r\n",
      "\u001b[32m[I 15:22:06 InstallContribNbextensionsApp]\u001b[m Up to date: /home/xiaoyu.li/.local/share/jupyter/nbextensions/execute_time/icon.png\r\n",
      "\u001b[32m[I 15:22:06 InstallContribNbextensionsApp]\u001b[m Up to date: /home/xiaoyu.li/.local/share/jupyter/nbextensions/execute_time/ExecuteTime.js\r\n",
      "\u001b[32m[I 15:22:06 InstallContribNbextensionsApp]\u001b[m Up to date: /home/xiaoyu.li/.local/share/jupyter/nbextensions/execute_time/execution-timings-menu.png\r\n",
      "\u001b[32m[I 15:22:06 InstallContribNbextensionsApp]\u001b[m Up to date: /home/xiaoyu.li/.local/share/jupyter/nbextensions/execute_time/readme.md\r\n",
      "\u001b[32m[I 15:22:06 InstallContribNbextensionsApp]\u001b[m Up to date: /home/xiaoyu.li/.local/share/jupyter/nbextensions/execute_time/ExecuteTime.css\r\n",
      "\u001b[32m[I 15:22:06 InstallContribNbextensionsApp]\u001b[m Up to date: /home/xiaoyu.li/.local/share/jupyter/nbextensions/execute_time/execution-timings-box.png\r\n",
      "\u001b[32m[I 15:22:06 InstallContribNbextensionsApp]\u001b[m Up to date: /home/xiaoyu.li/.local/share/jupyter/nbextensions/execute_time/ExecuteTime.yaml\r\n",
      "\u001b[32m[I 15:22:06 InstallContribNbextensionsApp]\u001b[m - Validating: \u001b[32mOK\u001b[0m\r\n",
      "\u001b[32m[I 15:22:06 InstallContribNbextensionsApp]\u001b[m Installing /home/xiaoyu.li/.conda/envs/polymotv2/lib/python3.7/site-packages/jupyter_contrib_nbextensions/nbextensions/table_beautifier -> table_beautifier\r\n",
      "\u001b[32m[I 15:22:06 InstallContribNbextensionsApp]\u001b[m Up to date: /home/xiaoyu.li/.local/share/jupyter/nbextensions/table_beautifier/README.md\r\n",
      "\u001b[32m[I 15:22:06 InstallContribNbextensionsApp]\u001b[m Up to date: /home/xiaoyu.li/.local/share/jupyter/nbextensions/table_beautifier/table_beautifier.yaml\r\n",
      "\u001b[32m[I 15:22:06 InstallContribNbextensionsApp]\u001b[m Up to date: /home/xiaoyu.li/.local/share/jupyter/nbextensions/table_beautifier/main.js\r\n",
      "\u001b[32m[I 15:22:06 InstallContribNbextensionsApp]\u001b[m Up to date: /home/xiaoyu.li/.local/share/jupyter/nbextensions/table_beautifier/main.css\r\n",
      "\u001b[32m[I 15:22:06 InstallContribNbextensionsApp]\u001b[m - Validating: \u001b[32mOK\u001b[0m\r\n",
      "\u001b[32m[I 15:22:06 InstallContribNbextensionsApp]\u001b[m Installing /home/xiaoyu.li/.conda/envs/polymotv2/lib/python3.7/site-packages/jupyter_contrib_nbextensions/nbextensions/varInspector -> varInspector\r\n",
      "\u001b[32m[I 15:22:06 InstallContribNbextensionsApp]\u001b[m Up to date: /home/xiaoyu.li/.local/share/jupyter/nbextensions/varInspector/demo.gif\r\n",
      "\u001b[32m[I 15:22:06 InstallContribNbextensionsApp]\u001b[m Up to date: /home/xiaoyu.li/.local/share/jupyter/nbextensions/varInspector/icon.png\r\n",
      "\u001b[32m[I 15:22:06 InstallContribNbextensionsApp]\u001b[m Up to date: /home/xiaoyu.li/.local/share/jupyter/nbextensions/varInspector/var_list.r\r\n",
      "\u001b[32m[I 15:22:06 InstallContribNbextensionsApp]\u001b[m Up to date: /home/xiaoyu.li/.local/share/jupyter/nbextensions/varInspector/var_list.py\r\n",
      "\u001b[32m[I 15:22:06 InstallContribNbextensionsApp]\u001b[m Up to date: /home/xiaoyu.li/.local/share/jupyter/nbextensions/varInspector/README.md\r\n",
      "\u001b[32m[I 15:22:06 InstallContribNbextensionsApp]\u001b[m Up to date: /home/xiaoyu.li/.local/share/jupyter/nbextensions/varInspector/varInspector.yaml\r\n",
      "\u001b[32m[I 15:22:06 InstallContribNbextensionsApp]\u001b[m Up to date: /home/xiaoyu.li/.local/share/jupyter/nbextensions/varInspector/main.js\r\n",
      "\u001b[32m[I 15:22:06 InstallContribNbextensionsApp]\u001b[m Up to date: /home/xiaoyu.li/.local/share/jupyter/nbextensions/varInspector/jquery.tablesorter.min.js\r\n",
      "\u001b[32m[I 15:22:06 InstallContribNbextensionsApp]\u001b[m Up to date: /home/xiaoyu.li/.local/share/jupyter/nbextensions/varInspector/tablesorter_LICENSE.txt\r\n",
      "\u001b[32m[I 15:22:06 InstallContribNbextensionsApp]\u001b[m Up to date: /home/xiaoyu.li/.local/share/jupyter/nbextensions/varInspector/main.css\r\n",
      "\u001b[32m[I 15:22:06 InstallContribNbextensionsApp]\u001b[m Up to date: /home/xiaoyu.li/.local/share/jupyter/nbextensions/varInspector/__pycache__/var_list.cpython-37.pyc\r\n",
      "\u001b[32m[I 15:22:06 InstallContribNbextensionsApp]\u001b[m - Validating: \u001b[32mOK\u001b[0m\r\n",
      "\u001b[32m[I 15:22:06 InstallContribNbextensionsApp]\u001b[m Installing /home/xiaoyu.li/.conda/envs/polymotv2/lib/python3.7/site-packages/jupyter_contrib_nbextensions/nbextensions/snippets_menu -> snippets_menu\r\n",
      "\u001b[32m[I 15:22:06 InstallContribNbextensionsApp]\u001b[m Up to date: /home/xiaoyu.li/.local/share/jupyter/nbextensions/snippets_menu/screenshot1.png\r\n",
      "\u001b[32m[I 15:22:06 InstallContribNbextensionsApp]\u001b[m Up to date: /home/xiaoyu.li/.local/share/jupyter/nbextensions/snippets_menu/snippets_submenu_python.js\r\n",
      "\u001b[32m[I 15:22:06 InstallContribNbextensionsApp]\u001b[m Up to date: /home/xiaoyu.li/.local/share/jupyter/nbextensions/snippets_menu/thumbnail.png\r\n",
      "\u001b[32m[I 15:22:06 InstallContribNbextensionsApp]\u001b[m Up to date: /home/xiaoyu.li/.local/share/jupyter/nbextensions/snippets_menu/snippets_menu.css\r\n",
      "\u001b[32m[I 15:22:06 InstallContribNbextensionsApp]\u001b[m Up to date: /home/xiaoyu.li/.local/share/jupyter/nbextensions/snippets_menu/readme.md\r\n",
      "\u001b[32m[I 15:22:06 InstallContribNbextensionsApp]\u001b[m Up to date: /home/xiaoyu.li/.local/share/jupyter/nbextensions/snippets_menu/config.yaml\r\n",
      "\u001b[32m[I 15:22:06 InstallContribNbextensionsApp]\u001b[m Up to date: /home/xiaoyu.li/.local/share/jupyter/nbextensions/snippets_menu/screenshot2.png\r\n",
      "\u001b[32m[I 15:22:06 InstallContribNbextensionsApp]\u001b[m Up to date: /home/xiaoyu.li/.local/share/jupyter/nbextensions/snippets_menu/main.js\r\n",
      "\u001b[32m[I 15:22:06 InstallContribNbextensionsApp]\u001b[m Up to date: /home/xiaoyu.li/.local/share/jupyter/nbextensions/snippets_menu/examples_for_custom.js\r\n",
      "\u001b[32m[I 15:22:06 InstallContribNbextensionsApp]\u001b[m Up to date: /home/xiaoyu.li/.local/share/jupyter/nbextensions/snippets_menu/screenshot3.png\r\n",
      "\u001b[32m[I 15:22:06 InstallContribNbextensionsApp]\u001b[m Up to date: /home/xiaoyu.li/.local/share/jupyter/nbextensions/snippets_menu/snippets_submenu_markdown.js\r\n",
      "\u001b[32m[I 15:22:06 InstallContribNbextensionsApp]\u001b[m Up to date: /home/xiaoyu.li/.local/share/jupyter/nbextensions/snippets_menu/snippets_submenus_python/sympy_functions.js\r\n",
      "\u001b[32m[I 15:22:06 InstallContribNbextensionsApp]\u001b[m Up to date: /home/xiaoyu.li/.local/share/jupyter/nbextensions/snippets_menu/snippets_submenus_python/matplotlib.js\r\n",
      "\u001b[32m[I 15:22:06 InstallContribNbextensionsApp]\u001b[m Up to date: /home/xiaoyu.li/.local/share/jupyter/nbextensions/snippets_menu/snippets_submenus_python/python_regex.js\r\n",
      "\u001b[32m[I 15:22:06 InstallContribNbextensionsApp]\u001b[m Up to date: /home/xiaoyu.li/.local/share/jupyter/nbextensions/snippets_menu/snippets_submenus_python/numpy.js\r\n",
      "\u001b[32m[I 15:22:06 InstallContribNbextensionsApp]\u001b[m Up to date: /home/xiaoyu.li/.local/share/jupyter/nbextensions/snippets_menu/snippets_submenus_python/astropy.js\r\n",
      "\u001b[32m[I 15:22:06 InstallContribNbextensionsApp]\u001b[m Up to date: /home/xiaoyu.li/.local/share/jupyter/nbextensions/snippets_menu/snippets_submenus_python/scipy_special.js\r\n",
      "\u001b[32m[I 15:22:06 InstallContribNbextensionsApp]\u001b[m Up to date: /home/xiaoyu.li/.local/share/jupyter/nbextensions/snippets_menu/snippets_submenus_python/numba.js\r\n",
      "\u001b[32m[I 15:22:06 InstallContribNbextensionsApp]\u001b[m Up to date: /home/xiaoyu.li/.local/share/jupyter/nbextensions/snippets_menu/snippets_submenus_python/python.js\r\n",
      "\u001b[32m[I 15:22:06 InstallContribNbextensionsApp]\u001b[m Up to date: /home/xiaoyu.li/.local/share/jupyter/nbextensions/snippets_menu/snippets_submenus_python/scipy.js\r\n",
      "\u001b[32m[I 15:22:06 InstallContribNbextensionsApp]\u001b[m Up to date: /home/xiaoyu.li/.local/share/jupyter/nbextensions/snippets_menu/snippets_submenus_python/h5py.js\r\n",
      "\u001b[32m[I 15:22:06 InstallContribNbextensionsApp]\u001b[m Up to date: /home/xiaoyu.li/.local/share/jupyter/nbextensions/snippets_menu/snippets_submenus_python/pandas.js\r\n",
      "\u001b[32m[I 15:22:06 InstallContribNbextensionsApp]\u001b[m Up to date: /home/xiaoyu.li/.local/share/jupyter/nbextensions/snippets_menu/snippets_submenus_python/numpy_polynomial.js\r\n",
      "\u001b[32m[I 15:22:06 InstallContribNbextensionsApp]\u001b[m Up to date: /home/xiaoyu.li/.local/share/jupyter/nbextensions/snippets_menu/snippets_submenus_python/sympy_assumptions.js\r\n",
      "\u001b[32m[I 15:22:06 InstallContribNbextensionsApp]\u001b[m Up to date: /home/xiaoyu.li/.local/share/jupyter/nbextensions/snippets_menu/snippets_submenus_python/scipy_constants.js\r\n",
      "\u001b[32m[I 15:22:06 InstallContribNbextensionsApp]\u001b[m Up to date: /home/xiaoyu.li/.local/share/jupyter/nbextensions/snippets_menu/snippets_submenus_python/numpy_ufuncs.js\r\n",
      "\u001b[32m[I 15:22:06 InstallContribNbextensionsApp]\u001b[m Up to date: /home/xiaoyu.li/.local/share/jupyter/nbextensions/snippets_menu/snippets_submenus_python/sympy.js\r\n",
      "\u001b[32m[I 15:22:06 InstallContribNbextensionsApp]\u001b[m - Validating: \u001b[32mOK\u001b[0m\r\n",
      "\u001b[32m[I 15:22:06 InstallContribNbextensionsApp]\u001b[m Installing /home/xiaoyu.li/.conda/envs/polymotv2/lib/python3.7/site-packages/jupyter_contrib_nbextensions/nbextensions/scratchpad -> scratchpad\r\n",
      "\u001b[32m[I 15:22:06 InstallContribNbextensionsApp]\u001b[m Up to date: /home/xiaoyu.li/.local/share/jupyter/nbextensions/scratchpad/demo.gif\r\n",
      "\u001b[32m[I 15:22:06 InstallContribNbextensionsApp]\u001b[m Up to date: /home/xiaoyu.li/.local/share/jupyter/nbextensions/scratchpad/LICENSE\r\n",
      "\u001b[32m[I 15:22:06 InstallContribNbextensionsApp]\u001b[m Up to date: /home/xiaoyu.li/.local/share/jupyter/nbextensions/scratchpad/README.md\r\n",
      "\u001b[32m[I 15:22:06 InstallContribNbextensionsApp]\u001b[m Up to date: /home/xiaoyu.li/.local/share/jupyter/nbextensions/scratchpad/scratchpad.css\r\n",
      "\u001b[32m[I 15:22:06 InstallContribNbextensionsApp]\u001b[m Up to date: /home/xiaoyu.li/.local/share/jupyter/nbextensions/scratchpad/main.js\r\n",
      "\u001b[32m[I 15:22:06 InstallContribNbextensionsApp]\u001b[m Up to date: /home/xiaoyu.li/.local/share/jupyter/nbextensions/scratchpad/scratchpad.yaml\r\n",
      "\u001b[32m[I 15:22:06 InstallContribNbextensionsApp]\u001b[m - Validating: \u001b[32mOK\u001b[0m\r\n",
      "\u001b[32m[I 15:22:06 InstallContribNbextensionsApp]\u001b[m Installing /home/xiaoyu.li/.conda/envs/polymotv2/lib/python3.7/site-packages/jupyter_contrib_nbextensions/nbextensions/notify -> notify\r\n",
      "\u001b[32m[I 15:22:06 InstallContribNbextensionsApp]\u001b[m Up to date: /home/xiaoyu.li/.local/share/jupyter/nbextensions/notify/notification.png\r\n",
      "\u001b[32m[I 15:22:06 InstallContribNbextensionsApp]\u001b[m Up to date: /home/xiaoyu.li/.local/share/jupyter/nbextensions/notify/notify.yaml\r\n",
      "\u001b[32m[I 15:22:06 InstallContribNbextensionsApp]\u001b[m Up to date: /home/xiaoyu.li/.local/share/jupyter/nbextensions/notify/readme.md\r\n",
      "\u001b[32m[I 15:22:06 InstallContribNbextensionsApp]\u001b[m Up to date: /home/xiaoyu.li/.local/share/jupyter/nbextensions/notify/notify.js\r\n",
      "\u001b[32m[I 15:22:06 InstallContribNbextensionsApp]\u001b[m Up to date: /home/xiaoyu.li/.local/share/jupyter/nbextensions/notify/notify.mp3\r\n",
      "\u001b[32m[I 15:22:06 InstallContribNbextensionsApp]\u001b[m - Validating: \u001b[32mOK\u001b[0m\r\n",
      "\u001b[32m[I 15:22:06 InstallContribNbextensionsApp]\u001b[m Installing /home/xiaoyu.li/.conda/envs/polymotv2/lib/python3.7/site-packages/jupyter_contrib_nbextensions/nbextensions/hide_header -> hide_header\r\n",
      "\u001b[32m[I 15:22:06 InstallContribNbextensionsApp]\u001b[m Up to date: /home/xiaoyu.li/.local/share/jupyter/nbextensions/hide_header/hide_header.yaml\r\n",
      "\u001b[32m[I 15:22:06 InstallContribNbextensionsApp]\u001b[m Up to date: /home/xiaoyu.li/.local/share/jupyter/nbextensions/hide_header/README.md\r\n",
      "\u001b[32m[I 15:22:06 InstallContribNbextensionsApp]\u001b[m Up to date: /home/xiaoyu.li/.local/share/jupyter/nbextensions/hide_header/main.js\r\n",
      "\u001b[32m[I 15:22:06 InstallContribNbextensionsApp]\u001b[m - Validating: \u001b[32mOK\u001b[0m\r\n",
      "\u001b[32m[I 15:22:06 InstallContribNbextensionsApp]\u001b[m Installing /home/xiaoyu.li/.conda/envs/polymotv2/lib/python3.7/site-packages/jupyter_contrib_nbextensions/nbextensions/datestamper -> datestamper\r\n",
      "\u001b[32m[I 15:22:06 InstallContribNbextensionsApp]\u001b[m Up to date: /home/xiaoyu.li/.local/share/jupyter/nbextensions/datestamper/icon.png\r\n",
      "\u001b[32m[I 15:22:06 InstallContribNbextensionsApp]\u001b[m Up to date: /home/xiaoyu.li/.local/share/jupyter/nbextensions/datestamper/readme.md\r\n",
      "\u001b[32m[I 15:22:06 InstallContribNbextensionsApp]\u001b[m Up to date: /home/xiaoyu.li/.local/share/jupyter/nbextensions/datestamper/main.yaml\r\n",
      "\u001b[32m[I 15:22:06 InstallContribNbextensionsApp]\u001b[m Up to date: /home/xiaoyu.li/.local/share/jupyter/nbextensions/datestamper/main.js\r\n",
      "\u001b[32m[I 15:22:06 InstallContribNbextensionsApp]\u001b[m - Validating: \u001b[32mOK\u001b[0m\r\n",
      "\u001b[32m[I 15:22:06 InstallContribNbextensionsApp]\u001b[m Installing /home/xiaoyu.li/.conda/envs/polymotv2/lib/python3.7/site-packages/jupyter_contrib_nbextensions/nbextensions/exercise2 -> exercise2\r\n",
      "\u001b[32m[I 15:22:06 InstallContribNbextensionsApp]\u001b[m Up to date: /home/xiaoyu.li/.local/share/jupyter/nbextensions/exercise2/icon.png\r\n",
      "\u001b[32m[I 15:22:06 InstallContribNbextensionsApp]\u001b[m Up to date: /home/xiaoyu.li/.local/share/jupyter/nbextensions/exercise2/readme.md\r\n",
      "\u001b[32m[I 15:22:06 InstallContribNbextensionsApp]\u001b[m Up to date: /home/xiaoyu.li/.local/share/jupyter/nbextensions/exercise2/image.gif\r\n",
      "\u001b[32m[I 15:22:06 InstallContribNbextensionsApp]\u001b[m Up to date: /home/xiaoyu.li/.local/share/jupyter/nbextensions/exercise2/main.js\r\n",
      "\u001b[32m[I 15:22:06 InstallContribNbextensionsApp]\u001b[m Up to date: /home/xiaoyu.li/.local/share/jupyter/nbextensions/exercise2/exercise2.yaml\r\n",
      "\u001b[32m[I 15:22:06 InstallContribNbextensionsApp]\u001b[m Up to date: /home/xiaoyu.li/.local/share/jupyter/nbextensions/exercise2/main.css\r\n",
      "\u001b[32m[I 15:22:06 InstallContribNbextensionsApp]\u001b[m - Validating: \u001b[32mOK\u001b[0m\r\n",
      "\u001b[32m[I 15:22:06 InstallContribNbextensionsApp]\u001b[m Installing /home/xiaoyu.li/.conda/envs/polymotv2/lib/python3.7/site-packages/jupyter_highlight_selected_word/static/highlight_selected_word -> highlight_selected_word\r\n",
      "\u001b[32m[I 15:22:06 InstallContribNbextensionsApp]\u001b[m Up to date: /home/xiaoyu.li/.local/share/jupyter/nbextensions/highlight_selected_word/README.md\r\n",
      "\u001b[32m[I 15:22:06 InstallContribNbextensionsApp]\u001b[m Up to date: /home/xiaoyu.li/.local/share/jupyter/nbextensions/highlight_selected_word/configurator.yaml\r\n",
      "\u001b[32m[I 15:22:06 InstallContribNbextensionsApp]\u001b[m Up to date: /home/xiaoyu.li/.local/share/jupyter/nbextensions/highlight_selected_word/main.js\r\n",
      "\u001b[32m[I 15:22:06 InstallContribNbextensionsApp]\u001b[m - Validating: \u001b[32mOK\u001b[0m\r\n",
      "\u001b[32m[I 15:22:06 InstallContribNbextensionsApp]\u001b[m Installing jupyter_contrib_nbextensions items to config in /home/xiaoyu.li/.jupyter\r\n",
      "Enabling: jupyter_nbextensions_configurator\r\n",
      "- Writing config: /home/xiaoyu.li/.jupyter\r\n",
      "    - Validating...\r\n",
      "      jupyter_nbextensions_configurator 0.6.3 \u001b[32mOK\u001b[0m\r\n",
      "Enabling notebook nbextension nbextensions_configurator/config_menu/main...\r\n",
      "Enabling tree nbextension nbextensions_configurator/tree_tab/main...\r\n",
      "\u001b[32m[I 15:22:06 InstallContribNbextensionsApp]\u001b[m Enabling notebook extension contrib_nbextensions_help_item/main...\r\n",
      "\u001b[32m[I 15:22:06 InstallContribNbextensionsApp]\u001b[m       - Validating: \u001b[32mOK\u001b[0m\r\n",
      "\u001b[32m[I 15:22:06 InstallContribNbextensionsApp]\u001b[m - Editing config: /home/xiaoyu.li/.jupyter/jupyter_nbconvert_config.json\r\n",
      "\u001b[32m[I 15:22:06 InstallContribNbextensionsApp]\u001b[m --  Configuring nbconvert template path\r\n",
      "\u001b[32m[I 15:22:06 InstallContribNbextensionsApp]\u001b[m --  Configuring nbconvert preprocessors\r\n",
      "\u001b[32m[I 15:22:06 InstallContribNbextensionsApp]\u001b[m - Writing config: /home/xiaoyu.li/.jupyter/jupyter_nbconvert_config.json\r\n",
      "\u001b[32m[I 15:22:06 InstallContribNbextensionsApp]\u001b[m --  Writing updated config file /home/xiaoyu.li/.jupyter/jupyter_nbconvert_config.json\r\n"
     ]
    },
    {
     "name": "stdout",
     "output_type": "stream",
     "text": [
      "Enabling notebook extension execute_time/ExecuteTime...\r\n",
      "      - Validating: \u001b[32mOK\u001b[0m\r\n"
     ]
    }
   ],
   "source": [
    "!pip install jupyter_contrib_nbextensions\n",
    "!jupyter contrib nbextension install --user\n",
    "!jupyter nbextension enable execute_time/ExecuteTime"
   ]
  },
  {
   "cell_type": "code",
   "execution_count": 4,
   "id": "ac9c86ac",
   "metadata": {},
   "outputs": [
    {
     "data": {
      "text/plain": [
       "array([0, 1, 2, 3, 4, 5, 6, 7, 8, 9])"
      ]
     },
     "execution_count": 4,
     "metadata": {},
     "output_type": "execute_result"
    }
   ],
   "source": [
    "np.arange(0,10)"
   ]
  },
  {
   "cell_type": "code",
   "execution_count": null,
   "id": "562ef162",
   "metadata": {},
   "outputs": [],
   "source": []
  }
 ],
 "metadata": {
  "kernelspec": {
   "display_name": "Python 3 (ipykernel)",
   "language": "python",
   "name": "python3"
  },
  "language_info": {
   "codemirror_mode": {
    "name": "ipython",
    "version": 3
   },
   "file_extension": ".py",
   "mimetype": "text/x-python",
   "name": "python",
   "nbconvert_exporter": "python",
   "pygments_lexer": "ipython3",
   "version": "3.7.16"
  }
 },
 "nbformat": 4,
 "nbformat_minor": 5
}
