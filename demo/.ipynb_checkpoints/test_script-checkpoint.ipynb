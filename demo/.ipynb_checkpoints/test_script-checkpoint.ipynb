{
 "cells": [
  {
   "cell_type": "code",
   "execution_count": 2,
   "id": "afe32f4c",
   "metadata": {
    "ExecuteTime": {
     "end_time": "2023-05-17T07:46:23.432996Z",
     "start_time": "2023-05-17T07:46:23.333647Z"
    }
   },
   "outputs": [],
   "source": [
    "import numpy as np\n",
    "import pdb"
   ]
  },
  {
   "cell_type": "code",
   "execution_count": 16,
   "id": "f0af8d60",
   "metadata": {
    "ExecuteTime": {
     "end_time": "2023-05-17T07:52:01.025764Z",
     "start_time": "2023-05-17T07:52:01.020078Z"
    }
   },
   "outputs": [],
   "source": [
    "det = np.array([2,4])\n",
    "tra = np.array([2,3,4,2,4])\n",
    "m = [2, 4]"
   ]
  },
  {
   "cell_type": "code",
   "execution_count": 10,
   "id": "f3797350",
   "metadata": {
    "ExecuteTime": {
     "end_time": "2023-05-17T07:49:41.864166Z",
     "start_time": "2023-05-17T07:49:41.855739Z"
    }
   },
   "outputs": [],
   "source": [
    "def spec_metric_mask(cls_list: list, det_labels: np.array, tra_labels: np.array) -> np.array:\n",
    "    \"\"\"\n",
    "    mask matrix, merge all object instance index of the specific class\n",
    "    :param cls_list: list, valid category list\n",
    "    :param det_labels: np.array, class labels of detections\n",
    "    :param tra_labels: np.array, class labels of trajectories\n",
    "    :return: np.array[bool], True denotes invalid(the object's category is not specific)\n",
    "    \"\"\"\n",
    "    det_num, tra_num = len(det_labels), len(tra_labels)\n",
    "    metric_mask = np.ones((det_num, tra_num), dtype=bool)\n",
    "    merge_det_idx = [idx for idx, cls in enumerate(det_labels) if cls in cls_list]\n",
    "    merge_tra_idx = [idx for idx, cls in enumerate(tra_labels) if cls in cls_list]\n",
    "    metric_mask[np.ix_(merge_det_idx, merge_tra_idx)] = False\n",
    "    return metric_mask\n",
    "def mask_between_boxes(labels_a: np.array, labels_b: np.array):\n",
    "    \"\"\"\n",
    "    :param labels_a: np.array, labels of a collection\n",
    "    :param labels_b: np.array, labels of b collection\n",
    "    :return: np.array[bool] np.array , mask matrix, 1 denotes different, 0 denotes same\n",
    "    \"\"\"\n",
    "    mask = labels_a.reshape(-1, 1).repeat(len(labels_b), axis=1) != labels_b.reshape(1, -1).repeat(len(labels_a),\n",
    "                                                                                                   axis=0)\n",
    "    return mask"
   ]
  },
  {
   "cell_type": "code",
   "execution_count": 17,
   "id": "e481f546",
   "metadata": {
    "ExecuteTime": {
     "end_time": "2023-05-17T07:52:03.182387Z",
     "start_time": "2023-05-17T07:52:03.176077Z"
    }
   },
   "outputs": [
    {
     "data": {
      "text/plain": [
       "array([[False,  True,  True, False,  True],\n",
       "       [ True,  True, False,  True, False]])"
      ]
     },
     "execution_count": 17,
     "metadata": {},
     "output_type": "execute_result"
    }
   ],
   "source": [
    "np.logical_or(spec_metric_mask(m, det, tra), mask_between_boxes(det, tra))"
   ]
  },
  {
   "cell_type": "code",
   "execution_count": 18,
   "id": "e84b838c",
   "metadata": {
    "ExecuteTime": {
     "end_time": "2023-05-17T07:52:46.804662Z",
     "start_time": "2023-05-17T07:52:46.796097Z"
    }
   },
   "outputs": [],
   "source": [
    "def mask_tras_dets(cls_num, det_labels, tra_labels) -> np.array:\n",
    "    \"\"\"\n",
    "    mask invalid cost between tras and dets\n",
    "    :return: np.array[bool], [cls_num, det_num, tra_num], True denotes valid (det label == tra label == cls idx)\n",
    "    \"\"\"\n",
    "    det_num, tra_num = len(det_labels), len(tra_labels)\n",
    "    cls_mask = np.ones(shape=(cls_num, det_num, tra_num)) * np.arange(cls_num)[:, None, None]\n",
    "    # [det_num, tra_num], True denotes invalid(diff cls)\n",
    "    same_mask = mask_between_boxes(det_labels, tra_labels)\n",
    "    # [det_num, tra_num], invalid idx assign -1\n",
    "    tmp_labels = tra_labels[None, :].repeat(det_num, axis=0)\n",
    "    tmp_labels[np.where(same_mask)] = -1\n",
    "    return tmp_labels[None, :, :].repeat(cls_num, axis=0) == cls_mask"
   ]
  },
  {
   "cell_type": "code",
   "execution_count": 59,
   "id": "4c5901bf",
   "metadata": {
    "ExecuteTime": {
     "end_time": "2023-05-17T08:03:58.332237Z",
     "start_time": "2023-05-17T08:03:58.327447Z"
    }
   },
   "outputs": [],
   "source": [
    "vm = mask_tras_dets(5, det, tra)"
   ]
  },
  {
   "cell_type": "code",
   "execution_count": 78,
   "id": "a8986978",
   "metadata": {
    "ExecuteTime": {
     "end_time": "2023-05-17T08:06:55.001629Z",
     "start_time": "2023-05-17T08:06:54.996288Z"
    }
   },
   "outputs": [],
   "source": [
    "cost = np.ones((5, len(det), len(tra)))\n",
    "c = np.arange(10).reshape(2,5)"
   ]
  },
  {
   "cell_type": "code",
   "execution_count": 79,
   "id": "de56271e",
   "metadata": {
    "ExecuteTime": {
     "end_time": "2023-05-17T08:06:55.235448Z",
     "start_time": "2023-05-17T08:06:55.219372Z"
    }
   },
   "outputs": [],
   "source": [
    "cost[m] = c"
   ]
  },
  {
   "cell_type": "code",
   "execution_count": 80,
   "id": "96615968",
   "metadata": {
    "ExecuteTime": {
     "end_time": "2023-05-17T08:06:55.509922Z",
     "start_time": "2023-05-17T08:06:55.505652Z"
    }
   },
   "outputs": [
    {
     "data": {
      "text/plain": [
       "array([[[1., 1., 1., 1., 1.],\n",
       "        [1., 1., 1., 1., 1.]],\n",
       "\n",
       "       [[1., 1., 1., 1., 1.],\n",
       "        [1., 1., 1., 1., 1.]],\n",
       "\n",
       "       [[0., 1., 2., 3., 4.],\n",
       "        [5., 6., 7., 8., 9.]],\n",
       "\n",
       "       [[1., 1., 1., 1., 1.],\n",
       "        [1., 1., 1., 1., 1.]],\n",
       "\n",
       "       [[0., 1., 2., 3., 4.],\n",
       "        [5., 6., 7., 8., 9.]]])"
      ]
     },
     "execution_count": 80,
     "metadata": {},
     "output_type": "execute_result"
    }
   ],
   "source": [
    "cost"
   ]
  },
  {
   "cell_type": "code",
   "execution_count": 64,
   "id": "5ce39e79",
   "metadata": {
    "ExecuteTime": {
     "end_time": "2023-05-17T08:05:04.950557Z",
     "start_time": "2023-05-17T08:05:04.943216Z"
    }
   },
   "outputs": [
    {
     "data": {
      "text/plain": [
       "(array([0, 0, 0, 0, 0, 0, 0, 0, 1, 1, 1, 1, 1, 1, 1, 1]),\n",
       " array([0, 0, 0, 1, 1, 1, 1, 1, 0, 0, 0, 0, 0, 1, 1, 1]),\n",
       " array([1, 2, 4, 0, 1, 2, 3, 4, 0, 1, 2, 3, 4, 0, 1, 3]))"
      ]
     },
     "execution_count": 64,
     "metadata": {},
     "output_type": "execute_result"
    }
   ],
   "source": [
    "np.where(~vm[m])"
   ]
  },
  {
   "cell_type": "code",
   "execution_count": 92,
   "id": "ef5f3d91",
   "metadata": {
    "ExecuteTime": {
     "end_time": "2023-05-17T08:09:31.561014Z",
     "start_time": "2023-05-17T08:09:31.557197Z"
    }
   },
   "outputs": [
    {
     "data": {
      "text/plain": [
       "140708016124144"
      ]
     },
     "execution_count": 92,
     "metadata": {},
     "output_type": "execute_result"
    }
   ],
   "source": [
    "id(cost[m][np.where(~vm[m])])"
   ]
  },
  {
   "cell_type": "code",
   "execution_count": 103,
   "id": "014780b7",
   "metadata": {
    "ExecuteTime": {
     "end_time": "2023-05-17T08:13:24.903161Z",
     "start_time": "2023-05-17T08:13:24.875849Z"
    }
   },
   "outputs": [
    {
     "ename": "IndexError",
     "evalue": "index 2 is out of bounds for axis 0 with size 2",
     "output_type": "error",
     "traceback": [
      "\u001b[0;31m---------------------------------------------------------------------------\u001b[0m",
      "\u001b[0;31mIndexError\u001b[0m                                Traceback (most recent call last)",
      "Cell \u001b[0;32mIn[103], line 1\u001b[0m\n\u001b[0;32m----> 1\u001b[0m \u001b[43mcost\u001b[49m\u001b[43m[\u001b[49m\u001b[43mm\u001b[49m\u001b[43m]\u001b[49m\u001b[43m[\u001b[49m\u001b[43mc\u001b[49m\u001b[43m]\u001b[49m \u001b[38;5;241m=\u001b[39m \u001b[38;5;241m0\u001b[39m\n",
      "\u001b[0;31mIndexError\u001b[0m: index 2 is out of bounds for axis 0 with size 2"
     ]
    }
   ],
   "source": [
    "cost[m][c] = 0"
   ]
  },
  {
   "cell_type": "code",
   "execution_count": 102,
   "id": "a049954d",
   "metadata": {
    "ExecuteTime": {
     "end_time": "2023-05-17T08:12:23.283600Z",
     "start_time": "2023-05-17T08:12:23.279347Z"
    }
   },
   "outputs": [
    {
     "data": {
      "text/plain": [
       "array([1., 2., 4., 5., 6., 7., 8., 9., 0., 1., 2., 3., 4., 5., 6., 8.])"
      ]
     },
     "execution_count": 102,
     "metadata": {},
     "output_type": "execute_result"
    }
   ],
   "source": [
    "cost[m][np.where(~vm[m])]"
   ]
  },
  {
   "cell_type": "code",
   "execution_count": 104,
   "id": "316da37d",
   "metadata": {
    "ExecuteTime": {
     "end_time": "2023-05-17T08:13:46.942601Z",
     "start_time": "2023-05-17T08:13:46.935334Z"
    }
   },
   "outputs": [
    {
     "data": {
      "text/plain": [
       "(16,)"
      ]
     },
     "execution_count": 104,
     "metadata": {},
     "output_type": "execute_result"
    }
   ],
   "source": [
    "np.where(~vm[m])[0].shape"
   ]
  },
  {
   "cell_type": "code",
   "execution_count": 105,
   "id": "8c13ca86",
   "metadata": {
    "ExecuteTime": {
     "end_time": "2023-05-17T08:13:54.845556Z",
     "start_time": "2023-05-17T08:13:54.838264Z"
    }
   },
   "outputs": [
    {
     "data": {
      "text/plain": [
       "array([0, 0, 0, 0, 0, 0, 0, 0, 1, 1, 1, 1, 1, 1, 1, 1])"
      ]
     },
     "execution_count": 105,
     "metadata": {},
     "output_type": "execute_result"
    }
   ],
   "source": [
    "np.where(~vm[m])[0]"
   ]
  },
  {
   "cell_type": "code",
   "execution_count": 106,
   "id": "b4e90227",
   "metadata": {
    "ExecuteTime": {
     "end_time": "2023-05-17T08:15:17.024255Z",
     "start_time": "2023-05-17T08:15:17.017939Z"
    }
   },
   "outputs": [
    {
     "ename": "SyntaxError",
     "evalue": "cannot assign to function call (367791692.py, line 1)",
     "output_type": "error",
     "traceback": [
      "\u001b[0;36m  Cell \u001b[0;32mIn[106], line 1\u001b[0;36m\u001b[0m\n\u001b[0;31m    cost[m](np.where(vm[m] == 0)) = 100\u001b[0m\n\u001b[0m    ^\u001b[0m\n\u001b[0;31mSyntaxError\u001b[0m\u001b[0;31m:\u001b[0m cannot assign to function call\n"
     ]
    }
   ],
   "source": [
    "cost[m](np.where(vm[m] == 0)) = 100"
   ]
  },
  {
   "cell_type": "code",
   "execution_count": 107,
   "id": "b4cd8d07",
   "metadata": {
    "ExecuteTime": {
     "end_time": "2023-05-17T08:15:36.495994Z",
     "start_time": "2023-05-17T08:15:36.489714Z"
    }
   },
   "outputs": [],
   "source": [
    "cost[m][np.where(vm[m] == 0)] = 100"
   ]
  },
  {
   "cell_type": "code",
   "execution_count": 108,
   "id": "1653292f",
   "metadata": {
    "ExecuteTime": {
     "end_time": "2023-05-17T08:15:40.026178Z",
     "start_time": "2023-05-17T08:15:40.018771Z"
    }
   },
   "outputs": [
    {
     "data": {
      "text/plain": [
       "array([[[1., 1., 1., 1., 1.],\n",
       "        [1., 1., 1., 1., 1.]],\n",
       "\n",
       "       [[1., 1., 1., 1., 1.],\n",
       "        [1., 1., 1., 1., 1.]],\n",
       "\n",
       "       [[0., 1., 2., 3., 4.],\n",
       "        [5., 6., 7., 8., 9.]],\n",
       "\n",
       "       [[1., 1., 1., 1., 1.],\n",
       "        [1., 1., 1., 1., 1.]],\n",
       "\n",
       "       [[0., 1., 2., 3., 4.],\n",
       "        [5., 6., 7., 8., 9.]]])"
      ]
     },
     "execution_count": 108,
     "metadata": {},
     "output_type": "execute_result"
    }
   ],
   "source": [
    "cost"
   ]
  },
  {
   "cell_type": "code",
   "execution_count": 109,
   "id": "208e964a",
   "metadata": {
    "ExecuteTime": {
     "end_time": "2023-05-17T08:15:56.499362Z",
     "start_time": "2023-05-17T08:15:56.494108Z"
    }
   },
   "outputs": [],
   "source": [
    "cost[m][np.where(cost[m] == 0)] = 100"
   ]
  },
  {
   "cell_type": "code",
   "execution_count": 110,
   "id": "9d5e3424",
   "metadata": {
    "ExecuteTime": {
     "end_time": "2023-05-17T08:16:00.566696Z",
     "start_time": "2023-05-17T08:16:00.558871Z"
    }
   },
   "outputs": [
    {
     "data": {
      "text/plain": [
       "array([[[1., 1., 1., 1., 1.],\n",
       "        [1., 1., 1., 1., 1.]],\n",
       "\n",
       "       [[1., 1., 1., 1., 1.],\n",
       "        [1., 1., 1., 1., 1.]],\n",
       "\n",
       "       [[0., 1., 2., 3., 4.],\n",
       "        [5., 6., 7., 8., 9.]],\n",
       "\n",
       "       [[1., 1., 1., 1., 1.],\n",
       "        [1., 1., 1., 1., 1.]],\n",
       "\n",
       "       [[0., 1., 2., 3., 4.],\n",
       "        [5., 6., 7., 8., 9.]]])"
      ]
     },
     "execution_count": 110,
     "metadata": {},
     "output_type": "execute_result"
    }
   ],
   "source": [
    "cost"
   ]
  },
  {
   "cell_type": "code",
   "execution_count": 111,
   "id": "130ef155",
   "metadata": {
    "ExecuteTime": {
     "end_time": "2023-05-17T08:16:15.462695Z",
     "start_time": "2023-05-17T08:16:15.457927Z"
    }
   },
   "outputs": [],
   "source": [
    "cost[np.where(cost == 0)] = 100"
   ]
  },
  {
   "cell_type": "code",
   "execution_count": 112,
   "id": "7f305f74",
   "metadata": {
    "ExecuteTime": {
     "end_time": "2023-05-17T08:16:17.664383Z",
     "start_time": "2023-05-17T08:16:17.656785Z"
    }
   },
   "outputs": [
    {
     "data": {
      "text/plain": [
       "array([[[  1.,   1.,   1.,   1.,   1.],\n",
       "        [  1.,   1.,   1.,   1.,   1.]],\n",
       "\n",
       "       [[  1.,   1.,   1.,   1.,   1.],\n",
       "        [  1.,   1.,   1.,   1.,   1.]],\n",
       "\n",
       "       [[100.,   1.,   2.,   3.,   4.],\n",
       "        [  5.,   6.,   7.,   8.,   9.]],\n",
       "\n",
       "       [[  1.,   1.,   1.,   1.,   1.],\n",
       "        [  1.,   1.,   1.,   1.,   1.]],\n",
       "\n",
       "       [[100.,   1.,   2.,   3.,   4.],\n",
       "        [  5.,   6.,   7.,   8.,   9.]]])"
      ]
     },
     "execution_count": 112,
     "metadata": {},
     "output_type": "execute_result"
    }
   ],
   "source": [
    "cost"
   ]
  },
  {
   "cell_type": "code",
   "execution_count": 113,
   "id": "59580d28",
   "metadata": {
    "ExecuteTime": {
     "end_time": "2023-05-17T08:17:31.895407Z",
     "start_time": "2023-05-17T08:17:31.887665Z"
    }
   },
   "outputs": [
    {
     "ename": "SyntaxError",
     "evalue": "invalid syntax (847630086.py, line 1)",
     "output_type": "error",
     "traceback": [
      "\u001b[0;36m  Cell \u001b[0;32mIn[113], line 1\u001b[0;36m\u001b[0m\n\u001b[0;31m    cost[m] = (cost[m][np.where(cost == 0)] = 100)\u001b[0m\n\u001b[0m                                            ^\u001b[0m\n\u001b[0;31mSyntaxError\u001b[0m\u001b[0;31m:\u001b[0m invalid syntax\n"
     ]
    }
   ],
   "source": [
    "cost[m] = (cost[m][np.where(cost == 0)] = 100)"
   ]
  },
  {
   "cell_type": "code",
   "execution_count": 114,
   "id": "7d85a39b",
   "metadata": {
    "ExecuteTime": {
     "end_time": "2023-05-17T08:18:25.091590Z",
     "start_time": "2023-05-17T08:18:25.079744Z"
    }
   },
   "outputs": [
    {
     "data": {
      "text/plain": [
       "(array([0, 0, 0, 0, 0, 0, 0, 0, 1, 1, 1, 1, 1, 1, 1, 1]),\n",
       " array([0, 0, 0, 1, 1, 1, 1, 1, 0, 0, 0, 0, 0, 1, 1, 1]),\n",
       " array([1, 2, 4, 0, 1, 2, 3, 4, 0, 1, 2, 3, 4, 0, 1, 3]))"
      ]
     },
     "execution_count": 114,
     "metadata": {},
     "output_type": "execute_result"
    }
   ],
   "source": [
    "np.where(vm[m] == 0)"
   ]
  },
  {
   "cell_type": "code",
   "execution_count": 118,
   "id": "65049eae",
   "metadata": {
    "ExecuteTime": {
     "end_time": "2023-05-17T08:19:03.587619Z",
     "start_time": "2023-05-17T08:19:03.579049Z"
    }
   },
   "outputs": [
    {
     "data": {
      "text/plain": [
       "(array([[[ True, False, False,  True, False],\n",
       "         [False, False, False, False, False]],\n",
       " \n",
       "        [[False, False, False, False, False],\n",
       "         [False, False,  True, False,  True]]]),\n",
       " [2, 4],\n",
       " array([[[False, False, False, False, False],\n",
       "         [False, False, False, False, False]],\n",
       " \n",
       "        [[False, False, False, False, False],\n",
       "         [False, False, False, False, False]],\n",
       " \n",
       "        [[ True, False, False,  True, False],\n",
       "         [False, False, False, False, False]],\n",
       " \n",
       "        [[False, False, False, False, False],\n",
       "         [False, False, False, False, False]],\n",
       " \n",
       "        [[False, False, False, False, False],\n",
       "         [False, False,  True, False,  True]]]))"
      ]
     },
     "execution_count": 118,
     "metadata": {},
     "output_type": "execute_result"
    }
   ],
   "source": [
    "vm[m], m, vm"
   ]
  },
  {
   "cell_type": "code",
   "execution_count": 120,
   "id": "af85002b",
   "metadata": {
    "ExecuteTime": {
     "end_time": "2023-05-17T08:21:32.427411Z",
     "start_time": "2023-05-17T08:21:32.413046Z"
    }
   },
   "outputs": [
    {
     "data": {
      "text/plain": [
       "(array([[[False, False, False, False, False],\n",
       "         [False, False, False, False, False]],\n",
       " \n",
       "        [[False, False, False, False, False],\n",
       "         [False, False, False, False, False]],\n",
       " \n",
       "        [[ True, False, False,  True, False],\n",
       "         [False, False, False, False, False]],\n",
       " \n",
       "        [[False, False, False, False, False],\n",
       "         [False, False, False, False, False]],\n",
       " \n",
       "        [[False, False, False, False, False],\n",
       "         [False, False,  True, False,  True]]]),\n",
       " array([[[  1.,   1.,   1.,   1.,   1.],\n",
       "         [  1.,   1.,   1.,   1.,   1.]],\n",
       " \n",
       "        [[  1.,   1.,   1.,   1.,   1.],\n",
       "         [  1.,   1.,   1.,   1.,   1.]],\n",
       " \n",
       "        [[100.,   1.,   2.,   3.,   4.],\n",
       "         [  5.,   6.,   7.,   8.,   9.]],\n",
       " \n",
       "        [[  1.,   1.,   1.,   1.,   1.],\n",
       "         [  1.,   1.,   1.,   1.,   1.]],\n",
       " \n",
       "        [[100.,   1.,   2.,   3.,   4.],\n",
       "         [  5.,   6.,   7.,   8.,   9.]]]))"
      ]
     },
     "execution_count": 120,
     "metadata": {},
     "output_type": "execute_result"
    }
   ],
   "source": [
    "vm, cost"
   ]
  },
  {
   "cell_type": "code",
   "execution_count": 119,
   "id": "c4b931dc",
   "metadata": {
    "ExecuteTime": {
     "end_time": "2023-05-17T08:19:53.017304Z",
     "start_time": "2023-05-17T08:19:53.009146Z"
    }
   },
   "outputs": [
    {
     "data": {
      "text/plain": [
       "((5, 2, 5), (2, 5))"
      ]
     },
     "execution_count": 119,
     "metadata": {},
     "output_type": "execute_result"
    }
   ],
   "source": [
    "vm.shape, vm[0].shape"
   ]
  },
  {
   "cell_type": "code",
   "execution_count": 121,
   "id": "c686ad5c",
   "metadata": {
    "ExecuteTime": {
     "end_time": "2023-05-17T08:23:05.996504Z",
     "start_time": "2023-05-17T08:23:05.989572Z"
    }
   },
   "outputs": [],
   "source": [
    "mid_cost = np.ones_like(vm)"
   ]
  },
  {
   "cell_type": "code",
   "execution_count": 122,
   "id": "dba447af",
   "metadata": {
    "ExecuteTime": {
     "end_time": "2023-05-17T08:23:25.231609Z",
     "start_time": "2023-05-17T08:23:25.223067Z"
    }
   },
   "outputs": [],
   "source": [
    "mid_cost[2] = vm[2]"
   ]
  },
  {
   "cell_type": "code",
   "execution_count": 123,
   "id": "6a5719a2",
   "metadata": {
    "ExecuteTime": {
     "end_time": "2023-05-17T08:23:32.353969Z",
     "start_time": "2023-05-17T08:23:32.348522Z"
    }
   },
   "outputs": [],
   "source": [
    "mid_cost[4] = vm[4]"
   ]
  },
  {
   "cell_type": "code",
   "execution_count": 124,
   "id": "2f1bdea6",
   "metadata": {
    "ExecuteTime": {
     "end_time": "2023-05-17T08:23:48.687024Z",
     "start_time": "2023-05-17T08:23:48.673997Z"
    }
   },
   "outputs": [],
   "source": [
    "vm[np.where(mid_cost == 0)] = 100"
   ]
  },
  {
   "cell_type": "code",
   "execution_count": 125,
   "id": "6c5a616a",
   "metadata": {
    "ExecuteTime": {
     "end_time": "2023-05-17T08:23:51.977615Z",
     "start_time": "2023-05-17T08:23:51.965867Z"
    }
   },
   "outputs": [
    {
     "data": {
      "text/plain": [
       "array([[[False, False, False, False, False],\n",
       "        [False, False, False, False, False]],\n",
       "\n",
       "       [[False, False, False, False, False],\n",
       "        [False, False, False, False, False]],\n",
       "\n",
       "       [[ True,  True,  True,  True,  True],\n",
       "        [ True,  True,  True,  True,  True]],\n",
       "\n",
       "       [[False, False, False, False, False],\n",
       "        [False, False, False, False, False]],\n",
       "\n",
       "       [[ True,  True,  True,  True,  True],\n",
       "        [ True,  True,  True,  True,  True]]])"
      ]
     },
     "execution_count": 125,
     "metadata": {},
     "output_type": "execute_result"
    }
   ],
   "source": [
    "vm"
   ]
  },
  {
   "cell_type": "code",
   "execution_count": 126,
   "id": "f3110ac1",
   "metadata": {
    "ExecuteTime": {
     "end_time": "2023-05-17T08:24:01.963659Z",
     "start_time": "2023-05-17T08:24:01.958851Z"
    }
   },
   "outputs": [],
   "source": [
    "cost[np.where(mid_cost == 0)] = 100"
   ]
  },
  {
   "cell_type": "code",
   "execution_count": 127,
   "id": "764e0ed3",
   "metadata": {
    "ExecuteTime": {
     "end_time": "2023-05-17T08:24:03.937551Z",
     "start_time": "2023-05-17T08:24:03.923733Z"
    }
   },
   "outputs": [
    {
     "data": {
      "text/plain": [
       "array([[[  1.,   1.,   1.,   1.,   1.],\n",
       "        [  1.,   1.,   1.,   1.,   1.]],\n",
       "\n",
       "       [[  1.,   1.,   1.,   1.,   1.],\n",
       "        [  1.,   1.,   1.,   1.,   1.]],\n",
       "\n",
       "       [[100., 100., 100.,   3., 100.],\n",
       "        [100., 100., 100., 100., 100.]],\n",
       "\n",
       "       [[  1.,   1.,   1.,   1.,   1.],\n",
       "        [  1.,   1.,   1.,   1.,   1.]],\n",
       "\n",
       "       [[100., 100., 100., 100., 100.],\n",
       "        [100., 100.,   7., 100.,   9.]]])"
      ]
     },
     "execution_count": 127,
     "metadata": {},
     "output_type": "execute_result"
    }
   ],
   "source": [
    "cost"
   ]
  },
  {
   "cell_type": "code",
   "execution_count": 128,
   "id": "51d16c55",
   "metadata": {
    "ExecuteTime": {
     "end_time": "2023-05-17T08:24:44.496674Z",
     "start_time": "2023-05-17T08:24:44.487397Z"
    }
   },
   "outputs": [
    {
     "ename": "SyntaxError",
     "evalue": "cannot assign to function call (367791692.py, line 1)",
     "output_type": "error",
     "traceback": [
      "\u001b[0;36m  Cell \u001b[0;32mIn[128], line 1\u001b[0;36m\u001b[0m\n\u001b[0;31m    cost[m](np.where(vm[m] == 0)) = 100\u001b[0m\n\u001b[0m    ^\u001b[0m\n\u001b[0;31mSyntaxError\u001b[0m\u001b[0;31m:\u001b[0m cannot assign to function call\n"
     ]
    }
   ],
   "source": [
    "cost[m](np.where(vm[m] == 0)) = 100"
   ]
  },
  {
   "cell_type": "code",
   "execution_count": 129,
   "id": "9211a53a",
   "metadata": {
    "ExecuteTime": {
     "end_time": "2023-05-17T08:24:56.039728Z",
     "start_time": "2023-05-17T08:24:56.027654Z"
    }
   },
   "outputs": [],
   "source": [
    "cost[m][np.where(vm[m] == 0)] = 100"
   ]
  },
  {
   "cell_type": "code",
   "execution_count": 130,
   "id": "aaa47fb3",
   "metadata": {
    "ExecuteTime": {
     "end_time": "2023-05-17T08:24:59.064697Z",
     "start_time": "2023-05-17T08:24:59.056036Z"
    }
   },
   "outputs": [
    {
     "data": {
      "text/plain": [
       "array([[[  1.,   1.,   1.,   1.,   1.],\n",
       "        [  1.,   1.,   1.,   1.,   1.]],\n",
       "\n",
       "       [[  1.,   1.,   1.,   1.,   1.],\n",
       "        [  1.,   1.,   1.,   1.,   1.]],\n",
       "\n",
       "       [[100., 100., 100.,   3., 100.],\n",
       "        [100., 100., 100., 100., 100.]],\n",
       "\n",
       "       [[  1.,   1.,   1.,   1.,   1.],\n",
       "        [  1.,   1.,   1.,   1.,   1.]],\n",
       "\n",
       "       [[100., 100., 100., 100., 100.],\n",
       "        [100., 100.,   7., 100.,   9.]]])"
      ]
     },
     "execution_count": 130,
     "metadata": {},
     "output_type": "execute_result"
    }
   ],
   "source": [
    "cost"
   ]
  },
  {
   "cell_type": "code",
   "execution_count": 131,
   "id": "3e873a3f",
   "metadata": {
    "ExecuteTime": {
     "end_time": "2023-05-17T08:25:10.750953Z",
     "start_time": "2023-05-17T08:25:10.745383Z"
    }
   },
   "outputs": [],
   "source": [
    "cost[2][np.where(vm[2] == 0)] = 100"
   ]
  },
  {
   "cell_type": "code",
   "execution_count": 132,
   "id": "6a5b3f6d",
   "metadata": {
    "ExecuteTime": {
     "end_time": "2023-05-17T08:25:13.793896Z",
     "start_time": "2023-05-17T08:25:13.784838Z"
    }
   },
   "outputs": [
    {
     "data": {
      "text/plain": [
       "array([[[  1.,   1.,   1.,   1.,   1.],\n",
       "        [  1.,   1.,   1.,   1.,   1.]],\n",
       "\n",
       "       [[  1.,   1.,   1.,   1.,   1.],\n",
       "        [  1.,   1.,   1.,   1.,   1.]],\n",
       "\n",
       "       [[100., 100., 100.,   3., 100.],\n",
       "        [100., 100., 100., 100., 100.]],\n",
       "\n",
       "       [[  1.,   1.,   1.,   1.,   1.],\n",
       "        [  1.,   1.,   1.,   1.,   1.]],\n",
       "\n",
       "       [[100., 100., 100., 100., 100.],\n",
       "        [100., 100.,   7., 100.,   9.]]])"
      ]
     },
     "execution_count": 132,
     "metadata": {},
     "output_type": "execute_result"
    }
   ],
   "source": [
    "cost"
   ]
  },
  {
   "cell_type": "code",
   "execution_count": 133,
   "id": "c0a9006e",
   "metadata": {
    "ExecuteTime": {
     "end_time": "2023-05-17T08:25:23.100261Z",
     "start_time": "2023-05-17T08:25:23.095309Z"
    }
   },
   "outputs": [],
   "source": [
    "cost[2][np.where(vm[2] == 0)] = 0"
   ]
  },
  {
   "cell_type": "code",
   "execution_count": 134,
   "id": "2aa361b8",
   "metadata": {
    "ExecuteTime": {
     "end_time": "2023-05-17T08:25:25.273360Z",
     "start_time": "2023-05-17T08:25:25.265795Z"
    }
   },
   "outputs": [
    {
     "data": {
      "text/plain": [
       "array([[[  1.,   1.,   1.,   1.,   1.],\n",
       "        [  1.,   1.,   1.,   1.,   1.]],\n",
       "\n",
       "       [[  1.,   1.,   1.,   1.,   1.],\n",
       "        [  1.,   1.,   1.,   1.,   1.]],\n",
       "\n",
       "       [[100., 100., 100.,   3., 100.],\n",
       "        [100., 100., 100., 100., 100.]],\n",
       "\n",
       "       [[  1.,   1.,   1.,   1.,   1.],\n",
       "        [  1.,   1.,   1.,   1.,   1.]],\n",
       "\n",
       "       [[100., 100., 100., 100., 100.],\n",
       "        [100., 100.,   7., 100.,   9.]]])"
      ]
     },
     "execution_count": 134,
     "metadata": {},
     "output_type": "execute_result"
    }
   ],
   "source": [
    "cost"
   ]
  },
  {
   "cell_type": "code",
   "execution_count": 135,
   "id": "d2cf4dd0",
   "metadata": {
    "ExecuteTime": {
     "end_time": "2023-05-17T08:25:34.070515Z",
     "start_time": "2023-05-17T08:25:34.065627Z"
    }
   },
   "outputs": [],
   "source": [
    "cost[2][np.where(vm[2] == 100)] = 0"
   ]
  },
  {
   "cell_type": "code",
   "execution_count": 136,
   "id": "7dccca8b",
   "metadata": {
    "ExecuteTime": {
     "end_time": "2023-05-17T08:25:36.796191Z",
     "start_time": "2023-05-17T08:25:36.788391Z"
    }
   },
   "outputs": [
    {
     "data": {
      "text/plain": [
       "array([[[  1.,   1.,   1.,   1.,   1.],\n",
       "        [  1.,   1.,   1.,   1.,   1.]],\n",
       "\n",
       "       [[  1.,   1.,   1.,   1.,   1.],\n",
       "        [  1.,   1.,   1.,   1.,   1.]],\n",
       "\n",
       "       [[100., 100., 100.,   3., 100.],\n",
       "        [100., 100., 100., 100., 100.]],\n",
       "\n",
       "       [[  1.,   1.,   1.,   1.,   1.],\n",
       "        [  1.,   1.,   1.,   1.,   1.]],\n",
       "\n",
       "       [[100., 100., 100., 100., 100.],\n",
       "        [100., 100.,   7., 100.,   9.]]])"
      ]
     },
     "execution_count": 136,
     "metadata": {},
     "output_type": "execute_result"
    }
   ],
   "source": [
    "cost"
   ]
  },
  {
   "cell_type": "code",
   "execution_count": 137,
   "id": "02232790",
   "metadata": {
    "ExecuteTime": {
     "end_time": "2023-05-17T08:25:42.698038Z",
     "start_time": "2023-05-17T08:25:42.690096Z"
    }
   },
   "outputs": [
    {
     "data": {
      "text/plain": [
       "array([[[False, False, False, False, False],\n",
       "        [False, False, False, False, False]],\n",
       "\n",
       "       [[False, False, False, False, False],\n",
       "        [False, False, False, False, False]],\n",
       "\n",
       "       [[ True,  True,  True,  True,  True],\n",
       "        [ True,  True,  True,  True,  True]],\n",
       "\n",
       "       [[False, False, False, False, False],\n",
       "        [False, False, False, False, False]],\n",
       "\n",
       "       [[ True,  True,  True,  True,  True],\n",
       "        [ True,  True,  True,  True,  True]]])"
      ]
     },
     "execution_count": 137,
     "metadata": {},
     "output_type": "execute_result"
    }
   ],
   "source": [
    "vm"
   ]
  },
  {
   "cell_type": "code",
   "execution_count": null,
   "id": "a8ed2721",
   "metadata": {},
   "outputs": [],
   "source": [
    "cost[2][np.where(vm[2] == True)] = 0"
   ]
  }
 ],
 "metadata": {
  "kernelspec": {
   "display_name": "Python 3 (ipykernel)",
   "language": "python",
   "name": "python3"
  },
  "language_info": {
   "codemirror_mode": {
    "name": "ipython",
    "version": 3
   },
   "file_extension": ".py",
   "mimetype": "text/x-python",
   "name": "python",
   "nbconvert_exporter": "python",
   "pygments_lexer": "ipython3",
   "version": "3.8.13"
  }
 },
 "nbformat": 4,
 "nbformat_minor": 5
}
