{
 "cells": [
  {
   "attachments": {},
   "cell_type": "markdown",
   "metadata": {},
   "source": [
    "# Script to get the jacobian matrix which under the .ipynb format"
   ]
  },
  {
   "cell_type": "code",
   "execution_count": 3,
   "metadata": {},
   "outputs": [],
   "source": [
    "import sympy as sym\n",
    "import numpy as np"
   ]
  },
  {
   "cell_type": "code",
   "execution_count": 6,
   "metadata": {},
   "outputs": [],
   "source": [
    "# Direct state vector\n",
    "x, y, z, w, l, h, v, a, yaw, sigma, lf_r, w_r = sym.symbols(\"x y z w h l v a yaw sigma lf_r w_r\")\n",
    "next_x, next_y, next_z, next_w, next_h, next_l, next_v, next_a, next_yaw, next_sigma = sym.symbols(\"next_x next_y next_z next_w next_h next_l next_v next_a next_yaw next_sigma\")\n",
    "dt = sym.symbols(\"dt\")"
   ]
  },
  {
   "cell_type": "code",
   "execution_count": 12,
   "metadata": {},
   "outputs": [],
   "source": [
    "# tmp state vector\n",
    "beta, ry_rate, lf, lr = sym.symbols(\"beta ry_rate lf lr\")\n",
    "lf, lr = l * w_r * lf_r, l * w_r * (1 - lf_r)\n",
    "beta = sym.atan(lr / (l * w_r) * sym.tan(sigma))"
   ]
  },
  {
   "cell_type": "code",
   "execution_count": 13,
   "metadata": {},
   "outputs": [],
   "source": [
    "# constant state vector\n",
    "next_z, next_w, next_h, next_l, next_a, next_sigma, next_v = z, w, h, l, 0, sigma, v"
   ]
  },
  {
   "cell_type": "code",
   "execution_count": 14,
   "metadata": {},
   "outputs": [],
   "source": [
    "# heading yaw\n",
    "ry_rate = v / lr * sym.sin(beta)\n",
    "next_yaw = yaw + ry_rate * dt"
   ]
  },
  {
   "cell_type": "code",
   "execution_count": 15,
   "metadata": {},
   "outputs": [],
   "source": [
    "vt, vyawt, ita, t = sym.symbols(\"vt vyawt ita t\")\n",
    "\n",
    "# warp raw transition time from [(t-1)*dt, t*dt] to [0, dt], for quick solution\n",
    "vt = v\n",
    "vyawt = beta + yaw + ry_rate * (ita)\n",
    "next_x = x + sym.integrate(vt * sym.cos(vyawt), (ita, 0, dt))\n",
    "next_y = y + sym.integrate(vt * sym.sin(vyawt), (ita, 0, dt))"
   ]
  },
  {
   "attachments": {},
   "cell_type": "markdown",
   "metadata": {},
   "source": [
    "# Analytical solutions for displacements can also be obtained"
   ]
  },
  {
   "cell_type": "code",
   "execution_count": 16,
   "metadata": {},
   "outputs": [
    {
     "data": {
      "text/latex": [
       "$\\displaystyle x + \\begin{cases} dt v \\cos{\\left(yaw + \\operatorname{atan}{\\left(\\left(1 - lf_{r}\\right) \\tan{\\left(\\sigma \\right)} \\right)} + \\pi \\left\\lfloor{\\frac{\\sigma - \\frac{\\pi}{2}}{\\pi}}\\right\\rfloor \\operatorname{sign}{\\left(1 - lf_{r} \\right)} \\right)} & \\text{for}\\: \\left(v = 0 \\wedge \\tan{\\left(\\sigma \\right)} = 0\\right) \\vee v = 0 \\\\dt v \\cos{\\left(yaw \\right)} & \\text{for}\\: \\sigma = 0 \\\\- \\frac{h w_{r} \\sqrt{lf_{r}^{2} \\tan^{2}{\\left(\\sigma \\right)} - 2 lf_{r} \\tan^{2}{\\left(\\sigma \\right)} + \\tan^{2}{\\left(\\sigma \\right)} + 1} \\sin{\\left(yaw + \\operatorname{atan}{\\left(\\left(1 - lf_{r}\\right) \\tan{\\left(\\sigma \\right)} \\right)} + \\pi \\left\\lfloor{\\frac{\\sigma - \\frac{\\pi}{2}}{\\pi}}\\right\\rfloor \\operatorname{sign}{\\left(1 - lf_{r} \\right)} \\right)}}{\\tan{\\left(\\sigma \\right)}} + \\frac{h w_{r} \\sqrt{lf_{r}^{2} \\tan^{2}{\\left(\\sigma \\right)} - 2 lf_{r} \\tan^{2}{\\left(\\sigma \\right)} + \\tan^{2}{\\left(\\sigma \\right)} + 1} \\sin{\\left(\\frac{dt v \\tan{\\left(\\sigma \\right)}}{h w_{r} \\sqrt{\\left(1 - lf_{r}\\right)^{2} \\tan^{2}{\\left(\\sigma \\right)} + 1}} + yaw + \\operatorname{atan}{\\left(\\left(1 - lf_{r}\\right) \\tan{\\left(\\sigma \\right)} \\right)} + \\pi \\left\\lfloor{\\frac{\\sigma - \\frac{\\pi}{2}}{\\pi}}\\right\\rfloor \\operatorname{sign}{\\left(1 - lf_{r} \\right)} \\right)}}{\\tan{\\left(\\sigma \\right)}} & \\text{otherwise} \\end{cases}$"
      ],
      "text/plain": [
       "x + Piecewise((dt*v*cos(yaw + atan((1 - lf_r)*tan(sigma)) + pi*floor((sigma - pi/2)/pi)*sign(1 - lf_r)), Eq(v, 0) | (Eq(v, 0) & Eq(tan(sigma), 0))), (dt*v*cos(yaw), Eq(sigma, 0)), (-h*w_r*sqrt(lf_r**2*tan(sigma)**2 - 2*lf_r*tan(sigma)**2 + tan(sigma)**2 + 1)*sin(yaw + atan((1 - lf_r)*tan(sigma)) + pi*floor((sigma - pi/2)/pi)*sign(1 - lf_r))/tan(sigma) + h*w_r*sqrt(lf_r**2*tan(sigma)**2 - 2*lf_r*tan(sigma)**2 + tan(sigma)**2 + 1)*sin(dt*v*tan(sigma)/(h*w_r*sqrt((1 - lf_r)**2*tan(sigma)**2 + 1)) + yaw + atan((1 - lf_r)*tan(sigma)) + pi*floor((sigma - pi/2)/pi)*sign(1 - lf_r))/tan(sigma), True))"
      ]
     },
     "execution_count": 16,
     "metadata": {},
     "output_type": "execute_result"
    }
   ],
   "source": [
    "next_x"
   ]
  },
  {
   "cell_type": "code",
   "execution_count": 17,
   "metadata": {},
   "outputs": [
    {
     "data": {
      "text/latex": [
       "$\\displaystyle y + \\begin{cases} dt v \\sin{\\left(yaw + \\operatorname{atan}{\\left(\\left(1 - lf_{r}\\right) \\tan{\\left(\\sigma \\right)} \\right)} + \\pi \\left\\lfloor{\\frac{\\sigma - \\frac{\\pi}{2}}{\\pi}}\\right\\rfloor \\operatorname{sign}{\\left(1 - lf_{r} \\right)} \\right)} & \\text{for}\\: \\left(v = 0 \\wedge \\tan{\\left(\\sigma \\right)} = 0\\right) \\vee v = 0 \\\\dt v \\sin{\\left(yaw \\right)} & \\text{for}\\: \\sigma = 0 \\\\\\frac{h w_{r} \\sqrt{lf_{r}^{2} \\tan^{2}{\\left(\\sigma \\right)} - 2 lf_{r} \\tan^{2}{\\left(\\sigma \\right)} + \\tan^{2}{\\left(\\sigma \\right)} + 1} \\cos{\\left(yaw + \\operatorname{atan}{\\left(\\left(1 - lf_{r}\\right) \\tan{\\left(\\sigma \\right)} \\right)} + \\pi \\left\\lfloor{\\frac{\\sigma - \\frac{\\pi}{2}}{\\pi}}\\right\\rfloor \\operatorname{sign}{\\left(1 - lf_{r} \\right)} \\right)}}{\\tan{\\left(\\sigma \\right)}} - \\frac{h w_{r} \\sqrt{lf_{r}^{2} \\tan^{2}{\\left(\\sigma \\right)} - 2 lf_{r} \\tan^{2}{\\left(\\sigma \\right)} + \\tan^{2}{\\left(\\sigma \\right)} + 1} \\cos{\\left(\\frac{dt v \\tan{\\left(\\sigma \\right)}}{h w_{r} \\sqrt{\\left(1 - lf_{r}\\right)^{2} \\tan^{2}{\\left(\\sigma \\right)} + 1}} + yaw + \\operatorname{atan}{\\left(\\left(1 - lf_{r}\\right) \\tan{\\left(\\sigma \\right)} \\right)} + \\pi \\left\\lfloor{\\frac{\\sigma - \\frac{\\pi}{2}}{\\pi}}\\right\\rfloor \\operatorname{sign}{\\left(1 - lf_{r} \\right)} \\right)}}{\\tan{\\left(\\sigma \\right)}} & \\text{otherwise} \\end{cases}$"
      ],
      "text/plain": [
       "y + Piecewise((dt*v*sin(yaw + atan((1 - lf_r)*tan(sigma)) + pi*floor((sigma - pi/2)/pi)*sign(1 - lf_r)), Eq(v, 0) | (Eq(v, 0) & Eq(tan(sigma), 0))), (dt*v*sin(yaw), Eq(sigma, 0)), (h*w_r*sqrt(lf_r**2*tan(sigma)**2 - 2*lf_r*tan(sigma)**2 + tan(sigma)**2 + 1)*cos(yaw + atan((1 - lf_r)*tan(sigma)) + pi*floor((sigma - pi/2)/pi)*sign(1 - lf_r))/tan(sigma) - h*w_r*sqrt(lf_r**2*tan(sigma)**2 - 2*lf_r*tan(sigma)**2 + tan(sigma)**2 + 1)*cos(dt*v*tan(sigma)/(h*w_r*sqrt((1 - lf_r)**2*tan(sigma)**2 + 1)) + yaw + atan((1 - lf_r)*tan(sigma)) + pi*floor((sigma - pi/2)/pi)*sign(1 - lf_r))/tan(sigma), True))"
      ]
     },
     "execution_count": 17,
     "metadata": {},
     "output_type": "execute_result"
    }
   ],
   "source": [
    "next_y"
   ]
  },
  {
   "cell_type": "code",
   "execution_count": 18,
   "metadata": {},
   "outputs": [
    {
     "data": {
      "text/latex": [
       "$\\displaystyle \\frac{dt v \\tan{\\left(\\sigma \\right)}}{h w_{r} \\sqrt{\\left(1 - lf_{r}\\right)^{2} \\tan^{2}{\\left(\\sigma \\right)} + 1}} + yaw$"
      ],
      "text/plain": [
       "dt*v*tan(sigma)/(h*w_r*sqrt((1 - lf_r)**2*tan(sigma)**2 + 1)) + yaw"
      ]
     },
     "execution_count": 18,
     "metadata": {},
     "output_type": "execute_result"
    }
   ],
   "source": [
    "next_yaw"
   ]
  },
  {
   "cell_type": "code",
   "execution_count": 20,
   "metadata": {},
   "outputs": [],
   "source": [
    "funcs = sym.Matrix([next_x, next_y, next_z, next_w, next_l, next_h, next_v, next_a, next_yaw, next_sigma])\n",
    "args = sym.Matrix([x, y, z, w, l, h, v, a, yaw, sigma])\n",
    "res = funcs.jacobian(args)"
   ]
  },
  {
   "cell_type": "code",
   "execution_count": 22,
   "metadata": {},
   "outputs": [
    {
     "data": {
      "text/latex": [
       "$\\displaystyle \\left[\\begin{matrix}1 & 0 & 0 & 0 & \\begin{cases} 0 & \\text{for}\\: \\left(\\sigma = 0 \\vee v = 0\\right) \\wedge \\left(\\sigma = 0 \\vee v = 0 \\vee \\tan{\\left(\\sigma \\right)} = 0\\right) \\\\- \\frac{dt v \\sqrt{lf_{r}^{2} \\tan^{2}{\\left(\\sigma \\right)} - 2 lf_{r} \\tan^{2}{\\left(\\sigma \\right)} + \\tan^{2}{\\left(\\sigma \\right)} + 1} \\cos{\\left(\\frac{dt v \\tan{\\left(\\sigma \\right)}}{h w_{r} \\sqrt{\\left(1 - lf_{r}\\right)^{2} \\tan^{2}{\\left(\\sigma \\right)} + 1}} + yaw + \\operatorname{atan}{\\left(\\left(1 - lf_{r}\\right) \\tan{\\left(\\sigma \\right)} \\right)} + \\pi \\left\\lfloor{\\frac{\\sigma - \\frac{\\pi}{2}}{\\pi}}\\right\\rfloor \\operatorname{sign}{\\left(1 - lf_{r} \\right)} \\right)}}{h \\sqrt{\\left(1 - lf_{r}\\right)^{2} \\tan^{2}{\\left(\\sigma \\right)} + 1}} - \\frac{w_{r} \\sqrt{lf_{r}^{2} \\tan^{2}{\\left(\\sigma \\right)} - 2 lf_{r} \\tan^{2}{\\left(\\sigma \\right)} + \\tan^{2}{\\left(\\sigma \\right)} + 1} \\sin{\\left(yaw + \\operatorname{atan}{\\left(\\left(1 - lf_{r}\\right) \\tan{\\left(\\sigma \\right)} \\right)} + \\pi \\left\\lfloor{\\frac{\\sigma - \\frac{\\pi}{2}}{\\pi}}\\right\\rfloor \\operatorname{sign}{\\left(1 - lf_{r} \\right)} \\right)}}{\\tan{\\left(\\sigma \\right)}} + \\frac{w_{r} \\sqrt{lf_{r}^{2} \\tan^{2}{\\left(\\sigma \\right)} - 2 lf_{r} \\tan^{2}{\\left(\\sigma \\right)} + \\tan^{2}{\\left(\\sigma \\right)} + 1} \\sin{\\left(\\frac{dt v \\tan{\\left(\\sigma \\right)}}{h w_{r} \\sqrt{\\left(1 - lf_{r}\\right)^{2} \\tan^{2}{\\left(\\sigma \\right)} + 1}} + yaw + \\operatorname{atan}{\\left(\\left(1 - lf_{r}\\right) \\tan{\\left(\\sigma \\right)} \\right)} + \\pi \\left\\lfloor{\\frac{\\sigma - \\frac{\\pi}{2}}{\\pi}}\\right\\rfloor \\operatorname{sign}{\\left(1 - lf_{r} \\right)} \\right)}}{\\tan{\\left(\\sigma \\right)}} & \\text{otherwise} \\end{cases} & 0 & \\begin{cases} dt \\cos{\\left(yaw + \\operatorname{atan}{\\left(\\left(1 - lf_{r}\\right) \\tan{\\left(\\sigma \\right)} \\right)} + \\pi \\left\\lfloor{\\frac{\\sigma - \\frac{\\pi}{2}}{\\pi}}\\right\\rfloor \\operatorname{sign}{\\left(1 - lf_{r} \\right)} \\right)} & \\text{for}\\: \\left(v = 0 \\wedge \\tan{\\left(\\sigma \\right)} = 0\\right) \\vee v = 0 \\\\dt \\cos{\\left(yaw \\right)} & \\text{for}\\: \\sigma = 0 \\\\\\frac{dt \\sqrt{lf_{r}^{2} \\tan^{2}{\\left(\\sigma \\right)} - 2 lf_{r} \\tan^{2}{\\left(\\sigma \\right)} + \\tan^{2}{\\left(\\sigma \\right)} + 1} \\cos{\\left(\\frac{dt v \\tan{\\left(\\sigma \\right)}}{h w_{r} \\sqrt{\\left(1 - lf_{r}\\right)^{2} \\tan^{2}{\\left(\\sigma \\right)} + 1}} + yaw + \\operatorname{atan}{\\left(\\left(1 - lf_{r}\\right) \\tan{\\left(\\sigma \\right)} \\right)} + \\pi \\left\\lfloor{\\frac{\\sigma - \\frac{\\pi}{2}}{\\pi}}\\right\\rfloor \\operatorname{sign}{\\left(1 - lf_{r} \\right)} \\right)}}{\\sqrt{\\left(1 - lf_{r}\\right)^{2} \\tan^{2}{\\left(\\sigma \\right)} + 1}} & \\text{otherwise} \\end{cases} & 0 & \\begin{cases} - dt v \\sin{\\left(yaw + \\operatorname{atan}{\\left(\\left(1 - lf_{r}\\right) \\tan{\\left(\\sigma \\right)} \\right)} + \\pi \\left\\lfloor{\\frac{\\sigma - \\frac{\\pi}{2}}{\\pi}}\\right\\rfloor \\operatorname{sign}{\\left(1 - lf_{r} \\right)} \\right)} & \\text{for}\\: \\left(v = 0 \\wedge \\tan{\\left(\\sigma \\right)} = 0\\right) \\vee v = 0 \\\\- dt v \\sin{\\left(yaw \\right)} & \\text{for}\\: \\sigma = 0 \\\\- \\frac{h w_{r} \\sqrt{lf_{r}^{2} \\tan^{2}{\\left(\\sigma \\right)} - 2 lf_{r} \\tan^{2}{\\left(\\sigma \\right)} + \\tan^{2}{\\left(\\sigma \\right)} + 1} \\cos{\\left(yaw + \\operatorname{atan}{\\left(\\left(1 - lf_{r}\\right) \\tan{\\left(\\sigma \\right)} \\right)} + \\pi \\left\\lfloor{\\frac{\\sigma - \\frac{\\pi}{2}}{\\pi}}\\right\\rfloor \\operatorname{sign}{\\left(1 - lf_{r} \\right)} \\right)}}{\\tan{\\left(\\sigma \\right)}} + \\frac{h w_{r} \\sqrt{lf_{r}^{2} \\tan^{2}{\\left(\\sigma \\right)} - 2 lf_{r} \\tan^{2}{\\left(\\sigma \\right)} + \\tan^{2}{\\left(\\sigma \\right)} + 1} \\cos{\\left(\\frac{dt v \\tan{\\left(\\sigma \\right)}}{h w_{r} \\sqrt{\\left(1 - lf_{r}\\right)^{2} \\tan^{2}{\\left(\\sigma \\right)} + 1}} + yaw + \\operatorname{atan}{\\left(\\left(1 - lf_{r}\\right) \\tan{\\left(\\sigma \\right)} \\right)} + \\pi \\left\\lfloor{\\frac{\\sigma - \\frac{\\pi}{2}}{\\pi}}\\right\\rfloor \\operatorname{sign}{\\left(1 - lf_{r} \\right)} \\right)}}{\\tan{\\left(\\sigma \\right)}} & \\text{otherwise} \\end{cases} & \\begin{cases} - dt v \\left(\\frac{\\left(1 - lf_{r}\\right) \\left(\\tan^{2}{\\left(\\sigma \\right)} + 1\\right)}{\\left(1 - lf_{r}\\right)^{2} \\tan^{2}{\\left(\\sigma \\right)} + 1} + \\operatorname{sign}{\\left(1 - lf_{r} \\right)} \\left. \\frac{d}{d \\xi_{1}} \\left\\lfloor{\\xi_{1}}\\right\\rfloor \\right|_{\\substack{ \\xi_{1}=\\frac{\\sigma - \\frac{\\pi}{2}}{\\pi} }}\\right) \\sin{\\left(yaw + \\operatorname{atan}{\\left(\\left(1 - lf_{r}\\right) \\tan{\\left(\\sigma \\right)} \\right)} + \\pi \\left\\lfloor{\\frac{\\sigma - \\frac{\\pi}{2}}{\\pi}}\\right\\rfloor \\operatorname{sign}{\\left(1 - lf_{r} \\right)} \\right)} & \\text{for}\\: \\left(v = 0 \\wedge \\tan{\\left(\\sigma \\right)} = 0\\right) \\vee v = 0 \\\\0 & \\text{for}\\: \\sigma = 0 \\\\- \\frac{h w_{r} \\left(\\frac{\\left(1 - lf_{r}\\right) \\left(\\tan^{2}{\\left(\\sigma \\right)} + 1\\right)}{\\left(1 - lf_{r}\\right)^{2} \\tan^{2}{\\left(\\sigma \\right)} + 1} + \\operatorname{sign}{\\left(1 - lf_{r} \\right)} \\left. \\frac{d}{d \\xi_{1}} \\left\\lfloor{\\xi_{1}}\\right\\rfloor \\right|_{\\substack{ \\xi_{1}=\\frac{\\sigma - \\frac{\\pi}{2}}{\\pi} }}\\right) \\sqrt{lf_{r}^{2} \\tan^{2}{\\left(\\sigma \\right)} - 2 lf_{r} \\tan^{2}{\\left(\\sigma \\right)} + \\tan^{2}{\\left(\\sigma \\right)} + 1} \\cos{\\left(yaw + \\operatorname{atan}{\\left(\\left(1 - lf_{r}\\right) \\tan{\\left(\\sigma \\right)} \\right)} + \\pi \\left\\lfloor{\\frac{\\sigma - \\frac{\\pi}{2}}{\\pi}}\\right\\rfloor \\operatorname{sign}{\\left(1 - lf_{r} \\right)} \\right)}}{\\tan{\\left(\\sigma \\right)}} - \\frac{h w_{r} \\left(- \\tan^{2}{\\left(\\sigma \\right)} - 1\\right) \\sqrt{lf_{r}^{2} \\tan^{2}{\\left(\\sigma \\right)} - 2 lf_{r} \\tan^{2}{\\left(\\sigma \\right)} + \\tan^{2}{\\left(\\sigma \\right)} + 1} \\sin{\\left(yaw + \\operatorname{atan}{\\left(\\left(1 - lf_{r}\\right) \\tan{\\left(\\sigma \\right)} \\right)} + \\pi \\left\\lfloor{\\frac{\\sigma - \\frac{\\pi}{2}}{\\pi}}\\right\\rfloor \\operatorname{sign}{\\left(1 - lf_{r} \\right)} \\right)}}{\\tan^{2}{\\left(\\sigma \\right)}} + \\frac{h w_{r} \\left(- \\tan^{2}{\\left(\\sigma \\right)} - 1\\right) \\sqrt{lf_{r}^{2} \\tan^{2}{\\left(\\sigma \\right)} - 2 lf_{r} \\tan^{2}{\\left(\\sigma \\right)} + \\tan^{2}{\\left(\\sigma \\right)} + 1} \\sin{\\left(\\frac{dt v \\tan{\\left(\\sigma \\right)}}{h w_{r} \\sqrt{\\left(1 - lf_{r}\\right)^{2} \\tan^{2}{\\left(\\sigma \\right)} + 1}} + yaw + \\operatorname{atan}{\\left(\\left(1 - lf_{r}\\right) \\tan{\\left(\\sigma \\right)} \\right)} + \\pi \\left\\lfloor{\\frac{\\sigma - \\frac{\\pi}{2}}{\\pi}}\\right\\rfloor \\operatorname{sign}{\\left(1 - lf_{r} \\right)} \\right)}}{\\tan^{2}{\\left(\\sigma \\right)}} - \\frac{h w_{r} \\left(\\frac{lf_{r}^{2} \\cdot \\left(2 \\tan^{2}{\\left(\\sigma \\right)} + 2\\right) \\tan{\\left(\\sigma \\right)}}{2} - lf_{r} \\left(2 \\tan^{2}{\\left(\\sigma \\right)} + 2\\right) \\tan{\\left(\\sigma \\right)} + \\frac{\\left(2 \\tan^{2}{\\left(\\sigma \\right)} + 2\\right) \\tan{\\left(\\sigma \\right)}}{2}\\right) \\sin{\\left(yaw + \\operatorname{atan}{\\left(\\left(1 - lf_{r}\\right) \\tan{\\left(\\sigma \\right)} \\right)} + \\pi \\left\\lfloor{\\frac{\\sigma - \\frac{\\pi}{2}}{\\pi}}\\right\\rfloor \\operatorname{sign}{\\left(1 - lf_{r} \\right)} \\right)}}{\\sqrt{lf_{r}^{2} \\tan^{2}{\\left(\\sigma \\right)} - 2 lf_{r} \\tan^{2}{\\left(\\sigma \\right)} + \\tan^{2}{\\left(\\sigma \\right)} + 1} \\tan{\\left(\\sigma \\right)}} + \\frac{h w_{r} \\left(\\frac{lf_{r}^{2} \\cdot \\left(2 \\tan^{2}{\\left(\\sigma \\right)} + 2\\right) \\tan{\\left(\\sigma \\right)}}{2} - lf_{r} \\left(2 \\tan^{2}{\\left(\\sigma \\right)} + 2\\right) \\tan{\\left(\\sigma \\right)} + \\frac{\\left(2 \\tan^{2}{\\left(\\sigma \\right)} + 2\\right) \\tan{\\left(\\sigma \\right)}}{2}\\right) \\sin{\\left(\\frac{dt v \\tan{\\left(\\sigma \\right)}}{h w_{r} \\sqrt{\\left(1 - lf_{r}\\right)^{2} \\tan^{2}{\\left(\\sigma \\right)} + 1}} + yaw + \\operatorname{atan}{\\left(\\left(1 - lf_{r}\\right) \\tan{\\left(\\sigma \\right)} \\right)} + \\pi \\left\\lfloor{\\frac{\\sigma - \\frac{\\pi}{2}}{\\pi}}\\right\\rfloor \\operatorname{sign}{\\left(1 - lf_{r} \\right)} \\right)}}{\\sqrt{lf_{r}^{2} \\tan^{2}{\\left(\\sigma \\right)} - 2 lf_{r} \\tan^{2}{\\left(\\sigma \\right)} + \\tan^{2}{\\left(\\sigma \\right)} + 1} \\tan{\\left(\\sigma \\right)}} + \\frac{h w_{r} \\sqrt{lf_{r}^{2} \\tan^{2}{\\left(\\sigma \\right)} - 2 lf_{r} \\tan^{2}{\\left(\\sigma \\right)} + \\tan^{2}{\\left(\\sigma \\right)} + 1} \\left(- \\frac{dt v \\left(1 - lf_{r}\\right)^{2} \\cdot \\left(2 \\tan^{2}{\\left(\\sigma \\right)} + 2\\right) \\tan^{2}{\\left(\\sigma \\right)}}{2 h w_{r} \\left(\\left(1 - lf_{r}\\right)^{2} \\tan^{2}{\\left(\\sigma \\right)} + 1\\right)^{\\frac{3}{2}}} + \\frac{dt v \\left(\\tan^{2}{\\left(\\sigma \\right)} + 1\\right)}{h w_{r} \\sqrt{\\left(1 - lf_{r}\\right)^{2} \\tan^{2}{\\left(\\sigma \\right)} + 1}} + \\frac{\\left(1 - lf_{r}\\right) \\left(\\tan^{2}{\\left(\\sigma \\right)} + 1\\right)}{\\left(1 - lf_{r}\\right)^{2} \\tan^{2}{\\left(\\sigma \\right)} + 1} + \\operatorname{sign}{\\left(1 - lf_{r} \\right)} \\left. \\frac{d}{d \\xi_{1}} \\left\\lfloor{\\xi_{1}}\\right\\rfloor \\right|_{\\substack{ \\xi_{1}=\\frac{\\sigma - \\frac{\\pi}{2}}{\\pi} }}\\right) \\cos{\\left(\\frac{dt v \\tan{\\left(\\sigma \\right)}}{h w_{r} \\sqrt{\\left(1 - lf_{r}\\right)^{2} \\tan^{2}{\\left(\\sigma \\right)} + 1}} + yaw + \\operatorname{atan}{\\left(\\left(1 - lf_{r}\\right) \\tan{\\left(\\sigma \\right)} \\right)} + \\pi \\left\\lfloor{\\frac{\\sigma - \\frac{\\pi}{2}}{\\pi}}\\right\\rfloor \\operatorname{sign}{\\left(1 - lf_{r} \\right)} \\right)}}{\\tan{\\left(\\sigma \\right)}} & \\text{otherwise} \\end{cases}\\\\0 & 1 & 0 & 0 & \\begin{cases} 0 & \\text{for}\\: \\left(\\sigma = 0 \\vee v = 0\\right) \\wedge \\left(\\sigma = 0 \\vee v = 0 \\vee \\tan{\\left(\\sigma \\right)} = 0\\right) \\\\- \\frac{dt v \\sqrt{lf_{r}^{2} \\tan^{2}{\\left(\\sigma \\right)} - 2 lf_{r} \\tan^{2}{\\left(\\sigma \\right)} + \\tan^{2}{\\left(\\sigma \\right)} + 1} \\sin{\\left(\\frac{dt v \\tan{\\left(\\sigma \\right)}}{h w_{r} \\sqrt{\\left(1 - lf_{r}\\right)^{2} \\tan^{2}{\\left(\\sigma \\right)} + 1}} + yaw + \\operatorname{atan}{\\left(\\left(1 - lf_{r}\\right) \\tan{\\left(\\sigma \\right)} \\right)} + \\pi \\left\\lfloor{\\frac{\\sigma - \\frac{\\pi}{2}}{\\pi}}\\right\\rfloor \\operatorname{sign}{\\left(1 - lf_{r} \\right)} \\right)}}{h \\sqrt{\\left(1 - lf_{r}\\right)^{2} \\tan^{2}{\\left(\\sigma \\right)} + 1}} + \\frac{w_{r} \\sqrt{lf_{r}^{2} \\tan^{2}{\\left(\\sigma \\right)} - 2 lf_{r} \\tan^{2}{\\left(\\sigma \\right)} + \\tan^{2}{\\left(\\sigma \\right)} + 1} \\cos{\\left(yaw + \\operatorname{atan}{\\left(\\left(1 - lf_{r}\\right) \\tan{\\left(\\sigma \\right)} \\right)} + \\pi \\left\\lfloor{\\frac{\\sigma - \\frac{\\pi}{2}}{\\pi}}\\right\\rfloor \\operatorname{sign}{\\left(1 - lf_{r} \\right)} \\right)}}{\\tan{\\left(\\sigma \\right)}} - \\frac{w_{r} \\sqrt{lf_{r}^{2} \\tan^{2}{\\left(\\sigma \\right)} - 2 lf_{r} \\tan^{2}{\\left(\\sigma \\right)} + \\tan^{2}{\\left(\\sigma \\right)} + 1} \\cos{\\left(\\frac{dt v \\tan{\\left(\\sigma \\right)}}{h w_{r} \\sqrt{\\left(1 - lf_{r}\\right)^{2} \\tan^{2}{\\left(\\sigma \\right)} + 1}} + yaw + \\operatorname{atan}{\\left(\\left(1 - lf_{r}\\right) \\tan{\\left(\\sigma \\right)} \\right)} + \\pi \\left\\lfloor{\\frac{\\sigma - \\frac{\\pi}{2}}{\\pi}}\\right\\rfloor \\operatorname{sign}{\\left(1 - lf_{r} \\right)} \\right)}}{\\tan{\\left(\\sigma \\right)}} & \\text{otherwise} \\end{cases} & 0 & \\begin{cases} dt \\sin{\\left(yaw + \\operatorname{atan}{\\left(\\left(1 - lf_{r}\\right) \\tan{\\left(\\sigma \\right)} \\right)} + \\pi \\left\\lfloor{\\frac{\\sigma - \\frac{\\pi}{2}}{\\pi}}\\right\\rfloor \\operatorname{sign}{\\left(1 - lf_{r} \\right)} \\right)} & \\text{for}\\: \\left(v = 0 \\wedge \\tan{\\left(\\sigma \\right)} = 0\\right) \\vee v = 0 \\\\dt \\sin{\\left(yaw \\right)} & \\text{for}\\: \\sigma = 0 \\\\\\frac{dt \\sqrt{lf_{r}^{2} \\tan^{2}{\\left(\\sigma \\right)} - 2 lf_{r} \\tan^{2}{\\left(\\sigma \\right)} + \\tan^{2}{\\left(\\sigma \\right)} + 1} \\sin{\\left(\\frac{dt v \\tan{\\left(\\sigma \\right)}}{h w_{r} \\sqrt{\\left(1 - lf_{r}\\right)^{2} \\tan^{2}{\\left(\\sigma \\right)} + 1}} + yaw + \\operatorname{atan}{\\left(\\left(1 - lf_{r}\\right) \\tan{\\left(\\sigma \\right)} \\right)} + \\pi \\left\\lfloor{\\frac{\\sigma - \\frac{\\pi}{2}}{\\pi}}\\right\\rfloor \\operatorname{sign}{\\left(1 - lf_{r} \\right)} \\right)}}{\\sqrt{\\left(1 - lf_{r}\\right)^{2} \\tan^{2}{\\left(\\sigma \\right)} + 1}} & \\text{otherwise} \\end{cases} & 0 & \\begin{cases} dt v \\cos{\\left(yaw + \\operatorname{atan}{\\left(\\left(1 - lf_{r}\\right) \\tan{\\left(\\sigma \\right)} \\right)} + \\pi \\left\\lfloor{\\frac{\\sigma - \\frac{\\pi}{2}}{\\pi}}\\right\\rfloor \\operatorname{sign}{\\left(1 - lf_{r} \\right)} \\right)} & \\text{for}\\: \\left(v = 0 \\wedge \\tan{\\left(\\sigma \\right)} = 0\\right) \\vee v = 0 \\\\dt v \\cos{\\left(yaw \\right)} & \\text{for}\\: \\sigma = 0 \\\\- \\frac{h w_{r} \\sqrt{lf_{r}^{2} \\tan^{2}{\\left(\\sigma \\right)} - 2 lf_{r} \\tan^{2}{\\left(\\sigma \\right)} + \\tan^{2}{\\left(\\sigma \\right)} + 1} \\sin{\\left(yaw + \\operatorname{atan}{\\left(\\left(1 - lf_{r}\\right) \\tan{\\left(\\sigma \\right)} \\right)} + \\pi \\left\\lfloor{\\frac{\\sigma - \\frac{\\pi}{2}}{\\pi}}\\right\\rfloor \\operatorname{sign}{\\left(1 - lf_{r} \\right)} \\right)}}{\\tan{\\left(\\sigma \\right)}} + \\frac{h w_{r} \\sqrt{lf_{r}^{2} \\tan^{2}{\\left(\\sigma \\right)} - 2 lf_{r} \\tan^{2}{\\left(\\sigma \\right)} + \\tan^{2}{\\left(\\sigma \\right)} + 1} \\sin{\\left(\\frac{dt v \\tan{\\left(\\sigma \\right)}}{h w_{r} \\sqrt{\\left(1 - lf_{r}\\right)^{2} \\tan^{2}{\\left(\\sigma \\right)} + 1}} + yaw + \\operatorname{atan}{\\left(\\left(1 - lf_{r}\\right) \\tan{\\left(\\sigma \\right)} \\right)} + \\pi \\left\\lfloor{\\frac{\\sigma - \\frac{\\pi}{2}}{\\pi}}\\right\\rfloor \\operatorname{sign}{\\left(1 - lf_{r} \\right)} \\right)}}{\\tan{\\left(\\sigma \\right)}} & \\text{otherwise} \\end{cases} & \\begin{cases} dt v \\left(\\frac{\\left(1 - lf_{r}\\right) \\left(\\tan^{2}{\\left(\\sigma \\right)} + 1\\right)}{\\left(1 - lf_{r}\\right)^{2} \\tan^{2}{\\left(\\sigma \\right)} + 1} + \\operatorname{sign}{\\left(1 - lf_{r} \\right)} \\left. \\frac{d}{d \\xi_{1}} \\left\\lfloor{\\xi_{1}}\\right\\rfloor \\right|_{\\substack{ \\xi_{1}=\\frac{\\sigma - \\frac{\\pi}{2}}{\\pi} }}\\right) \\cos{\\left(yaw + \\operatorname{atan}{\\left(\\left(1 - lf_{r}\\right) \\tan{\\left(\\sigma \\right)} \\right)} + \\pi \\left\\lfloor{\\frac{\\sigma - \\frac{\\pi}{2}}{\\pi}}\\right\\rfloor \\operatorname{sign}{\\left(1 - lf_{r} \\right)} \\right)} & \\text{for}\\: \\left(v = 0 \\wedge \\tan{\\left(\\sigma \\right)} = 0\\right) \\vee v = 0 \\\\0 & \\text{for}\\: \\sigma = 0 \\\\- \\frac{h w_{r} \\left(\\frac{\\left(1 - lf_{r}\\right) \\left(\\tan^{2}{\\left(\\sigma \\right)} + 1\\right)}{\\left(1 - lf_{r}\\right)^{2} \\tan^{2}{\\left(\\sigma \\right)} + 1} + \\operatorname{sign}{\\left(1 - lf_{r} \\right)} \\left. \\frac{d}{d \\xi_{1}} \\left\\lfloor{\\xi_{1}}\\right\\rfloor \\right|_{\\substack{ \\xi_{1}=\\frac{\\sigma - \\frac{\\pi}{2}}{\\pi} }}\\right) \\sqrt{lf_{r}^{2} \\tan^{2}{\\left(\\sigma \\right)} - 2 lf_{r} \\tan^{2}{\\left(\\sigma \\right)} + \\tan^{2}{\\left(\\sigma \\right)} + 1} \\sin{\\left(yaw + \\operatorname{atan}{\\left(\\left(1 - lf_{r}\\right) \\tan{\\left(\\sigma \\right)} \\right)} + \\pi \\left\\lfloor{\\frac{\\sigma - \\frac{\\pi}{2}}{\\pi}}\\right\\rfloor \\operatorname{sign}{\\left(1 - lf_{r} \\right)} \\right)}}{\\tan{\\left(\\sigma \\right)}} + \\frac{h w_{r} \\left(- \\tan^{2}{\\left(\\sigma \\right)} - 1\\right) \\sqrt{lf_{r}^{2} \\tan^{2}{\\left(\\sigma \\right)} - 2 lf_{r} \\tan^{2}{\\left(\\sigma \\right)} + \\tan^{2}{\\left(\\sigma \\right)} + 1} \\cos{\\left(yaw + \\operatorname{atan}{\\left(\\left(1 - lf_{r}\\right) \\tan{\\left(\\sigma \\right)} \\right)} + \\pi \\left\\lfloor{\\frac{\\sigma - \\frac{\\pi}{2}}{\\pi}}\\right\\rfloor \\operatorname{sign}{\\left(1 - lf_{r} \\right)} \\right)}}{\\tan^{2}{\\left(\\sigma \\right)}} - \\frac{h w_{r} \\left(- \\tan^{2}{\\left(\\sigma \\right)} - 1\\right) \\sqrt{lf_{r}^{2} \\tan^{2}{\\left(\\sigma \\right)} - 2 lf_{r} \\tan^{2}{\\left(\\sigma \\right)} + \\tan^{2}{\\left(\\sigma \\right)} + 1} \\cos{\\left(\\frac{dt v \\tan{\\left(\\sigma \\right)}}{h w_{r} \\sqrt{\\left(1 - lf_{r}\\right)^{2} \\tan^{2}{\\left(\\sigma \\right)} + 1}} + yaw + \\operatorname{atan}{\\left(\\left(1 - lf_{r}\\right) \\tan{\\left(\\sigma \\right)} \\right)} + \\pi \\left\\lfloor{\\frac{\\sigma - \\frac{\\pi}{2}}{\\pi}}\\right\\rfloor \\operatorname{sign}{\\left(1 - lf_{r} \\right)} \\right)}}{\\tan^{2}{\\left(\\sigma \\right)}} + \\frac{h w_{r} \\left(\\frac{lf_{r}^{2} \\cdot \\left(2 \\tan^{2}{\\left(\\sigma \\right)} + 2\\right) \\tan{\\left(\\sigma \\right)}}{2} - lf_{r} \\left(2 \\tan^{2}{\\left(\\sigma \\right)} + 2\\right) \\tan{\\left(\\sigma \\right)} + \\frac{\\left(2 \\tan^{2}{\\left(\\sigma \\right)} + 2\\right) \\tan{\\left(\\sigma \\right)}}{2}\\right) \\cos{\\left(yaw + \\operatorname{atan}{\\left(\\left(1 - lf_{r}\\right) \\tan{\\left(\\sigma \\right)} \\right)} + \\pi \\left\\lfloor{\\frac{\\sigma - \\frac{\\pi}{2}}{\\pi}}\\right\\rfloor \\operatorname{sign}{\\left(1 - lf_{r} \\right)} \\right)}}{\\sqrt{lf_{r}^{2} \\tan^{2}{\\left(\\sigma \\right)} - 2 lf_{r} \\tan^{2}{\\left(\\sigma \\right)} + \\tan^{2}{\\left(\\sigma \\right)} + 1} \\tan{\\left(\\sigma \\right)}} - \\frac{h w_{r} \\left(\\frac{lf_{r}^{2} \\cdot \\left(2 \\tan^{2}{\\left(\\sigma \\right)} + 2\\right) \\tan{\\left(\\sigma \\right)}}{2} - lf_{r} \\left(2 \\tan^{2}{\\left(\\sigma \\right)} + 2\\right) \\tan{\\left(\\sigma \\right)} + \\frac{\\left(2 \\tan^{2}{\\left(\\sigma \\right)} + 2\\right) \\tan{\\left(\\sigma \\right)}}{2}\\right) \\cos{\\left(\\frac{dt v \\tan{\\left(\\sigma \\right)}}{h w_{r} \\sqrt{\\left(1 - lf_{r}\\right)^{2} \\tan^{2}{\\left(\\sigma \\right)} + 1}} + yaw + \\operatorname{atan}{\\left(\\left(1 - lf_{r}\\right) \\tan{\\left(\\sigma \\right)} \\right)} + \\pi \\left\\lfloor{\\frac{\\sigma - \\frac{\\pi}{2}}{\\pi}}\\right\\rfloor \\operatorname{sign}{\\left(1 - lf_{r} \\right)} \\right)}}{\\sqrt{lf_{r}^{2} \\tan^{2}{\\left(\\sigma \\right)} - 2 lf_{r} \\tan^{2}{\\left(\\sigma \\right)} + \\tan^{2}{\\left(\\sigma \\right)} + 1} \\tan{\\left(\\sigma \\right)}} + \\frac{h w_{r} \\sqrt{lf_{r}^{2} \\tan^{2}{\\left(\\sigma \\right)} - 2 lf_{r} \\tan^{2}{\\left(\\sigma \\right)} + \\tan^{2}{\\left(\\sigma \\right)} + 1} \\left(- \\frac{dt v \\left(1 - lf_{r}\\right)^{2} \\cdot \\left(2 \\tan^{2}{\\left(\\sigma \\right)} + 2\\right) \\tan^{2}{\\left(\\sigma \\right)}}{2 h w_{r} \\left(\\left(1 - lf_{r}\\right)^{2} \\tan^{2}{\\left(\\sigma \\right)} + 1\\right)^{\\frac{3}{2}}} + \\frac{dt v \\left(\\tan^{2}{\\left(\\sigma \\right)} + 1\\right)}{h w_{r} \\sqrt{\\left(1 - lf_{r}\\right)^{2} \\tan^{2}{\\left(\\sigma \\right)} + 1}} + \\frac{\\left(1 - lf_{r}\\right) \\left(\\tan^{2}{\\left(\\sigma \\right)} + 1\\right)}{\\left(1 - lf_{r}\\right)^{2} \\tan^{2}{\\left(\\sigma \\right)} + 1} + \\operatorname{sign}{\\left(1 - lf_{r} \\right)} \\left. \\frac{d}{d \\xi_{1}} \\left\\lfloor{\\xi_{1}}\\right\\rfloor \\right|_{\\substack{ \\xi_{1}=\\frac{\\sigma - \\frac{\\pi}{2}}{\\pi} }}\\right) \\sin{\\left(\\frac{dt v \\tan{\\left(\\sigma \\right)}}{h w_{r} \\sqrt{\\left(1 - lf_{r}\\right)^{2} \\tan^{2}{\\left(\\sigma \\right)} + 1}} + yaw + \\operatorname{atan}{\\left(\\left(1 - lf_{r}\\right) \\tan{\\left(\\sigma \\right)} \\right)} + \\pi \\left\\lfloor{\\frac{\\sigma - \\frac{\\pi}{2}}{\\pi}}\\right\\rfloor \\operatorname{sign}{\\left(1 - lf_{r} \\right)} \\right)}}{\\tan{\\left(\\sigma \\right)}} & \\text{otherwise} \\end{cases}\\\\0 & 0 & 1 & 0 & 0 & 0 & 0 & 0 & 0 & 0\\\\0 & 0 & 0 & 1 & 0 & 0 & 0 & 0 & 0 & 0\\\\0 & 0 & 0 & 0 & 1 & 0 & 0 & 0 & 0 & 0\\\\0 & 0 & 0 & 0 & 0 & 1 & 0 & 0 & 0 & 0\\\\0 & 0 & 0 & 0 & 0 & 0 & 1 & dt & 0 & 0\\\\0 & 0 & 0 & 0 & 0 & 0 & 0 & 0 & 0 & 0\\\\0 & 0 & 0 & 0 & - \\frac{dt v \\tan{\\left(\\sigma \\right)}}{h^{2} w_{r} \\sqrt{\\left(1 - lf_{r}\\right)^{2} \\tan^{2}{\\left(\\sigma \\right)} + 1}} & 0 & \\frac{dt \\tan{\\left(\\sigma \\right)}}{h w_{r} \\sqrt{\\left(1 - lf_{r}\\right)^{2} \\tan^{2}{\\left(\\sigma \\right)} + 1}} & 0 & 1 & - \\frac{dt v \\left(1 - lf_{r}\\right)^{2} \\cdot \\left(2 \\tan^{2}{\\left(\\sigma \\right)} + 2\\right) \\tan^{2}{\\left(\\sigma \\right)}}{2 h w_{r} \\left(\\left(1 - lf_{r}\\right)^{2} \\tan^{2}{\\left(\\sigma \\right)} + 1\\right)^{\\frac{3}{2}}} + \\frac{dt v \\left(\\tan^{2}{\\left(\\sigma \\right)} + 1\\right)}{h w_{r} \\sqrt{\\left(1 - lf_{r}\\right)^{2} \\tan^{2}{\\left(\\sigma \\right)} + 1}}\\\\0 & 0 & 0 & 0 & 0 & 0 & 0 & 0 & 0 & 1\\end{matrix}\\right]$"
      ],
      "text/plain": [
       "Matrix([\n",
       "[1, 0, 0, 0, Piecewise((0, (Eq(sigma, 0) | Eq(v, 0)) & (Eq(sigma, 0) | Eq(v, 0) | Eq(tan(sigma), 0))), (-dt*v*sqrt(lf_r**2*tan(sigma)**2 - 2*lf_r*tan(sigma)**2 + tan(sigma)**2 + 1)*cos(dt*v*tan(sigma)/(h*w_r*sqrt((1 - lf_r)**2*tan(sigma)**2 + 1)) + yaw + atan((1 - lf_r)*tan(sigma)) + pi*floor((sigma - pi/2)/pi)*sign(1 - lf_r))/(h*sqrt((1 - lf_r)**2*tan(sigma)**2 + 1)) - w_r*sqrt(lf_r**2*tan(sigma)**2 - 2*lf_r*tan(sigma)**2 + tan(sigma)**2 + 1)*sin(yaw + atan((1 - lf_r)*tan(sigma)) + pi*floor((sigma - pi/2)/pi)*sign(1 - lf_r))/tan(sigma) + w_r*sqrt(lf_r**2*tan(sigma)**2 - 2*lf_r*tan(sigma)**2 + tan(sigma)**2 + 1)*sin(dt*v*tan(sigma)/(h*w_r*sqrt((1 - lf_r)**2*tan(sigma)**2 + 1)) + yaw + atan((1 - lf_r)*tan(sigma)) + pi*floor((sigma - pi/2)/pi)*sign(1 - lf_r))/tan(sigma), True)), 0, Piecewise((dt*cos(yaw + atan((1 - lf_r)*tan(sigma)) + pi*floor((sigma - pi/2)/pi)*sign(1 - lf_r)), Eq(v, 0) | (Eq(v, 0) & Eq(tan(sigma), 0))), (dt*cos(yaw), Eq(sigma, 0)), (dt*sqrt(lf_r**2*tan(sigma)**2 - 2*lf_r*tan(sigma)**2 + tan(sigma)**2 + 1)*cos(dt*v*tan(sigma)/(h*w_r*sqrt((1 - lf_r)**2*tan(sigma)**2 + 1)) + yaw + atan((1 - lf_r)*tan(sigma)) + pi*floor((sigma - pi/2)/pi)*sign(1 - lf_r))/sqrt((1 - lf_r)**2*tan(sigma)**2 + 1), True)),  0, Piecewise((-dt*v*sin(yaw + atan((1 - lf_r)*tan(sigma)) + pi*floor((sigma - pi/2)/pi)*sign(1 - lf_r)), Eq(v, 0) | (Eq(v, 0) & Eq(tan(sigma), 0))), (-dt*v*sin(yaw), Eq(sigma, 0)), (-h*w_r*sqrt(lf_r**2*tan(sigma)**2 - 2*lf_r*tan(sigma)**2 + tan(sigma)**2 + 1)*cos(yaw + atan((1 - lf_r)*tan(sigma)) + pi*floor((sigma - pi/2)/pi)*sign(1 - lf_r))/tan(sigma) + h*w_r*sqrt(lf_r**2*tan(sigma)**2 - 2*lf_r*tan(sigma)**2 + tan(sigma)**2 + 1)*cos(dt*v*tan(sigma)/(h*w_r*sqrt((1 - lf_r)**2*tan(sigma)**2 + 1)) + yaw + atan((1 - lf_r)*tan(sigma)) + pi*floor((sigma - pi/2)/pi)*sign(1 - lf_r))/tan(sigma), True)), Piecewise((-dt*v*((1 - lf_r)*(tan(sigma)**2 + 1)/((1 - lf_r)**2*tan(sigma)**2 + 1) + sign(1 - lf_r)*Subs(Derivative(floor(_xi_1), _xi_1), _xi_1, (sigma - pi/2)/pi))*sin(yaw + atan((1 - lf_r)*tan(sigma)) + pi*floor((sigma - pi/2)/pi)*sign(1 - lf_r)), Eq(v, 0) | (Eq(v, 0) & Eq(tan(sigma), 0))), (0, Eq(sigma, 0)), (-h*w_r*((1 - lf_r)*(tan(sigma)**2 + 1)/((1 - lf_r)**2*tan(sigma)**2 + 1) + sign(1 - lf_r)*Subs(Derivative(floor(_xi_1), _xi_1), _xi_1, (sigma - pi/2)/pi))*sqrt(lf_r**2*tan(sigma)**2 - 2*lf_r*tan(sigma)**2 + tan(sigma)**2 + 1)*cos(yaw + atan((1 - lf_r)*tan(sigma)) + pi*floor((sigma - pi/2)/pi)*sign(1 - lf_r))/tan(sigma) - h*w_r*(-tan(sigma)**2 - 1)*sqrt(lf_r**2*tan(sigma)**2 - 2*lf_r*tan(sigma)**2 + tan(sigma)**2 + 1)*sin(yaw + atan((1 - lf_r)*tan(sigma)) + pi*floor((sigma - pi/2)/pi)*sign(1 - lf_r))/tan(sigma)**2 + h*w_r*(-tan(sigma)**2 - 1)*sqrt(lf_r**2*tan(sigma)**2 - 2*lf_r*tan(sigma)**2 + tan(sigma)**2 + 1)*sin(dt*v*tan(sigma)/(h*w_r*sqrt((1 - lf_r)**2*tan(sigma)**2 + 1)) + yaw + atan((1 - lf_r)*tan(sigma)) + pi*floor((sigma - pi/2)/pi)*sign(1 - lf_r))/tan(sigma)**2 - h*w_r*(lf_r**2*(2*tan(sigma)**2 + 2)*tan(sigma)/2 - lf_r*(2*tan(sigma)**2 + 2)*tan(sigma) + (2*tan(sigma)**2 + 2)*tan(sigma)/2)*sin(yaw + atan((1 - lf_r)*tan(sigma)) + pi*floor((sigma - pi/2)/pi)*sign(1 - lf_r))/(sqrt(lf_r**2*tan(sigma)**2 - 2*lf_r*tan(sigma)**2 + tan(sigma)**2 + 1)*tan(sigma)) + h*w_r*(lf_r**2*(2*tan(sigma)**2 + 2)*tan(sigma)/2 - lf_r*(2*tan(sigma)**2 + 2)*tan(sigma) + (2*tan(sigma)**2 + 2)*tan(sigma)/2)*sin(dt*v*tan(sigma)/(h*w_r*sqrt((1 - lf_r)**2*tan(sigma)**2 + 1)) + yaw + atan((1 - lf_r)*tan(sigma)) + pi*floor((sigma - pi/2)/pi)*sign(1 - lf_r))/(sqrt(lf_r**2*tan(sigma)**2 - 2*lf_r*tan(sigma)**2 + tan(sigma)**2 + 1)*tan(sigma)) + h*w_r*sqrt(lf_r**2*tan(sigma)**2 - 2*lf_r*tan(sigma)**2 + tan(sigma)**2 + 1)*(-dt*v*(1 - lf_r)**2*(2*tan(sigma)**2 + 2)*tan(sigma)**2/(2*h*w_r*((1 - lf_r)**2*tan(sigma)**2 + 1)**(3/2)) + dt*v*(tan(sigma)**2 + 1)/(h*w_r*sqrt((1 - lf_r)**2*tan(sigma)**2 + 1)) + (1 - lf_r)*(tan(sigma)**2 + 1)/((1 - lf_r)**2*tan(sigma)**2 + 1) + sign(1 - lf_r)*Subs(Derivative(floor(_xi_1), _xi_1), _xi_1, (sigma - pi/2)/pi))*cos(dt*v*tan(sigma)/(h*w_r*sqrt((1 - lf_r)**2*tan(sigma)**2 + 1)) + yaw + atan((1 - lf_r)*tan(sigma)) + pi*floor((sigma - pi/2)/pi)*sign(1 - lf_r))/tan(sigma), True))],\n",
       "[0, 1, 0, 0, Piecewise((0, (Eq(sigma, 0) | Eq(v, 0)) & (Eq(sigma, 0) | Eq(v, 0) | Eq(tan(sigma), 0))), (-dt*v*sqrt(lf_r**2*tan(sigma)**2 - 2*lf_r*tan(sigma)**2 + tan(sigma)**2 + 1)*sin(dt*v*tan(sigma)/(h*w_r*sqrt((1 - lf_r)**2*tan(sigma)**2 + 1)) + yaw + atan((1 - lf_r)*tan(sigma)) + pi*floor((sigma - pi/2)/pi)*sign(1 - lf_r))/(h*sqrt((1 - lf_r)**2*tan(sigma)**2 + 1)) + w_r*sqrt(lf_r**2*tan(sigma)**2 - 2*lf_r*tan(sigma)**2 + tan(sigma)**2 + 1)*cos(yaw + atan((1 - lf_r)*tan(sigma)) + pi*floor((sigma - pi/2)/pi)*sign(1 - lf_r))/tan(sigma) - w_r*sqrt(lf_r**2*tan(sigma)**2 - 2*lf_r*tan(sigma)**2 + tan(sigma)**2 + 1)*cos(dt*v*tan(sigma)/(h*w_r*sqrt((1 - lf_r)**2*tan(sigma)**2 + 1)) + yaw + atan((1 - lf_r)*tan(sigma)) + pi*floor((sigma - pi/2)/pi)*sign(1 - lf_r))/tan(sigma), True)), 0, Piecewise((dt*sin(yaw + atan((1 - lf_r)*tan(sigma)) + pi*floor((sigma - pi/2)/pi)*sign(1 - lf_r)), Eq(v, 0) | (Eq(v, 0) & Eq(tan(sigma), 0))), (dt*sin(yaw), Eq(sigma, 0)), (dt*sqrt(lf_r**2*tan(sigma)**2 - 2*lf_r*tan(sigma)**2 + tan(sigma)**2 + 1)*sin(dt*v*tan(sigma)/(h*w_r*sqrt((1 - lf_r)**2*tan(sigma)**2 + 1)) + yaw + atan((1 - lf_r)*tan(sigma)) + pi*floor((sigma - pi/2)/pi)*sign(1 - lf_r))/sqrt((1 - lf_r)**2*tan(sigma)**2 + 1), True)),  0,   Piecewise((dt*v*cos(yaw + atan((1 - lf_r)*tan(sigma)) + pi*floor((sigma - pi/2)/pi)*sign(1 - lf_r)), Eq(v, 0) | (Eq(v, 0) & Eq(tan(sigma), 0))), (dt*v*cos(yaw), Eq(sigma, 0)), (-h*w_r*sqrt(lf_r**2*tan(sigma)**2 - 2*lf_r*tan(sigma)**2 + tan(sigma)**2 + 1)*sin(yaw + atan((1 - lf_r)*tan(sigma)) + pi*floor((sigma - pi/2)/pi)*sign(1 - lf_r))/tan(sigma) + h*w_r*sqrt(lf_r**2*tan(sigma)**2 - 2*lf_r*tan(sigma)**2 + tan(sigma)**2 + 1)*sin(dt*v*tan(sigma)/(h*w_r*sqrt((1 - lf_r)**2*tan(sigma)**2 + 1)) + yaw + atan((1 - lf_r)*tan(sigma)) + pi*floor((sigma - pi/2)/pi)*sign(1 - lf_r))/tan(sigma), True)),  Piecewise((dt*v*((1 - lf_r)*(tan(sigma)**2 + 1)/((1 - lf_r)**2*tan(sigma)**2 + 1) + sign(1 - lf_r)*Subs(Derivative(floor(_xi_1), _xi_1), _xi_1, (sigma - pi/2)/pi))*cos(yaw + atan((1 - lf_r)*tan(sigma)) + pi*floor((sigma - pi/2)/pi)*sign(1 - lf_r)), Eq(v, 0) | (Eq(v, 0) & Eq(tan(sigma), 0))), (0, Eq(sigma, 0)), (-h*w_r*((1 - lf_r)*(tan(sigma)**2 + 1)/((1 - lf_r)**2*tan(sigma)**2 + 1) + sign(1 - lf_r)*Subs(Derivative(floor(_xi_1), _xi_1), _xi_1, (sigma - pi/2)/pi))*sqrt(lf_r**2*tan(sigma)**2 - 2*lf_r*tan(sigma)**2 + tan(sigma)**2 + 1)*sin(yaw + atan((1 - lf_r)*tan(sigma)) + pi*floor((sigma - pi/2)/pi)*sign(1 - lf_r))/tan(sigma) + h*w_r*(-tan(sigma)**2 - 1)*sqrt(lf_r**2*tan(sigma)**2 - 2*lf_r*tan(sigma)**2 + tan(sigma)**2 + 1)*cos(yaw + atan((1 - lf_r)*tan(sigma)) + pi*floor((sigma - pi/2)/pi)*sign(1 - lf_r))/tan(sigma)**2 - h*w_r*(-tan(sigma)**2 - 1)*sqrt(lf_r**2*tan(sigma)**2 - 2*lf_r*tan(sigma)**2 + tan(sigma)**2 + 1)*cos(dt*v*tan(sigma)/(h*w_r*sqrt((1 - lf_r)**2*tan(sigma)**2 + 1)) + yaw + atan((1 - lf_r)*tan(sigma)) + pi*floor((sigma - pi/2)/pi)*sign(1 - lf_r))/tan(sigma)**2 + h*w_r*(lf_r**2*(2*tan(sigma)**2 + 2)*tan(sigma)/2 - lf_r*(2*tan(sigma)**2 + 2)*tan(sigma) + (2*tan(sigma)**2 + 2)*tan(sigma)/2)*cos(yaw + atan((1 - lf_r)*tan(sigma)) + pi*floor((sigma - pi/2)/pi)*sign(1 - lf_r))/(sqrt(lf_r**2*tan(sigma)**2 - 2*lf_r*tan(sigma)**2 + tan(sigma)**2 + 1)*tan(sigma)) - h*w_r*(lf_r**2*(2*tan(sigma)**2 + 2)*tan(sigma)/2 - lf_r*(2*tan(sigma)**2 + 2)*tan(sigma) + (2*tan(sigma)**2 + 2)*tan(sigma)/2)*cos(dt*v*tan(sigma)/(h*w_r*sqrt((1 - lf_r)**2*tan(sigma)**2 + 1)) + yaw + atan((1 - lf_r)*tan(sigma)) + pi*floor((sigma - pi/2)/pi)*sign(1 - lf_r))/(sqrt(lf_r**2*tan(sigma)**2 - 2*lf_r*tan(sigma)**2 + tan(sigma)**2 + 1)*tan(sigma)) + h*w_r*sqrt(lf_r**2*tan(sigma)**2 - 2*lf_r*tan(sigma)**2 + tan(sigma)**2 + 1)*(-dt*v*(1 - lf_r)**2*(2*tan(sigma)**2 + 2)*tan(sigma)**2/(2*h*w_r*((1 - lf_r)**2*tan(sigma)**2 + 1)**(3/2)) + dt*v*(tan(sigma)**2 + 1)/(h*w_r*sqrt((1 - lf_r)**2*tan(sigma)**2 + 1)) + (1 - lf_r)*(tan(sigma)**2 + 1)/((1 - lf_r)**2*tan(sigma)**2 + 1) + sign(1 - lf_r)*Subs(Derivative(floor(_xi_1), _xi_1), _xi_1, (sigma - pi/2)/pi))*sin(dt*v*tan(sigma)/(h*w_r*sqrt((1 - lf_r)**2*tan(sigma)**2 + 1)) + yaw + atan((1 - lf_r)*tan(sigma)) + pi*floor((sigma - pi/2)/pi)*sign(1 - lf_r))/tan(sigma), True))],\n",
       "[0, 0, 1, 0,                                                                                                                                                                                                                                                                                                                                                                                                                                                                                                                                                                                                                                                                                                                                                                                                     0, 0,                                                                                                                                                                                                                                                                                                                                                                                                                                                        0,  0,                                                                                                                                                                                                                                                                                                                                                                                                                                                                                                                                                                                                                     0,                                                                                                                                                                                                                                                                                                                                                                                                                                                                                                                                                                                                                                                                                                                                                                                                                                                                                                                                                                                                                                                                                                                                                                                                                                                                                                                                                                                                                                                                                                                                                                                                                                                                                                                                                                                                                                                                                                                                                                                                                                                                                                                                                                                                                                                                                                                                                                                                                          0],\n",
       "[0, 0, 0, 1,                                                                                                                                                                                                                                                                                                                                                                                                                                                                                                                                                                                                                                                                                                                                                                                                     0, 0,                                                                                                                                                                                                                                                                                                                                                                                                                                                        0,  0,                                                                                                                                                                                                                                                                                                                                                                                                                                                                                                                                                                                                                     0,                                                                                                                                                                                                                                                                                                                                                                                                                                                                                                                                                                                                                                                                                                                                                                                                                                                                                                                                                                                                                                                                                                                                                                                                                                                                                                                                                                                                                                                                                                                                                                                                                                                                                                                                                                                                                                                                                                                                                                                                                                                                                                                                                                                                                                                                                                                                                                                                                          0],\n",
       "[0, 0, 0, 0,                                                                                                                                                                                                                                                                                                                                                                                                                                                                                                                                                                                                                                                                                                                                                                                                     1, 0,                                                                                                                                                                                                                                                                                                                                                                                                                                                        0,  0,                                                                                                                                                                                                                                                                                                                                                                                                                                                                                                                                                                                                                     0,                                                                                                                                                                                                                                                                                                                                                                                                                                                                                                                                                                                                                                                                                                                                                                                                                                                                                                                                                                                                                                                                                                                                                                                                                                                                                                                                                                                                                                                                                                                                                                                                                                                                                                                                                                                                                                                                                                                                                                                                                                                                                                                                                                                                                                                                                                                                                                                                                          0],\n",
       "[0, 0, 0, 0,                                                                                                                                                                                                                                                                                                                                                                                                                                                                                                                                                                                                                                                                                                                                                                                                     0, 1,                                                                                                                                                                                                                                                                                                                                                                                                                                                        0,  0,                                                                                                                                                                                                                                                                                                                                                                                                                                                                                                                                                                                                                     0,                                                                                                                                                                                                                                                                                                                                                                                                                                                                                                                                                                                                                                                                                                                                                                                                                                                                                                                                                                                                                                                                                                                                                                                                                                                                                                                                                                                                                                                                                                                                                                                                                                                                                                                                                                                                                                                                                                                                                                                                                                                                                                                                                                                                                                                                                                                                                                                                                          0],\n",
       "[0, 0, 0, 0,                                                                                                                                                                                                                                                                                                                                                                                                                                                                                                                                                                                                                                                                                                                                                                                                     0, 0,                                                                                                                                                                                                                                                                                                                                                                                                                                                        1, dt,                                                                                                                                                                                                                                                                                                                                                                                                                                                                                                                                                                                                                     0,                                                                                                                                                                                                                                                                                                                                                                                                                                                                                                                                                                                                                                                                                                                                                                                                                                                                                                                                                                                                                                                                                                                                                                                                                                                                                                                                                                                                                                                                                                                                                                                                                                                                                                                                                                                                                                                                                                                                                                                                                                                                                                                                                                                                                                                                                                                                                                                                                          0],\n",
       "[0, 0, 0, 0,                                                                                                                                                                                                                                                                                                                                                                                                                                                                                                                                                                                                                                                                                                                                                                                                     0, 0,                                                                                                                                                                                                                                                                                                                                                                                                                                                        0,  0,                                                                                                                                                                                                                                                                                                                                                                                                                                                                                                                                                                                                                     0,                                                                                                                                                                                                                                                                                                                                                                                                                                                                                                                                                                                                                                                                                                                                                                                                                                                                                                                                                                                                                                                                                                                                                                                                                                                                                                                                                                                                                                                                                                                                                                                                                                                                                                                                                                                                                                                                                                                                                                                                                                                                                                                                                                                                                                                                                                                                                                                                                          0],\n",
       "[0, 0, 0, 0,                                                                                                                                                                                                                                                                                                                                                                                                                                                                                                                                                                                                                                                                                                                                     -dt*v*tan(sigma)/(h**2*w_r*sqrt((1 - lf_r)**2*tan(sigma)**2 + 1)), 0,                                                                                                                                                                                                                                                                                                                                                                                              dt*tan(sigma)/(h*w_r*sqrt((1 - lf_r)**2*tan(sigma)**2 + 1)),  0,                                                                                                                                                                                                                                                                                                                                                                                                                                                                                                                                                                                                                     1,                                                                                                                                                                                                                                                                                                                                                                                                                                                                                                                                                                                                                                                                                                                                                                                                                                                                                                                                                                                                                                                                                                                                                                                                                                                                                                                                                                                                                                                                                                                                                                                                                                                                                                                                                                                                                                                                                                                                                                                                                                                                                                                                                                                                                                        -dt*v*(1 - lf_r)**2*(2*tan(sigma)**2 + 2)*tan(sigma)**2/(2*h*w_r*((1 - lf_r)**2*tan(sigma)**2 + 1)**(3/2)) + dt*v*(tan(sigma)**2 + 1)/(h*w_r*sqrt((1 - lf_r)**2*tan(sigma)**2 + 1))],\n",
       "[0, 0, 0, 0,                                                                                                                                                                                                                                                                                                                                                                                                                                                                                                                                                                                                                                                                                                                                                                                                     0, 0,                                                                                                                                                                                                                                                                                                                                                                                                                                                        0,  0,                                                                                                                                                                                                                                                                                                                                                                                                                                                                                                                                                                                                                     0,                                                                                                                                                                                                                                                                                                                                                                                                                                                                                                                                                                                                                                                                                                                                                                                                                                                                                                                                                                                                                                                                                                                                                                                                                                                                                                                                                                                                                                                                                                                                                                                                                                                                                                                                                                                                                                                                                                                                                                                                                                                                                                                                                                                                                                                                                                                                                                                                                          1]])"
      ]
     },
     "execution_count": 22,
     "metadata": {},
     "output_type": "execute_result"
    }
   ],
   "source": [
    "res"
   ]
  },
  {
   "cell_type": "code",
   "execution_count": 41,
   "metadata": {},
   "outputs": [],
   "source": [
    "mea_funcs = sym.Matrix([x, y, z, w, l, h, v * sym.cos(yaw), v * sym.sin(yaw), yaw])\n",
    "mea_res = mea_funcs.jacobian(args)"
   ]
  },
  {
   "cell_type": "code",
   "execution_count": 56,
   "metadata": {},
   "outputs": [
    {
     "data": {
      "text/plain": [
       "(Matrix([\n",
       " [1, 0, 0, 0, 0, 0,        0, 0,           0, 0],\n",
       " [0, 1, 0, 0, 0, 0,        0, 0,           0, 0],\n",
       " [0, 0, 1, 0, 0, 0,        0, 0,           0, 0],\n",
       " [0, 0, 0, 1, 0, 0,        0, 0,           0, 0],\n",
       " [0, 0, 0, 0, 1, 0,        0, 0,           0, 0],\n",
       " [0, 0, 0, 0, 0, 1,        0, 0,           0, 0],\n",
       " [0, 0, 0, 0, 0, 0, cos(yaw), 0, -v*sin(yaw), 0],\n",
       " [0, 0, 0, 0, 0, 0, sin(yaw), 0,  v*cos(yaw), 0],\n",
       " [0, 0, 0, 0, 0, 0,        0, 0,           1, 0]]),\n",
       " Matrix([\n",
       " [1, 0, 0, 0, 0, 0,        0, 0,           0, 0],\n",
       " [0, 1, 0, 0, 0, 0,        0, 0,           0, 0],\n",
       " [0, 0, 1, 0, 0, 0,        0, 0,           0, 0],\n",
       " [0, 0, 0, 1, 0, 0,        0, 0,           0, 0],\n",
       " [0, 0, 0, 0, 1, 0,        0, 0,           0, 0],\n",
       " [0, 0, 0, 0, 0, 1,        0, 0,           0, 0],\n",
       " [0, 0, 0, 0, 0, 0, cos(yaw), 0, -v*sin(yaw), 0],\n",
       " [0, 0, 0, 0, 0, 0, sin(yaw), 0,  v*cos(yaw), 0],\n",
       " [0, 0, 0, 0, 0, 0,        0, 0,           1, 0]]))"
      ]
     },
     "execution_count": 56,
     "metadata": {},
     "output_type": "execute_result"
    }
   ],
   "source": [
    "mea_res, mea_res"
   ]
  },
  {
   "cell_type": "code",
   "execution_count": 43,
   "metadata": {},
   "outputs": [],
   "source": [
    "yaw_sin, yaw_cos, dt, a, v = np.sin(1), np.cos(1), 1, 1, 1\n",
    "theta, omega = 1, 1\n",
    "ry_rate_inv, ry_rate_inv_square, ry_rate_inv_cube = 1 / omega, 1 / (omega * omega), 1 / (omega * omega * omega)\n",
    "next_v, next_ry = v + a * dt, theta + omega * dt\n",
    "next_yaw_sin, next_yaw_cos = np.sin(next_ry), np.cos(next_ry)"
   ]
  },
  {
   "cell_type": "code",
   "execution_count": 49,
   "metadata": {},
   "outputs": [],
   "source": [
    "F = np.mat([[1, 0, 0, 0, 0, 0,  -ry_rate_inv*(yaw_sin-next_yaw_sin),   -ry_rate_inv_square*(yaw_cos-next_yaw_cos)+ry_rate_inv*dt*next_yaw_sin,        ry_rate_inv_square*a*(yaw_sin-next_yaw_sin)+ry_rate_inv*(next_v*next_yaw_cos-v*yaw_cos),  ry_rate_inv_cube*2*a*(yaw_cos-next_yaw_cos)+ry_rate_inv_square*(v*yaw_sin-v*next_yaw_sin-2*a*dt*next_yaw_sin)+ry_rate_inv*dt*next_v*next_yaw_cos ],\n",
    "                        [0, 1, 0, 0, 0, 0,   ry_rate_inv*(yaw_cos-next_yaw_cos),   -ry_rate_inv_square*(yaw_sin-next_yaw_sin)-ry_rate_inv*dt*next_yaw_cos,        ry_rate_inv_square*a*(-yaw_cos+next_yaw_cos)+ry_rate_inv*(next_v*next_yaw_sin-v*yaw_sin), ry_rate_inv_cube*2*a*(yaw_sin-next_yaw_sin)+ry_rate_inv_square*(v*next_yaw_cos-v*yaw_cos+2*a*dt*next_yaw_cos)+ry_rate_inv*dt*next_v*next_yaw_sin ],\n",
    "                        [0, 0, 1, 0, 0, 0,           0,                 0,                            0,  0],\n",
    "                        [0, 0, 0, 1, 0, 0,           0,                 0,                            0,  0],\n",
    "                        [0, 0, 0, 0, 1, 0,           0,                 0,                            0,  0],\n",
    "                        [0, 0, 0, 0, 0, 1,           0,                 0,                            0,  0],\n",
    "                        [0, 0, 0, 0, 0, 0,           1,                dt,                            0,  0],\n",
    "                        [0, 0, 0, 0, 0, 0,           0,                 1,                            0,  0],\n",
    "                        [0, 0, 0, 0, 0, 0,           0,                 0,                            1, dt],\n",
    "                        [0, 0, 0, 0, 0, 0,           0,                 0,                            0,  1]])\n",
    "                   "
   ]
  },
  {
   "cell_type": "code",
   "execution_count": 54,
   "metadata": {},
   "outputs": [],
   "source": [
    "displacement = v * dt + a * dt ** 2 / 2\n",
    "F = np.mat([[1, 0, 0, 0, 0, 0,  dt*yaw_cos,   dt**2*yaw_cos/2,        -displacement*yaw_sin,  0],\n",
    "            [0, 1, 0, 0, 0, 0,  dt*yaw_sin,   dt**2*yaw_sin/2,         displacement*yaw_cos,  0],\n",
    "            [0, 0, 1, 0, 0, 0,           0,                 0,                            0,  0],\n",
    "            [0, 0, 0, 1, 0, 0,           0,                 0,                            0,  0],\n",
    "            [0, 0, 0, 0, 1, 0,           0,                 0,                            0,  0],\n",
    "            [0, 0, 0, 0, 0, 1,           0,                 0,                            0,  0],\n",
    "            [0, 0, 0, 0, 0, 0,           1,                dt,                            0,  0],\n",
    "            [0, 0, 0, 0, 0, 0,           0,                 1,                            0,  0],\n",
    "            [0, 0, 0, 0, 0, 0,           0,                 0,                            1, dt],\n",
    "            [0, 0, 0, 0, 0, 0,           0,                 0,                            0,  1]])"
   ]
  },
  {
   "cell_type": "code",
   "execution_count": 30,
   "metadata": {},
   "outputs": [
    {
     "data": {
      "text/latex": [
       "$\\displaystyle \\left[\\begin{matrix}1.0 & 0 & 0 & 0 & 0 & 0 & 0.0678264420177852 & -0.0471517155896004 & -1.44042242098021 & -0.805816683932869\\\\0 & 1.0 & 0 & 0 & 0 & 0 & 0.956449142415282 & 0.483973278564928 & 0.0206747264281848 & -0.105800845893774\\\\0 & 0 & 1.0 & 0 & 0 & 0 & 0 & 0 & 0 & 0\\\\0 & 0 & 0 & 1.0 & 0 & 0 & 0 & 0 & 0 & 0\\\\0 & 0 & 0 & 0 & 1.0 & 0 & 0 & 0 & 0 & 0\\\\0 & 0 & 0 & 0 & 0 & 1.0 & 0 & 0 & 0 & 0\\\\0 & 0 & 0 & 0 & 0 & 0 & 1.0 & 1.0 & 0 & 0\\\\0 & 0 & 0 & 0 & 0 & 0 & 0 & 1.0 & 0 & 0\\\\0 & 0 & 0 & 0 & 0 & 0 & 0 & 0 & 1.0 & 1.0\\\\0 & 0 & 0 & 0 & 0 & 0 & 0 & 0 & 0 & 1.0\\end{matrix}\\right]$"
      ],
      "text/plain": [
       "Matrix([\n",
       "[1.0,   0,   0,   0,   0,   0, 0.0678264420177852, -0.0471517155896004,  -1.44042242098021, -0.805816683932869],\n",
       "[  0, 1.0,   0,   0,   0,   0,  0.956449142415282,   0.483973278564928, 0.0206747264281848, -0.105800845893774],\n",
       "[  0,   0, 1.0,   0,   0,   0,                  0,                   0,                  0,                  0],\n",
       "[  0,   0,   0, 1.0,   0,   0,                  0,                   0,                  0,                  0],\n",
       "[  0,   0,   0,   0, 1.0,   0,                  0,                   0,                  0,                  0],\n",
       "[  0,   0,   0,   0,   0, 1.0,                  0,                   0,                  0,                  0],\n",
       "[  0,   0,   0,   0,   0,   0,                1.0,                 1.0,                  0,                  0],\n",
       "[  0,   0,   0,   0,   0,   0,                  0,                 1.0,                  0,                  0],\n",
       "[  0,   0,   0,   0,   0,   0,                  0,                   0,                1.0,                1.0],\n",
       "[  0,   0,   0,   0,   0,   0,                  0,                   0,                  0,                1.0]])"
      ]
     },
     "execution_count": 30,
     "metadata": {},
     "output_type": "execute_result"
    }
   ],
   "source": [
    "res.evalf(subs ={'dt':1, 'v':1, 'a':1, 'ry_rate':1, 'yaw':1})"
   ]
  },
  {
   "cell_type": "code",
   "execution_count": 55,
   "metadata": {},
   "outputs": [
    {
     "data": {
      "text/latex": [
       "$\\displaystyle \\left[\\begin{matrix}0 & 0 & 0 & 0 & 0 & 0 & 0 & 0 & 0 & 0\\\\0 & 0 & 0 & 0 & 0 & 0 & 0 & 0 & 1.11022302462516 \\cdot 10^{-16} & 0\\\\0 & 0 & 0 & 0 & 0 & 0 & 0 & 0 & 0 & 0\\\\0 & 0 & 0 & 0 & 0 & 0 & 0 & 0 & 0 & 0\\\\0 & 0 & 0 & 0 & 0 & 0 & 0 & 0 & 0 & 0\\\\0 & 0 & 0 & 0 & 0 & 0 & 0 & 0 & 0 & 0\\\\0 & 0 & 0 & 0 & 0 & 0 & 0 & 0 & 0 & 0\\\\0 & 0 & 0 & 0 & 0 & 0 & 0 & 0 & 0 & 0\\\\0 & 0 & 0 & 0 & 0 & 0 & 0 & 0 & 0 & 0\\\\0 & 0 & 0 & 0 & 0 & 0 & 0 & 0 & 0 & 0\\end{matrix}\\right]$"
      ],
      "text/plain": [
       "Matrix([\n",
       "[0, 0, 0, 0, 0, 0, 0, 0,                    0, 0],\n",
       "[0, 0, 0, 0, 0, 0, 0, 0, 1.11022302462516e-16, 0],\n",
       "[0, 0, 0, 0, 0, 0, 0, 0,                    0, 0],\n",
       "[0, 0, 0, 0, 0, 0, 0, 0,                    0, 0],\n",
       "[0, 0, 0, 0, 0, 0, 0, 0,                    0, 0],\n",
       "[0, 0, 0, 0, 0, 0, 0, 0,                    0, 0],\n",
       "[0, 0, 0, 0, 0, 0, 0, 0,                    0, 0],\n",
       "[0, 0, 0, 0, 0, 0, 0, 0,                    0, 0],\n",
       "[0, 0, 0, 0, 0, 0, 0, 0,                    0, 0],\n",
       "[0, 0, 0, 0, 0, 0, 0, 0,                    0, 0]])"
      ]
     },
     "execution_count": 55,
     "metadata": {},
     "output_type": "execute_result"
    }
   ],
   "source": [
    "F - res.evalf(subs ={'dt':1, 'v':1, 'a':1, 'ry_rate':0, 'yaw':1})"
   ]
  },
  {
   "cell_type": "code",
   "execution_count": 51,
   "metadata": {},
   "outputs": [],
   "source": [
    "F = np.mat([[1, 0, 0, 0, 0, 0,  -ry_rate_inv*(yaw_sin-next_yaw_sin),   -ry_rate_inv_square*(yaw_cos-next_yaw_cos)+ry_rate_inv*dt*next_yaw_sin,        ry_rate_inv_square*a*(yaw_sin-next_yaw_sin)+ry_rate_inv*(next_v*next_yaw_cos-v*yaw_cos),  ry_rate_inv_cube*2*a*(yaw_cos-next_yaw_cos)+ry_rate_inv_square*(v*yaw_sin-v*next_yaw_sin-2*a*dt*next_yaw_sin)+ry_rate_inv*dt*next_v*next_yaw_cos ],\n",
    "                        [0, 1, 0, 0, 0, 0,   ry_rate_inv*(yaw_cos-next_yaw_cos),   -ry_rate_inv_square*(yaw_sin-next_yaw_sin)-ry_rate_inv*dt*next_yaw_cos,        ry_rate_inv_square*a*(-yaw_cos+next_yaw_cos)+ry_rate_inv*(next_v*next_yaw_sin-v*yaw_sin), ry_rate_inv_cube*2*a*(yaw_sin-next_yaw_sin)+ry_rate_inv_square*(v*next_yaw_cos-v*yaw_cos+2*a*dt*next_yaw_cos)+ry_rate_inv*dt*next_v*next_yaw_sin ],\n",
    "                        [0, 0, 1, 0, 0, 0,           0,                 0,                            0,  0],\n",
    "                        [0, 0, 0, 1, 0, 0,           0,                 0,                            0,  0],\n",
    "                        [0, 0, 0, 0, 1, 0,           0,                 0,                            0,  0],\n",
    "                        [0, 0, 0, 0, 0, 1,           0,                 0,                            0,  0],\n",
    "                        [0, 0, 0, 0, 0, 0,           1,                dt,                            0,  0],\n",
    "                        [0, 0, 0, 0, 0, 0,           0,                 1,                            0,  0],\n",
    "                        [0, 0, 0, 0, 0, 0,           0,                 0,                            1, dt],\n",
    "                        [0, 0, 0, 0, 0, 0,           0,                 0,                            0,  1]])\n",
    "                                "
   ]
  },
  {
   "cell_type": "code",
   "execution_count": 8,
   "metadata": {},
   "outputs": [],
   "source": [
    "mea_funcs = sym.Matrix([x, y, z, w, l, h, yaw])\n",
    "mea_res = mea_funcs.jacobian(args)"
   ]
  },
  {
   "cell_type": "code",
   "execution_count": 9,
   "metadata": {},
   "outputs": [
    {
     "data": {
      "text/latex": [
       "$\\displaystyle \\left[\\begin{matrix}1 & 0 & 0 & 0 & 0 & 0 & 0 & 0 & 0 & 0\\\\0 & 1 & 0 & 0 & 0 & 0 & 0 & 0 & 0 & 0\\\\0 & 0 & 1 & 0 & 0 & 0 & 0 & 0 & 0 & 0\\\\0 & 0 & 0 & 1 & 0 & 0 & 0 & 0 & 0 & 0\\\\0 & 0 & 0 & 0 & 1 & 0 & 0 & 0 & 0 & 0\\\\0 & 0 & 0 & 0 & 0 & 1 & 0 & 0 & 0 & 0\\\\0 & 0 & 0 & 0 & 0 & 0 & 0 & 0 & 1 & 0\\end{matrix}\\right]$"
      ],
      "text/plain": [
       "Matrix([\n",
       "[1, 0, 0, 0, 0, 0, 0, 0, 0, 0],\n",
       "[0, 1, 0, 0, 0, 0, 0, 0, 0, 0],\n",
       "[0, 0, 1, 0, 0, 0, 0, 0, 0, 0],\n",
       "[0, 0, 0, 1, 0, 0, 0, 0, 0, 0],\n",
       "[0, 0, 0, 0, 1, 0, 0, 0, 0, 0],\n",
       "[0, 0, 0, 0, 0, 1, 0, 0, 0, 0],\n",
       "[0, 0, 0, 0, 0, 0, 0, 0, 1, 0]])"
      ]
     },
     "execution_count": 9,
     "metadata": {},
     "output_type": "execute_result"
    }
   ],
   "source": [
    "mea_res"
   ]
  },
  {
   "cell_type": "code",
   "execution_count": null,
   "metadata": {},
   "outputs": [],
   "source": []
  }
 ],
 "metadata": {
  "kernelspec": {
   "display_name": "Python 3 (ipykernel)",
   "language": "python",
   "name": "python3"
  },
  "language_info": {
   "codemirror_mode": {
    "name": "ipython",
    "version": 3
   },
   "file_extension": ".py",
   "mimetype": "text/x-python",
   "name": "python",
   "nbconvert_exporter": "python",
   "pygments_lexer": "ipython3",
   "version": "3.7.16"
  }
 },
 "nbformat": 4,
 "nbformat_minor": 2
}
